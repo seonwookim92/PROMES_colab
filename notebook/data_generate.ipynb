{
 "cells": [
  {
   "cell_type": "code",
   "execution_count": 1,
   "metadata": {},
   "outputs": [
    {
     "name": "stdout",
     "output_type": "stream",
     "text": [
      "Base Path: /Users/swkim/Documents/coding/thesis/PROMES_colab/notebook/..\n"
     ]
    }
   ],
   "source": [
    "import os, sys\n",
    "\n",
    "base_path = os.path.join(os.getcwd(), \"..\")\n",
    "print(f\"Base Path: {base_path}\")\n",
    "sys.path.append(base_path)"
   ]
  },
  {
   "attachments": {},
   "cell_type": "markdown",
   "metadata": {},
   "source": [
    "# Data Generation"
   ]
  },
  {
   "attachments": {},
   "cell_type": "markdown",
   "metadata": {},
   "source": [
    "## 1. 1-label data generation"
   ]
  },
  {
   "cell_type": "code",
   "execution_count": 2,
   "metadata": {},
   "outputs": [],
   "source": [
    "# Load gym environment\n",
    "import gym\n",
    "from kube_sim_gym import *\n",
    "from kube_sim_gym.envs.sim_kube_env import SimKubeEnv"
   ]
  },
  {
   "cell_type": "code",
   "execution_count": 3,
   "metadata": {},
   "outputs": [],
   "source": [
    "from kube_hr_scheduler.scheduler.sim_hr_scheduler import SimHrScheduler\n",
    "from kube_hr_scheduler.strategies.model.default import Model"
   ]
  },
  {
   "cell_type": "code",
   "execution_count": 4,
   "metadata": {},
   "outputs": [],
   "source": [
    "env = gym.make('SimKubeEnv-v0')\n",
    "scheduler = SimHrScheduler(env, 'default.py')"
   ]
  },
  {
   "cell_type": "code",
   "execution_count": null,
   "metadata": {},
   "outputs": [],
   "source": [
    "# Data generation\n",
    "# Data consists of state, scheduler decision\n",
    "data_size = 1000000\n",
    "data_path = os.path.join(base_path, \"dataset\", \"data_1.csv\")\n",
    "with open(data_path, 'w') as f:\n",
    "    for i in range(data_size):\n",
    "        state = list(env.random_state_gen())\n",
    "        action = scheduler.decision(env)\n",
    "        data = state + [action]\n",
    "        f.write(','.join(list(map(str,data))) + '\\n')"
   ]
  },
  {
   "attachments": {},
   "cell_type": "markdown",
   "metadata": {},
   "source": [
    "## 2. 6-confidence data generation"
   ]
  },
  {
   "cell_type": "code",
   "execution_count": 7,
   "metadata": {},
   "outputs": [],
   "source": [
    "# Load gym environment\n",
    "import gym\n",
    "from kube_sim_gym import *\n",
    "from kube_sim_gym.envs.sim_kube_env import SimKubeEnv"
   ]
  },
  {
   "cell_type": "code",
   "execution_count": 8,
   "metadata": {},
   "outputs": [],
   "source": [
    "from kube_hr_scheduler.scheduler.sim_hr_scheduler import SimHrScheduler\n",
    "from kube_hr_scheduler.strategies.model.default import Model"
   ]
  },
  {
   "cell_type": "code",
   "execution_count": 9,
   "metadata": {},
   "outputs": [],
   "source": [
    "env = gym.make('SimKubeEnv-v0')\n",
    "scheduler = SimHrScheduler(env, 'default.py')"
   ]
  },
  {
   "cell_type": "code",
   "execution_count": null,
   "metadata": {},
   "outputs": [],
   "source": [
    "# Data generation\n",
    "# Data consists of state, scheduler decision\n",
    "data_size = 1000000\n",
    "data_path = os.path.join(base_path, \"dataset\", \"data_5.csv\")\n",
    "with open(data_path, 'w') as f:\n",
    "    for i in range(data_size):\n",
    "        state = list(env.random_state_gen())\n",
    "        confidence = scheduler.model.get_confidence(env)\n",
    "        data = state + confidence.tolist()\n",
    "        f.write(','.join(list(map(str,data))) + '\\n')"
   ]
  },
  {
   "attachments": {},
   "cell_type": "markdown",
   "metadata": {},
   "source": [
    "## 3. 1-confidence data generation"
   ]
  },
  {
   "cell_type": "code",
   "execution_count": 3,
   "metadata": {},
   "outputs": [],
   "source": [
    "import torch\n",
    "import torch.nn as nn\n",
    "import torch.nn.functional as F\n",
    "from kube_mm_scheduler.model.net3 import Net3\n",
    "\n",
    "net3 = Net3()"
   ]
  },
  {
   "cell_type": "code",
   "execution_count": 4,
   "metadata": {},
   "outputs": [],
   "source": [
    "# predict the score for each action\n",
    "def predict_score(data, model=net3):\n",
    "    model.eval()\n",
    "    if not torch.is_tensor(data):\n",
    "        data = torch.tensor(data, dtype=torch.float32)\n",
    "    data10 = data[:, :-2]\n",
    "    data2 = data[:, -2:]\n",
    "    output = model(data10, data2)\n",
    "    # Round up at the 4th decimal point\n",
    "    output = torch.round(output * 10000) / 10000\n",
    "    # # Softmax\n",
    "    # output = F.softmax(output, dim=1)\n",
    "    # print(output)\n",
    "    return output"
   ]
  },
  {
   "cell_type": "code",
   "execution_count": 5,
   "metadata": {},
   "outputs": [
    {
     "ename": "KeyboardInterrupt",
     "evalue": "",
     "output_type": "error",
     "traceback": [
      "\u001b[0;31m---------------------------------------------------------------------------\u001b[0m",
      "\u001b[0;31mKeyboardInterrupt\u001b[0m                         Traceback (most recent call last)",
      "Cell \u001b[0;32mIn[5], line 15\u001b[0m\n\u001b[1;32m     13\u001b[0m flt_state \u001b[39m=\u001b[39m \u001b[39mlist\u001b[39m(\u001b[39mmap\u001b[39m(\u001b[39mfloat\u001b[39m, node_state\u001b[39m+\u001b[39mpod_quota))\n\u001b[1;32m     14\u001b[0m \u001b[39m# print(flt_state)\u001b[39;00m\n\u001b[0;32m---> 15\u001b[0m confidence \u001b[39m=\u001b[39m predict_score([flt_state])\n\u001b[1;32m     17\u001b[0m \u001b[39mfor\u001b[39;00m i \u001b[39min\u001b[39;00m \u001b[39mrange\u001b[39m(\u001b[39m5\u001b[39m):\n\u001b[1;32m     18\u001b[0m     selected_node_state \u001b[39m=\u001b[39m node_state[i\u001b[39m*\u001b[39m\u001b[39m2\u001b[39m:i\u001b[39m*\u001b[39m\u001b[39m2\u001b[39m\u001b[39m+\u001b[39m\u001b[39m2\u001b[39m]\n",
      "Cell \u001b[0;32mIn[4], line 5\u001b[0m, in \u001b[0;36mpredict_score\u001b[0;34m(data, model)\u001b[0m\n\u001b[1;32m      3\u001b[0m model\u001b[39m.\u001b[39meval()\n\u001b[1;32m      4\u001b[0m \u001b[39mif\u001b[39;00m \u001b[39mnot\u001b[39;00m torch\u001b[39m.\u001b[39mis_tensor(data):\n\u001b[0;32m----> 5\u001b[0m     data \u001b[39m=\u001b[39m torch\u001b[39m.\u001b[39;49mtensor(data, dtype\u001b[39m=\u001b[39;49mtorch\u001b[39m.\u001b[39;49mfloat32)\n\u001b[1;32m      6\u001b[0m data10 \u001b[39m=\u001b[39m data[:, :\u001b[39m-\u001b[39m\u001b[39m2\u001b[39m]\n\u001b[1;32m      7\u001b[0m data2 \u001b[39m=\u001b[39m data[:, \u001b[39m-\u001b[39m\u001b[39m2\u001b[39m:]\n",
      "\u001b[0;31mKeyboardInterrupt\u001b[0m: "
     ]
    }
   ],
   "source": [
    "# Read from data_1.csv and formulate data_3.csv which has additional selected node information\n",
    "src_path = os.path.join(base_path, \"dataset\", \"data_1.csv\")\n",
    "with open(src_path, 'r') as f:\n",
    "    data_path = os.path.join(base_path, \"dataset\", \"data_3.csv\")\n",
    "    with open(data_path, 'w') as g:\n",
    "        for line in f.readlines():\n",
    "            line = line.strip()\n",
    "            line = line.split(',')\n",
    "            node_state = line[:-3]\n",
    "            pod_quota = line[-3:-1]\n",
    "\n",
    "            # Confidence\n",
    "            flt_state = list(map(float, node_state+pod_quota))\n",
    "            # print(flt_state)\n",
    "            confidence = predict_score([flt_state])\n",
    "\n",
    "            for i in range(5):\n",
    "                selected_node_state = node_state[i*2:i*2+2]\n",
    "                new_state = node_state + pod_quota + selected_node_state\n",
    "                conf = confidence[0].tolist()[i+1]\n",
    "                # Takes the 4th decimal point\n",
    "                conf = round(conf, 4)\n",
    "                \n",
    "                new_data = new_state + [conf]\n",
    "                g.write(','.join(list(map(str,new_data))) + '\\n')"
   ]
  },
  {
   "attachments": {},
   "cell_type": "markdown",
   "metadata": {},
   "source": [
    "# 4. 6-reward data generation"
   ]
  },
  {
   "cell_type": "code",
   "execution_count": 2,
   "metadata": {},
   "outputs": [],
   "source": [
    "# Load gym environment\n",
    "import gym\n",
    "from kube_sim_gym import *\n",
    "from kube_sim_gym.envs.sim_kube_env import SimKubeEnv"
   ]
  },
  {
   "cell_type": "code",
   "execution_count": 3,
   "metadata": {},
   "outputs": [],
   "source": [
    "from kube_hr_scheduler.scheduler.sim_hr_scheduler import SimHrScheduler\n",
    "from kube_hr_scheduler.strategies.model.default import Model"
   ]
  },
  {
   "cell_type": "code",
   "execution_count": 4,
   "metadata": {},
   "outputs": [
    {
     "name": "stdout",
     "output_type": "stream",
     "text": [
      "Base Path: /Users/swkim/Documents/coding/thesis/PROMES_colab/notebook/..\n"
     ]
    }
   ],
   "source": [
    "env = gym.make('SimKubeEnv-v0', reward_file='train_dynamic.py')\n",
    "scheduler = SimHrScheduler(env, 'default.py')"
   ]
  },
  {
   "cell_type": "code",
   "execution_count": 5,
   "metadata": {},
   "outputs": [
    {
     "name": "stderr",
     "output_type": "stream",
     "text": [
      " 16%|█▌        | 159051/1000000 [1:36:41<17:43:41, 13.18it/s]"
     ]
    }
   ],
   "source": [
    "import tqdm\n",
    "\n",
    "data_size = 1000000\n",
    "data_path = os.path.join(base_path, \"dataset\", \"data_4.csv\")\n",
    "\n",
    "with open(data_path, 'w') as f:\n",
    "    for i in tqdm.tqdm(range(data_size)):\n",
    "        env.reset()\n",
    "        state = list(env.random_state_gen())\n",
    "        # print(f\"State: {state}\")\n",
    "\n",
    "        env0 = env.duplicate() # For action 0\n",
    "        env1 = env.duplicate() # For action 1\n",
    "        env2 = env.duplicate() # For action 2\n",
    "        env3 = env.duplicate() # For action 3\n",
    "        env4 = env.duplicate() # For action 4\n",
    "        env5 = env.duplicate() # For action 5\n",
    "\n",
    "        state0, rew0, _, _ = env0.step(0, True)\n",
    "        # print(f\"Action 0\")\n",
    "        # print(f\"State0: {state0}\")\n",
    "        # print(\"====================\")\n",
    "        state1, rew1, _, _ = env1.step(1, True)\n",
    "        # print(f\"Action 1\")\n",
    "        # print(f\"State1: {state1}\") \n",
    "        # print(\"====================\")\n",
    "        state2, rew2, _, _ = env2.step(2, True)\n",
    "        # print(f\"Action 2\")\n",
    "        # print(f\"State2: {state2}\")\n",
    "        # print(\"====================\")\n",
    "        state3, rew3, _, _ = env3.step(3, True)\n",
    "        # print(f\"Action 3\")\n",
    "        # print(f\"State3: {state3}\")\n",
    "        # print(\"====================\")\n",
    "        state4, rew4, _, _ = env4.step(4, True)\n",
    "        # print(f\"Action 4\")\n",
    "        # print(f\"State4: {state4}\")\n",
    "        # print(\"====================\")\n",
    "        state5, rew5, _, _ = env5.step(5, True)\n",
    "        # print(f\"Action 5\")\n",
    "        # print(f\"State5: {state5}\")\n",
    "\n",
    "        reward = [rew0, rew1, rew2, rew3, rew4, rew5]\n",
    "        # Round up at the 4th decimal point\n",
    "        reward = list(map(lambda x: round(x, 4), reward))\n",
    "        \n",
    "        f.write(','.join(list(map(str,state))) + '  ,  ' + ','.join(list(map(str,reward))) + '\\n')"
   ]
  },
  {
   "cell_type": "code",
   "execution_count": null,
   "metadata": {},
   "outputs": [
    {
     "data": {
      "text/plain": [
       "0.1243402113209463"
      ]
     },
     "execution_count": 26,
     "metadata": {},
     "output_type": "execute_result"
    }
   ],
   "source": [
    "import numpy as np\n",
    "\n",
    "np.random.random()"
   ]
  },
  {
   "cell_type": "code",
   "execution_count": null,
   "metadata": {},
   "outputs": [],
   "source": []
  },
  {
   "cell_type": "code",
   "execution_count": null,
   "metadata": {},
   "outputs": [],
   "source": []
  }
 ],
 "metadata": {
  "kernelspec": {
   "display_name": "kube-gym",
   "language": "python",
   "name": "python3"
  },
  "language_info": {
   "codemirror_mode": {
    "name": "ipython",
    "version": 3
   },
   "file_extension": ".py",
   "mimetype": "text/x-python",
   "name": "python",
   "nbconvert_exporter": "python",
   "pygments_lexer": "ipython3",
   "version": "3.8.16"
  },
  "orig_nbformat": 4
 },
 "nbformat": 4,
 "nbformat_minor": 2
}
