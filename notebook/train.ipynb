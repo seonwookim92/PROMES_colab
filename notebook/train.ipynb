{
 "cells": [
  {
   "attachments": {},
   "cell_type": "markdown",
   "metadata": {},
   "source": [
    "### Run this first!!"
   ]
  },
  {
   "cell_type": "code",
   "execution_count": 1,
   "metadata": {},
   "outputs": [
    {
     "name": "stdout",
     "output_type": "stream",
     "text": [
      "Base Path: /Users/swkim/Documents/coding/thesis/PROMES_colab/notebook/..\n"
     ]
    }
   ],
   "source": [
    "import os, sys\n",
    "\n",
    "base_path = os.path.join(os.getcwd(), \"..\")\n",
    "print(f\"Base Path: {base_path}\")\n",
    "sys.path.append(base_path)"
   ]
  },
  {
   "attachments": {},
   "cell_type": "markdown",
   "metadata": {},
   "source": [
    "# Step 1:\n",
    "First network trained to represent pod(2)+nodes(5x2)"
   ]
  },
  {
   "attachments": {},
   "cell_type": "markdown",
   "metadata": {},
   "source": [
    "## Step1_1: \n",
    "Naive approach"
   ]
  },
  {
   "attachments": {},
   "cell_type": "markdown",
   "metadata": {},
   "source": [
    "### Dataset"
   ]
  },
  {
   "cell_type": "code",
   "execution_count": 2,
   "metadata": {},
   "outputs": [
    {
     "name": "stderr",
     "output_type": "stream",
     "text": [
      "/Users/swkim/opt/anaconda3/envs/kube-gym/lib/python3.8/site-packages/tqdm/auto.py:21: TqdmWarning: IProgress not found. Please update jupyter and ipywidgets. See https://ipywidgets.readthedocs.io/en/stable/user_install.html\n",
      "  from .autonotebook import tqdm as notebook_tqdm\n"
     ]
    }
   ],
   "source": [
    "import torch\n",
    "from torch.utils.data import Dataset, DataLoader\n",
    "\n",
    "import pandas as pd"
   ]
  },
  {
   "cell_type": "code",
   "execution_count": 20,
   "metadata": {},
   "outputs": [],
   "source": [
    "class Dataset1(Dataset):\n",
    "    def __init__(self, csv_path, train=True):\n",
    "        self.data = pd.read_csv(csv_path)\n",
    "\n",
    "        if train:\n",
    "            self.data = self.data.sample(frac=0.8, random_state=42)\n",
    "        else:\n",
    "            self.data = self.data.drop(self.data.sample(frac=0.8, random_state=42).index)\n",
    "\n",
    "        self.data = self.transform(self.data)\n",
    "        self.input = self.data[:, :-1]\n",
    "        self.label = self.data[:, -1]\n",
    "        # Long tensor for cross entropy loss\n",
    "        self.label = torch.tensor(self.label, dtype=torch.long)\n",
    "\n",
    "    def transform(self, data):\n",
    "        return torch.tensor(data.values, dtype=torch.float32)\n",
    "\n",
    "    def __len__(self):\n",
    "        return len(self.data)\n",
    "    \n",
    "    def __getitem__(self, idx):\n",
    "        return self.input[idx], self.label[idx]"
   ]
  },
  {
   "cell_type": "code",
   "execution_count": 21,
   "metadata": {},
   "outputs": [
    {
     "name": "stderr",
     "output_type": "stream",
     "text": [
      "/var/folders/gl/n3l9mrsx1jz4xhb0rsxhj8980000gn/T/ipykernel_28534/1360674818.py:14: UserWarning: To copy construct from a tensor, it is recommended to use sourceTensor.clone().detach() or sourceTensor.clone().detach().requires_grad_(True), rather than torch.tensor(sourceTensor).\n",
      "  self.label = torch.tensor(self.label, dtype=torch.long)\n",
      "/var/folders/gl/n3l9mrsx1jz4xhb0rsxhj8980000gn/T/ipykernel_28534/1360674818.py:14: UserWarning: To copy construct from a tensor, it is recommended to use sourceTensor.clone().detach() or sourceTensor.clone().detach().requires_grad_(True), rather than torch.tensor(sourceTensor).\n",
      "  self.label = torch.tensor(self.label, dtype=torch.long)\n"
     ]
    }
   ],
   "source": [
    "data_path = os.path.join(base_path, \"dataset\", \"data_1.csv\")\n",
    "train_dataset1 = Dataset1(data_path, train=True)\n",
    "test_dataset1 = Dataset1(data_path, train=False)\n",
    "train_dataloader1 = DataLoader(train_dataset1, batch_size=32, shuffle=False)\n",
    "test_dataloader1 = DataLoader(test_dataset1, batch_size=32, shuffle=False)"
   ]
  },
  {
   "cell_type": "code",
   "execution_count": 22,
   "metadata": {},
   "outputs": [
    {
     "name": "stdout",
     "output_type": "stream",
     "text": [
      "torch.Size([32, 12]) torch.Size([32])\n",
      "tensor([[0.5300, 0.8300, 0.0100, 0.8400, 0.3500, 0.0700, 0.5900, 0.5400, 0.3600,\n",
      "         0.7100, 0.2300, 0.2400],\n",
      "        [0.7500, 0.8700, 0.7100, 0.4800, 0.4900, 0.7500, 0.0100, 0.1100, 0.5800,\n",
      "         0.9600, 0.1400, 0.4000],\n",
      "        [0.2400, 0.8400, 0.6700, 0.0100, 0.2400, 0.7300, 0.8500, 0.4100, 0.1500,\n",
      "         0.8600, 0.3600, 0.2900],\n",
      "        [0.7200, 0.2800, 0.5000, 0.0800, 0.1300, 0.4200, 0.8200, 0.1100, 0.8400,\n",
      "         1.0000, 0.4900, 0.3100],\n",
      "        [0.3300, 0.2700, 0.4000, 0.2000, 0.2400, 0.8600, 0.9800, 0.0700, 0.7000,\n",
      "         0.7900, 0.2800, 0.2700],\n",
      "        [0.1300, 0.3500, 0.2000, 0.2400, 0.3300, 0.7800, 0.6100, 0.9200, 0.4300,\n",
      "         0.3200, 0.4500, 0.1100],\n",
      "        [0.5900, 0.8000, 0.8100, 0.6900, 0.5100, 0.8400, 0.1500, 0.8600, 0.9900,\n",
      "         0.1300, 0.3100, 0.3100],\n",
      "        [0.0700, 0.4100, 0.4900, 0.1200, 0.5600, 0.7200, 0.0600, 0.1700, 0.0400,\n",
      "         0.3200, 0.0000, 0.0000],\n",
      "        [0.1000, 0.4400, 0.1700, 0.3000, 0.5000, 0.9500, 0.3400, 0.8300, 0.2700,\n",
      "         0.9400, 0.2400, 0.3200],\n",
      "        [0.8800, 0.6200, 0.9900, 0.1800, 0.5700, 0.5500, 0.0800, 0.7400, 0.9800,\n",
      "         0.8100, 0.2600, 0.1700],\n",
      "        [0.0500, 0.3100, 0.3100, 0.6600, 0.4800, 0.2700, 0.6300, 0.1800, 0.3000,\n",
      "         0.5100, 0.1000, 0.4400],\n",
      "        [0.9000, 0.8100, 0.1600, 0.9100, 0.6700, 0.4400, 0.6300, 0.0400, 0.2600,\n",
      "         0.9100, 0.1900, 0.0900],\n",
      "        [0.4500, 0.6100, 0.3200, 0.2600, 0.9000, 0.0200, 0.1600, 0.0300, 0.1500,\n",
      "         0.3000, 0.1800, 0.1100],\n",
      "        [0.2500, 0.4000, 0.4600, 0.0400, 0.9100, 0.4500, 0.0800, 0.0700, 0.3500,\n",
      "         0.8100, 0.2000, 0.0300],\n",
      "        [0.7800, 0.7800, 0.9200, 0.3000, 0.8000, 0.9900, 0.5600, 0.4800, 0.9500,\n",
      "         0.6600, 0.2900, 0.4000],\n",
      "        [0.1700, 0.0000, 0.7600, 0.2000, 0.0000, 0.0800, 0.5500, 0.2000, 0.1300,\n",
      "         0.8700, 0.0000, 0.0000],\n",
      "        [0.2200, 0.5400, 0.9000, 0.8700, 0.8800, 0.4300, 0.3300, 0.0300, 0.8900,\n",
      "         0.6700, 0.0800, 0.3800],\n",
      "        [0.4600, 0.8200, 0.3100, 0.9400, 0.7700, 0.7400, 0.4200, 0.7000, 0.8100,\n",
      "         0.3300, 0.0500, 0.0400],\n",
      "        [0.1800, 0.0900, 0.1200, 0.4200, 0.9500, 0.3700, 0.4100, 0.7800, 0.2000,\n",
      "         0.5700, 0.2300, 0.4800],\n",
      "        [0.5400, 0.7300, 0.1100, 0.6400, 0.3300, 0.7100, 0.9500, 0.9400, 0.0900,\n",
      "         0.2100, 0.1500, 0.2200],\n",
      "        [0.8400, 0.5900, 0.6100, 0.9700, 0.9400, 0.8100, 0.4200, 0.2700, 0.5900,\n",
      "         0.5700, 0.3500, 0.2700],\n",
      "        [0.5200, 0.1500, 0.2200, 0.2000, 0.8900, 0.8000, 0.7300, 0.0400, 0.0500,\n",
      "         0.4600, 0.1400, 0.1500],\n",
      "        [0.4300, 0.5200, 0.1900, 0.7300, 0.2200, 0.3400, 0.7300, 0.9200, 0.9800,\n",
      "         0.6200, 0.3100, 0.4000],\n",
      "        [0.2300, 0.8200, 0.7000, 0.6500, 0.2700, 0.3400, 0.8800, 0.0300, 0.8000,\n",
      "         0.8800, 0.2800, 0.4100],\n",
      "        [0.7800, 0.9800, 0.7800, 0.6400, 0.8100, 0.7200, 0.1000, 0.3600, 0.9100,\n",
      "         0.1800, 0.4900, 0.1400],\n",
      "        [0.1500, 0.7800, 0.4300, 0.4900, 0.1200, 0.8500, 0.3600, 0.8700, 0.3600,\n",
      "         0.7000, 0.0000, 0.0700],\n",
      "        [0.4700, 0.3100, 0.5500, 0.1500, 0.1700, 0.7900, 0.0300, 0.9000, 0.7600,\n",
      "         0.9100, 0.4600, 0.4200],\n",
      "        [0.1000, 0.2400, 0.6700, 0.6300, 0.7000, 0.3800, 0.1500, 0.8900, 0.2200,\n",
      "         0.8600, 0.1200, 0.2800],\n",
      "        [0.7800, 0.8400, 0.3100, 0.3100, 0.6100, 0.6500, 0.7600, 0.9600, 0.2400,\n",
      "         0.4600, 0.0700, 0.0300],\n",
      "        [0.0800, 0.5300, 0.7100, 0.3300, 0.2200, 0.3400, 0.3100, 0.4200, 0.1900,\n",
      "         0.4300, 0.1100, 0.4800],\n",
      "        [0.1200, 0.6700, 0.1100, 0.3100, 0.1100, 0.4000, 0.8000, 0.9600, 0.6400,\n",
      "         0.0700, 0.0200, 0.0200],\n",
      "        [0.2200, 0.4300, 0.9300, 0.6300, 0.6100, 0.5000, 0.9600, 0.8800, 0.9800,\n",
      "         0.5100, 0.3800, 0.2300]]) tensor([3, 4, 0, 3, 1, 2, 0, 0, 2, 3, 1, 3, 4, 4, 4, 0, 4, 3, 1, 5, 4, 2, 3, 3,\n",
      "        4, 2, 1, 1, 2, 3, 2, 1])\n"
     ]
    }
   ],
   "source": [
    "for batch in train_dataloader1:\n",
    "    inputs, labels = batch\n",
    "    print(inputs.shape, labels.shape)\n",
    "    print(inputs, labels)\n",
    "    break"
   ]
  },
  {
   "attachments": {},
   "cell_type": "markdown",
   "metadata": {},
   "source": [
    "### Model"
   ]
  },
  {
   "cell_type": "code",
   "execution_count": 23,
   "metadata": {},
   "outputs": [],
   "source": [
    "import torch.nn as nn\n",
    "import torch.nn.functional as F\n",
    "\n",
    "class Net1(nn.Module):\n",
    "    def __init__(self):\n",
    "        super(Net1, self).__init__()\n",
    "        self.fc1 = nn.Linear(12, 64)\n",
    "        self.fc2 = nn.Linear(64, 64)\n",
    "        self.fc3 = nn.Linear(64, 6)\n",
    "\n",
    "    def forward(self, x):\n",
    "        x = F.relu(self.fc1(x))\n",
    "        x = F.relu(self.fc2(x))\n",
    "        x = self.fc3(x)\n",
    "        return x\n"
   ]
  },
  {
   "cell_type": "code",
   "execution_count": 24,
   "metadata": {},
   "outputs": [
    {
     "name": "stdout",
     "output_type": "stream",
     "text": [
      "Net1(\n",
      "  (fc1): Linear(in_features=12, out_features=64, bias=True)\n",
      "  (fc2): Linear(in_features=64, out_features=64, bias=True)\n",
      "  (fc3): Linear(in_features=64, out_features=6, bias=True)\n",
      ")\n"
     ]
    }
   ],
   "source": [
    "net1 = Net1()\n",
    "print(net1)"
   ]
  },
  {
   "cell_type": "code",
   "execution_count": 25,
   "metadata": {},
   "outputs": [],
   "source": [
    "# Training\n",
    "import torch.optim as optim\n",
    "\n",
    "criterion = nn.CrossEntropyLoss()\n",
    "optimizer = optim.Adam(net1.parameters(), lr=0.001)"
   ]
  },
  {
   "cell_type": "code",
   "execution_count": 26,
   "metadata": {},
   "outputs": [],
   "source": [
    "def train(model, train_loader, criterion, optimizer):\n",
    "    model.train()\n",
    "    train_loss = 0\n",
    "    correct = 0\n",
    "    for data, target in train_loader:\n",
    "        optimizer.zero_grad()\n",
    "        output = model(data)\n",
    "        # print(f\"output: {output}\")\n",
    "        # print(f\"target: {target}\")\n",
    "        loss = criterion(output, target)\n",
    "        loss.backward()\n",
    "        optimizer.step()\n",
    "        train_loss += loss.item() * data.size(0)\n",
    "        pred = output.argmax(dim=1, keepdim=True)\n",
    "        correct += pred.eq(target.view_as(pred)).sum().item()\n",
    "    train_loss /= len(train_loader.dataset)\n",
    "    accuracy = 100. * correct / len(train_loader.dataset)\n",
    "    return train_loss, accuracy"
   ]
  },
  {
   "cell_type": "code",
   "execution_count": 27,
   "metadata": {},
   "outputs": [],
   "source": [
    "def test(model, test_loader, criterion):\n",
    "    model.eval()\n",
    "    test_loss = 0\n",
    "    correct = 0\n",
    "    with torch.no_grad():\n",
    "        for data, target in test_loader:\n",
    "            output = model(data)\n",
    "            test_loss += criterion(output, target).item() * data.size(0)\n",
    "            pred = output.argmax(dim=1, keepdim=True)\n",
    "            correct += pred.eq(target.view_as(pred)).sum().item()\n",
    "    test_loss /= len(test_loader.dataset)\n",
    "    accuracy = 100. * correct / len(test_loader.dataset)\n",
    "    return test_loss, accuracy"
   ]
  },
  {
   "cell_type": "code",
   "execution_count": 28,
   "metadata": {},
   "outputs": [
    {
     "name": "stdout",
     "output_type": "stream",
     "text": [
      "Epoch 1: Train Loss: 0.3443, Train Acc: 87.32%, Test Loss: 0.2264, Test Acc: 91.65%\n",
      "Epoch 2: Train Loss: 0.2021, Train Acc: 92.54%, Test Loss: 0.1862, Test Acc: 92.91%\n",
      "Epoch 3: Train Loss: 0.1665, Train Acc: 93.72%, Test Loss: 0.1523, Test Acc: 94.02%\n",
      "Epoch 4: Train Loss: 0.1409, Train Acc: 94.56%, Test Loss: 0.1314, Test Acc: 94.76%\n",
      "Epoch 5: Train Loss: 0.1237, Train Acc: 95.14%, Test Loss: 0.1156, Test Acc: 95.35%\n",
      "Epoch 6: Train Loss: 0.1113, Train Acc: 95.57%, Test Loss: 0.1071, Test Acc: 95.58%\n",
      "Epoch 7: Train Loss: 0.1028, Train Acc: 95.89%, Test Loss: 0.0981, Test Acc: 95.96%\n",
      "Epoch 8: Train Loss: 0.0969, Train Acc: 96.13%, Test Loss: 0.0913, Test Acc: 96.25%\n",
      "Epoch 9: Train Loss: 0.0921, Train Acc: 96.33%, Test Loss: 0.0850, Test Acc: 96.51%\n",
      "Epoch 10: Train Loss: 0.0885, Train Acc: 96.48%, Test Loss: 0.0801, Test Acc: 96.74%\n",
      "Epoch 11: Train Loss: 0.0854, Train Acc: 96.61%, Test Loss: 0.0793, Test Acc: 96.76%\n",
      "Epoch 12: Train Loss: 0.0829, Train Acc: 96.71%, Test Loss: 0.0788, Test Acc: 96.82%\n",
      "Epoch 13: Train Loss: 0.0807, Train Acc: 96.79%, Test Loss: 0.0757, Test Acc: 96.95%\n",
      "Epoch 14: Train Loss: 0.0792, Train Acc: 96.87%, Test Loss: 0.0729, Test Acc: 97.04%\n"
     ]
    }
   ],
   "source": [
    "epochs = 100\n",
    "test_acc = 0\n",
    "for epoch in range(1, epochs+1):\n",
    "    train_loss, train_acc = train(net1, train_dataloader1, criterion, optimizer)\n",
    "    test_loss, test_acc = test(net1, test_dataloader1, criterion)\n",
    "    print(f'Epoch {epoch}: Train Loss: {train_loss:.4f}, Train Acc: {train_acc:.2f}%, Test Loss: {test_loss:.4f}, Test Acc: {test_acc:.2f}%')\n",
    "    if test_acc > 97:\n",
    "        break"
   ]
  },
  {
   "cell_type": "code",
   "execution_count": 29,
   "metadata": {},
   "outputs": [],
   "source": [
    "# predict the score for each action\n",
    "def predict_score(data, model=net1):\n",
    "    model.eval()\n",
    "    if not torch.is_tensor(data):\n",
    "        data = torch.tensor(data, dtype=torch.float32)\n",
    "    output = model(data)\n",
    "    # Softmax\n",
    "    output = F.softmax(output, dim=1)\n",
    "    return output"
   ]
  },
  {
   "cell_type": "code",
   "execution_count": 30,
   "metadata": {},
   "outputs": [],
   "source": [
    "def predict(data, model=net1):\n",
    "    model.eval()\n",
    "    with torch.no_grad():\n",
    "        # if data is not torch tensor, convert it to torch tensor\n",
    "        if not torch.is_tensor(data):\n",
    "            data = torch.tensor(data, dtype=torch.float32)\n",
    "        output = model(data)\n",
    "        return output.argmax(dim=1, keepdim=True)\n"
   ]
  },
  {
   "cell_type": "code",
   "execution_count": 31,
   "metadata": {},
   "outputs": [],
   "source": [
    "sample1 = [[0.99, 0.90, 0.80, 0.80, 0.95, 0.95, 0.90, 0.85, 0.0, 0.0, 0.0, 0.0]]\n",
    "sample2 = [[0.99, 0.90, 0.80, 0.80, 0.95, 0.95, 0.90, 0.85, 0.0, 0.0, 0.6, 0.7]]"
   ]
  },
  {
   "cell_type": "code",
   "execution_count": 32,
   "metadata": {},
   "outputs": [
    {
     "data": {
      "text/plain": [
       "tensor([[0]])"
      ]
     },
     "execution_count": 32,
     "metadata": {},
     "output_type": "execute_result"
    }
   ],
   "source": [
    "predict(sample1)"
   ]
  },
  {
   "cell_type": "code",
   "execution_count": 33,
   "metadata": {},
   "outputs": [
    {
     "data": {
      "text/plain": [
       "tensor([[5]])"
      ]
     },
     "execution_count": 33,
     "metadata": {},
     "output_type": "execute_result"
    }
   ],
   "source": [
    "predict(sample2)"
   ]
  },
  {
   "cell_type": "code",
   "execution_count": 34,
   "metadata": {},
   "outputs": [
    {
     "data": {
      "text/plain": [
       "tensor([[9.9976e-01, 2.5638e-28, 8.6838e-24, 1.5220e-23, 1.2097e-21, 2.3961e-04]],\n",
       "       grad_fn=<SoftmaxBackward0>)"
      ]
     },
     "execution_count": 34,
     "metadata": {},
     "output_type": "execute_result"
    }
   ],
   "source": [
    "predict_score(sample1)"
   ]
  },
  {
   "cell_type": "code",
   "execution_count": 35,
   "metadata": {},
   "outputs": [
    {
     "data": {
      "text/plain": [
       "tensor([[3.0590e-08, 0.0000e+00, 4.5630e-18, 2.7679e-34, 1.1791e-39, 1.0000e+00]],\n",
       "       grad_fn=<SoftmaxBackward0>)"
      ]
     },
     "execution_count": 35,
     "metadata": {},
     "output_type": "execute_result"
    }
   ],
   "source": [
    "predict_score(sample2)"
   ]
  },
  {
   "cell_type": "code",
   "execution_count": 36,
   "metadata": {},
   "outputs": [
    {
     "name": "stdout",
     "output_type": "stream",
     "text": [
      "tensor([[0.1296, 0.1296, 0.1296, 0.1296, 0.1296, 0.3522]],\n",
      "       grad_fn=<SoftmaxBackward0>)\n"
     ]
    }
   ],
   "source": [
    "test = predict_score(sample2)\n",
    "# Softmax\n",
    "test = F.softmax(test, dim=1)\n",
    "print(test)"
   ]
  },
  {
   "cell_type": "code",
   "execution_count": 38,
   "metadata": {},
   "outputs": [],
   "source": [
    "# Save the model\n",
    "# torch.save(net1, 'net1.pt')\n",
    "torch.save(net1.state_dict(), 'net1.pt')"
   ]
  },
  {
   "attachments": {},
   "cell_type": "markdown",
   "metadata": {},
   "source": [
    "## Step1_2: \n",
    "Pod + Nodes(5) as inputs, Outputting the best action, Comparing with default scheduler label"
   ]
  },
  {
   "attachments": {},
   "cell_type": "markdown",
   "metadata": {},
   "source": [
    "### Dataset"
   ]
  },
  {
   "cell_type": "code",
   "execution_count": 7,
   "metadata": {},
   "outputs": [],
   "source": [
    "import torch\n",
    "from torch.utils.data import Dataset, DataLoader\n",
    "\n",
    "import pandas as pd"
   ]
  },
  {
   "cell_type": "code",
   "execution_count": 8,
   "metadata": {},
   "outputs": [],
   "source": [
    "class Dataset2(Dataset):\n",
    "    def __init__(self, csv_path, train=True):\n",
    "        self.data = pd.read_csv(csv_path)\n",
    "        # Drop the row which has 0 for the last -2, -3 columns\n",
    "        # self.data = self.data.drop(self.data[(self.data.iloc[:, -2] == 0) & (self.data.iloc[:, -3] == 0)].index)\n",
    "\n",
    "        if train:\n",
    "            self.data = self.data.sample(frac=0.8, random_state=42)\n",
    "        else:\n",
    "            self.data = self.data.drop(self.data.sample(frac=0.8, random_state=42).index)\n",
    "\n",
    "        self.data = self.transform(self.data)\n",
    "        self.input1 = self.data[:, :-3]\n",
    "        self.input2 = self.data[:, -3:-1]\n",
    "        self.label = self.data[:, -1]\n",
    "        # Long tensor for cross entropy loss\n",
    "        self.label = torch.tensor(self.label, dtype=torch.long)\n",
    "\n",
    "    def transform(self, data):\n",
    "        return torch.tensor(data.values, dtype=torch.float32)\n",
    "\n",
    "    def __len__(self):\n",
    "        return len(self.data)\n",
    "    \n",
    "    def __getitem__(self, idx):\n",
    "        return self.input1[idx], self.input2[idx], self.label[idx]"
   ]
  },
  {
   "cell_type": "code",
   "execution_count": 9,
   "metadata": {},
   "outputs": [
    {
     "name": "stderr",
     "output_type": "stream",
     "text": [
      "/var/folders/gl/n3l9mrsx1jz4xhb0rsxhj8980000gn/T/ipykernel_4858/1255837556.py:17: UserWarning: To copy construct from a tensor, it is recommended to use sourceTensor.clone().detach() or sourceTensor.clone().detach().requires_grad_(True), rather than torch.tensor(sourceTensor).\n",
      "  self.label = torch.tensor(self.label, dtype=torch.long)\n",
      "/var/folders/gl/n3l9mrsx1jz4xhb0rsxhj8980000gn/T/ipykernel_4858/1255837556.py:17: UserWarning: To copy construct from a tensor, it is recommended to use sourceTensor.clone().detach() or sourceTensor.clone().detach().requires_grad_(True), rather than torch.tensor(sourceTensor).\n",
      "  self.label = torch.tensor(self.label, dtype=torch.long)\n"
     ]
    }
   ],
   "source": [
    "data_path = os.path.join(base_path, \"dataset\", \"data_1.csv\")\n",
    "train_dataset2 = Dataset2(data_path, train=True)\n",
    "test_dataset2 = Dataset2(data_path, train=False)\n",
    "train_dataloader2 = DataLoader(train_dataset2, batch_size=32, shuffle=False)\n",
    "test_dataloader2 = DataLoader(test_dataset2, batch_size=32, shuffle=False)"
   ]
  },
  {
   "cell_type": "code",
   "execution_count": 10,
   "metadata": {},
   "outputs": [
    {
     "name": "stdout",
     "output_type": "stream",
     "text": [
      "torch.Size([32, 10]) torch.Size([32, 2]) torch.Size([32])\n",
      "input1: tensor([[0.5300, 0.8300, 0.0100, 0.8400, 0.3500, 0.0700, 0.5900, 0.5400, 0.3600,\n",
      "         0.7100],\n",
      "        [0.7500, 0.8700, 0.7100, 0.4800, 0.4900, 0.7500, 0.0100, 0.1100, 0.5800,\n",
      "         0.9600],\n",
      "        [0.2400, 0.8400, 0.6700, 0.0100, 0.2400, 0.7300, 0.8500, 0.4100, 0.1500,\n",
      "         0.8600],\n",
      "        [0.7200, 0.2800, 0.5000, 0.0800, 0.1300, 0.4200, 0.8200, 0.1100, 0.8400,\n",
      "         1.0000],\n",
      "        [0.3300, 0.2700, 0.4000, 0.2000, 0.2400, 0.8600, 0.9800, 0.0700, 0.7000,\n",
      "         0.7900],\n",
      "        [0.1300, 0.3500, 0.2000, 0.2400, 0.3300, 0.7800, 0.6100, 0.9200, 0.4300,\n",
      "         0.3200],\n",
      "        [0.5900, 0.8000, 0.8100, 0.6900, 0.5100, 0.8400, 0.1500, 0.8600, 0.9900,\n",
      "         0.1300],\n",
      "        [0.0700, 0.4100, 0.4900, 0.1200, 0.5600, 0.7200, 0.0600, 0.1700, 0.0400,\n",
      "         0.3200],\n",
      "        [0.1000, 0.4400, 0.1700, 0.3000, 0.5000, 0.9500, 0.3400, 0.8300, 0.2700,\n",
      "         0.9400],\n",
      "        [0.8800, 0.6200, 0.9900, 0.1800, 0.5700, 0.5500, 0.0800, 0.7400, 0.9800,\n",
      "         0.8100],\n",
      "        [0.0500, 0.3100, 0.3100, 0.6600, 0.4800, 0.2700, 0.6300, 0.1800, 0.3000,\n",
      "         0.5100],\n",
      "        [0.9000, 0.8100, 0.1600, 0.9100, 0.6700, 0.4400, 0.6300, 0.0400, 0.2600,\n",
      "         0.9100],\n",
      "        [0.4500, 0.6100, 0.3200, 0.2600, 0.9000, 0.0200, 0.1600, 0.0300, 0.1500,\n",
      "         0.3000],\n",
      "        [0.2500, 0.4000, 0.4600, 0.0400, 0.9100, 0.4500, 0.0800, 0.0700, 0.3500,\n",
      "         0.8100],\n",
      "        [0.7800, 0.7800, 0.9200, 0.3000, 0.8000, 0.9900, 0.5600, 0.4800, 0.9500,\n",
      "         0.6600],\n",
      "        [0.1700, 0.0000, 0.7600, 0.2000, 0.0000, 0.0800, 0.5500, 0.2000, 0.1300,\n",
      "         0.8700],\n",
      "        [0.2200, 0.5400, 0.9000, 0.8700, 0.8800, 0.4300, 0.3300, 0.0300, 0.8900,\n",
      "         0.6700],\n",
      "        [0.4600, 0.8200, 0.3100, 0.9400, 0.7700, 0.7400, 0.4200, 0.7000, 0.8100,\n",
      "         0.3300],\n",
      "        [0.1800, 0.0900, 0.1200, 0.4200, 0.9500, 0.3700, 0.4100, 0.7800, 0.2000,\n",
      "         0.5700],\n",
      "        [0.5400, 0.7300, 0.1100, 0.6400, 0.3300, 0.7100, 0.9500, 0.9400, 0.0900,\n",
      "         0.2100],\n",
      "        [0.8400, 0.5900, 0.6100, 0.9700, 0.9400, 0.8100, 0.4200, 0.2700, 0.5900,\n",
      "         0.5700],\n",
      "        [0.5200, 0.1500, 0.2200, 0.2000, 0.8900, 0.8000, 0.7300, 0.0400, 0.0500,\n",
      "         0.4600],\n",
      "        [0.4300, 0.5200, 0.1900, 0.7300, 0.2200, 0.3400, 0.7300, 0.9200, 0.9800,\n",
      "         0.6200],\n",
      "        [0.2300, 0.8200, 0.7000, 0.6500, 0.2700, 0.3400, 0.8800, 0.0300, 0.8000,\n",
      "         0.8800],\n",
      "        [0.7800, 0.9800, 0.7800, 0.6400, 0.8100, 0.7200, 0.1000, 0.3600, 0.9100,\n",
      "         0.1800],\n",
      "        [0.1500, 0.7800, 0.4300, 0.4900, 0.1200, 0.8500, 0.3600, 0.8700, 0.3600,\n",
      "         0.7000],\n",
      "        [0.4700, 0.3100, 0.5500, 0.1500, 0.1700, 0.7900, 0.0300, 0.9000, 0.7600,\n",
      "         0.9100],\n",
      "        [0.1000, 0.2400, 0.6700, 0.6300, 0.7000, 0.3800, 0.1500, 0.8900, 0.2200,\n",
      "         0.8600],\n",
      "        [0.7800, 0.8400, 0.3100, 0.3100, 0.6100, 0.6500, 0.7600, 0.9600, 0.2400,\n",
      "         0.4600],\n",
      "        [0.0800, 0.5300, 0.7100, 0.3300, 0.2200, 0.3400, 0.3100, 0.4200, 0.1900,\n",
      "         0.4300],\n",
      "        [0.1200, 0.6700, 0.1100, 0.3100, 0.1100, 0.4000, 0.8000, 0.9600, 0.6400,\n",
      "         0.0700],\n",
      "        [0.2200, 0.4300, 0.9300, 0.6300, 0.6100, 0.5000, 0.9600, 0.8800, 0.9800,\n",
      "         0.5100]])\n",
      "input2: tensor([[0.2300, 0.2400],\n",
      "        [0.1400, 0.4000],\n",
      "        [0.3600, 0.2900],\n",
      "        [0.4900, 0.3100],\n",
      "        [0.2800, 0.2700],\n",
      "        [0.4500, 0.1100],\n",
      "        [0.3100, 0.3100],\n",
      "        [0.0000, 0.0000],\n",
      "        [0.2400, 0.3200],\n",
      "        [0.2600, 0.1700],\n",
      "        [0.1000, 0.4400],\n",
      "        [0.1900, 0.0900],\n",
      "        [0.1800, 0.1100],\n",
      "        [0.2000, 0.0300],\n",
      "        [0.2900, 0.4000],\n",
      "        [0.0000, 0.0000],\n",
      "        [0.0800, 0.3800],\n",
      "        [0.0500, 0.0400],\n",
      "        [0.2300, 0.4800],\n",
      "        [0.1500, 0.2200],\n",
      "        [0.3500, 0.2700],\n",
      "        [0.1400, 0.1500],\n",
      "        [0.3100, 0.4000],\n",
      "        [0.2800, 0.4100],\n",
      "        [0.4900, 0.1400],\n",
      "        [0.0000, 0.0700],\n",
      "        [0.4600, 0.4200],\n",
      "        [0.1200, 0.2800],\n",
      "        [0.0700, 0.0300],\n",
      "        [0.1100, 0.4800],\n",
      "        [0.0200, 0.0200],\n",
      "        [0.3800, 0.2300]])\n",
      "labels: tensor([3, 4, 0, 3, 1, 2, 0, 0, 2, 3, 1, 3, 4, 4, 4, 0, 4, 3, 1, 5, 4, 2, 3, 3,\n",
      "        4, 2, 1, 1, 2, 3, 2, 1])\n"
     ]
    }
   ],
   "source": [
    "for batch in train_dataloader2:\n",
    "    input1, input2, labels = batch\n",
    "    print(input1.shape, input2.shape, labels.shape)\n",
    "    print(f\"input1: {input1}\\ninput2: {input2}\\nlabels: {labels}\")\n",
    "    break"
   ]
  },
  {
   "attachments": {},
   "cell_type": "markdown",
   "metadata": {},
   "source": [
    "### Model"
   ]
  },
  {
   "cell_type": "code",
   "execution_count": null,
   "metadata": {},
   "outputs": [
    {
     "name": "stdout",
     "output_type": "stream",
     "text": [
      "Net2(\n",
      "  (fc1_10): Linear(in_features=10, out_features=16, bias=True)\n",
      "  (fc1_2): Linear(in_features=2, out_features=16, bias=True)\n",
      "  (fc2): Linear(in_features=32, out_features=16, bias=True)\n",
      "  (fc3): Linear(in_features=16, out_features=6, bias=True)\n",
      ")\n"
     ]
    }
   ],
   "source": [
    "import torch.nn as nn\n",
    "import torch.nn.functional as F\n",
    "\n",
    "class Net2(nn.Module):\n",
    "    def __init__(self):\n",
    "        super(Net2, self).__init__()\n",
    "        self.fc1_10 = nn.Linear(10, 16) # 5 Nodes status (CPU, Memory)\n",
    "        self.fc1_2 = nn.Linear(2, 16)   # Pod quota (CPU, Memory)\n",
    "        self.fc2 = nn.Linear(32, 16)    # Concatenated vector\n",
    "        self.fc3 = nn.Linear(16, 6)     # 6-sized vector\n",
    "\n",
    "    def forward(self, x10, x2):\n",
    "        x10 = F.relu(self.fc1_10(x10))  \n",
    "        x2 = F.relu(self.fc1_2(x2))\n",
    "        x = torch.cat((x10, x2), dim=1) \n",
    "        x = F.relu(self.fc2(x))  \n",
    "        x = self.fc3(x)     \n",
    "        # x = F.softmax(self.fc3(x), dim=1)\n",
    "        # x = torch.argmax(x, dim=1)\n",
    "        return x\n",
    "\n",
    "net2 = Net2()\n",
    "print(net2)"
   ]
  },
  {
   "cell_type": "code",
   "execution_count": null,
   "metadata": {},
   "outputs": [],
   "source": [
    "# Training\n",
    "import torch.optim as optim\n",
    "\n",
    "criterion = nn.CrossEntropyLoss()\n",
    "optimizer = optim.Adam(net2.parameters(), lr=0.001)"
   ]
  },
  {
   "cell_type": "code",
   "execution_count": null,
   "metadata": {},
   "outputs": [],
   "source": [
    "def train(model, train_loader, criterion, optimizer):\n",
    "    model.train()\n",
    "    train_loss = 0\n",
    "    correct = 0\n",
    "    for data10, data2, target in train_loader:\n",
    "        optimizer.zero_grad()\n",
    "        output = model(data10, data2)\n",
    "        # print(f\"output: {output}\")\n",
    "        # print(f\"target: {target}\")\n",
    "        loss = criterion(output, target)\n",
    "        loss.backward()\n",
    "        optimizer.step()\n",
    "        train_loss += loss.item() * data2.size(0)\n",
    "        pred = output.argmax(dim=1, keepdim=True)\n",
    "        correct += pred.eq(target.view_as(pred)).sum().item()\n",
    "    train_loss /= len(train_loader.dataset)\n",
    "    accuracy = 100. * correct / len(train_loader.dataset)\n",
    "    return train_loss, accuracy"
   ]
  },
  {
   "cell_type": "code",
   "execution_count": null,
   "metadata": {},
   "outputs": [],
   "source": [
    "def test(model, test_loader, criterion):\n",
    "    model.eval()\n",
    "    test_loss = 0\n",
    "    correct = 0\n",
    "    with torch.no_grad():\n",
    "        for data10, data2, target in test_loader:\n",
    "            output = model(data10, data2)\n",
    "            test_loss += criterion(output, target).item() * data2.size(0)\n",
    "            pred = output.argmax(dim=1, keepdim=True)\n",
    "            correct += pred.eq(target.view_as(pred)).sum().item()\n",
    "    test_loss /= len(test_loader.dataset)\n",
    "    accuracy = 100. * correct / len(test_loader.dataset)\n",
    "    return test_loss, accuracy"
   ]
  },
  {
   "cell_type": "code",
   "execution_count": null,
   "metadata": {},
   "outputs": [
    {
     "name": "stdout",
     "output_type": "stream",
     "text": [
      "Epoch 1: Train Loss: 0.6472, Train Acc: 75.28%, Test Loss: 0.5846, Test Acc: 77.29%\n",
      "Epoch 2: Train Loss: 0.5814, Train Acc: 77.40%, Test Loss: 0.5805, Test Acc: 77.37%\n",
      "Epoch 3: Train Loss: 0.5673, Train Acc: 77.82%, Test Loss: 0.5170, Test Acc: 79.72%\n",
      "Epoch 4: Train Loss: 0.4975, Train Acc: 80.37%, Test Loss: 0.4449, Test Acc: 82.50%\n",
      "Epoch 5: Train Loss: 0.4269, Train Acc: 83.34%, Test Loss: 0.4261, Test Acc: 83.37%\n",
      "Epoch 6: Train Loss: 0.4225, Train Acc: 83.47%, Test Loss: 0.4240, Test Acc: 83.40%\n",
      "Epoch 7: Train Loss: 0.4209, Train Acc: 83.51%, Test Loss: 0.4226, Test Acc: 83.47%\n",
      "Epoch 8: Train Loss: 0.4197, Train Acc: 83.54%, Test Loss: 0.4211, Test Acc: 83.49%\n",
      "Epoch 9: Train Loss: 0.4186, Train Acc: 83.57%, Test Loss: 0.4196, Test Acc: 83.55%\n",
      "Epoch 10: Train Loss: 0.4177, Train Acc: 83.61%, Test Loss: 0.4183, Test Acc: 83.59%\n",
      "Epoch 11: Train Loss: 0.4166, Train Acc: 83.63%, Test Loss: 0.4168, Test Acc: 83.64%\n",
      "Epoch 12: Train Loss: 0.4152, Train Acc: 83.66%, Test Loss: 0.4156, Test Acc: 83.61%\n",
      "Epoch 13: Train Loss: 0.4135, Train Acc: 83.68%, Test Loss: 0.4137, Test Acc: 83.65%\n",
      "Epoch 14: Train Loss: 0.4117, Train Acc: 83.72%, Test Loss: 0.4108, Test Acc: 83.73%\n",
      "Epoch 15: Train Loss: 0.4097, Train Acc: 83.77%, Test Loss: 0.4080, Test Acc: 83.73%\n",
      "Epoch 16: Train Loss: 0.3975, Train Acc: 84.23%, Test Loss: 0.3436, Test Acc: 86.54%\n",
      "Epoch 17: Train Loss: 0.3271, Train Acc: 87.48%, Test Loss: 0.3237, Test Acc: 87.65%\n",
      "Epoch 18: Train Loss: 0.3215, Train Acc: 87.73%, Test Loss: 0.3199, Test Acc: 87.82%\n",
      "Epoch 19: Train Loss: 0.2807, Train Acc: 89.46%, Test Loss: 0.2191, Test Acc: 92.36%\n"
     ]
    }
   ],
   "source": [
    "epochs = 100\n",
    "test_acc = 0\n",
    "for epoch in range(1, epochs+1):\n",
    "    train_loss, train_acc = train(net2, train_dataloader2, criterion, optimizer)\n",
    "    test_loss, test_acc = test(net2, test_dataloader2, criterion)\n",
    "    print(f'Epoch {epoch}: Train Loss: {train_loss:.4f}, Train Acc: {train_acc:.2f}%, Test Loss: {test_loss:.4f}, Test Acc: {test_acc:.2f}%')\n",
    "    if test_acc > 92:\n",
    "        break"
   ]
  },
  {
   "attachments": {},
   "cell_type": "markdown",
   "metadata": {},
   "source": [
    "## Step1_3: \n",
    "Pod + Nodes(5) as inputs, Outputting the 6 actions' confidences, Comparing with default scheduler score"
   ]
  },
  {
   "attachments": {},
   "cell_type": "markdown",
   "metadata": {},
   "source": [
    "### Dataset"
   ]
  },
  {
   "cell_type": "code",
   "execution_count": 12,
   "metadata": {},
   "outputs": [],
   "source": [
    "import torch\n",
    "from torch.utils.data import Dataset, DataLoader\n",
    "\n",
    "import pandas as pd"
   ]
  },
  {
   "cell_type": "code",
   "execution_count": 13,
   "metadata": {},
   "outputs": [],
   "source": [
    "class Dataset3(Dataset):\n",
    "    def __init__(self, csv_path, train=True):\n",
    "        self.data = pd.read_csv(csv_path)\n",
    "        # Drop the row which has 0 for the last -2, -3 columns\n",
    "        # self.data = self.data.drop(self.data[(self.data.iloc[:, -2] == 0) & (self.data.iloc[:, -3] == 0)].index)\n",
    "\n",
    "        if train:\n",
    "            self.data = self.data.sample(frac=0.8, random_state=42)\n",
    "        else:\n",
    "            self.data = self.data.drop(self.data.sample(frac=0.8, random_state=42).index)\n",
    "\n",
    "        self.data = self.transform(self.data)\n",
    "        self.input1 = self.data[:, :-8]\n",
    "        self.input2 = self.data[:, -8:-6]\n",
    "        self.label = self.data[:, -6:]\n",
    "        # Multiply by 100\n",
    "        self.label = self.label * 100\n",
    "\n",
    "    def transform(self, data):\n",
    "        return torch.tensor(data.values, dtype=torch.float32)\n",
    "\n",
    "    def __len__(self):\n",
    "        return len(self.data)\n",
    "    \n",
    "    def __getitem__(self, idx):\n",
    "        return self.input1[idx], self.input2[idx], self.label[idx]"
   ]
  },
  {
   "cell_type": "code",
   "execution_count": 14,
   "metadata": {},
   "outputs": [],
   "source": [
    "import os\n",
    "\n",
    "data_path = os.path.join(base_path, \"dataset\", \"data_2.csv\")\n",
    "train_dataset3 = Dataset3(data_path, train=True)\n",
    "test_dataset3 = Dataset3(data_path, train=False)\n",
    "train_dataloader3 = DataLoader(train_dataset3, batch_size=32, shuffle=False)\n",
    "test_dataloader3 = DataLoader(test_dataset3, batch_size=32, shuffle=False)"
   ]
  },
  {
   "cell_type": "code",
   "execution_count": 15,
   "metadata": {},
   "outputs": [
    {
     "name": "stdout",
     "output_type": "stream",
     "text": [
      "torch.Size([32, 10]) torch.Size([32, 2]) torch.Size([32, 6])\n",
      "input1: tensor([[0.4000, 0.2700, 0.8800, 0.6200, 0.8200, 0.3000, 0.0200, 0.6800, 0.1100,\n",
      "         0.8800],\n",
      "        [0.3700, 0.1300, 0.0800, 0.5100, 0.6800, 0.5100, 0.6100, 0.2700, 0.1900,\n",
      "         0.1300],\n",
      "        [0.3100, 0.2000, 0.7700, 0.0400, 0.2000, 0.5300, 0.4000, 0.4500, 0.8100,\n",
      "         0.9800],\n",
      "        [0.6100, 0.4300, 0.0000, 0.8800, 0.1000, 0.7200, 0.6400, 0.2900, 0.4300,\n",
      "         0.5300],\n",
      "        [0.6300, 0.7300, 0.1000, 0.3700, 0.5500, 0.0300, 0.8800, 0.9600, 0.6100,\n",
      "         0.3800],\n",
      "        [0.0900, 0.9200, 0.5500, 0.1800, 0.1900, 0.2800, 0.4200, 0.8500, 0.3100,\n",
      "         0.5900],\n",
      "        [0.5800, 0.2700, 0.2100, 0.5500, 0.5000, 0.4200, 0.5500, 0.4900, 0.7500,\n",
      "         0.9000],\n",
      "        [0.3900, 0.0600, 0.0700, 0.6000, 0.4800, 0.1900, 0.0100, 0.7700, 0.3200,\n",
      "         0.1700],\n",
      "        [0.5100, 0.9700, 0.8700, 0.8200, 0.7300, 0.9200, 0.6700, 0.0700, 0.0800,\n",
      "         0.1400],\n",
      "        [0.1200, 0.7000, 0.3400, 0.0900, 0.1400, 0.9800, 0.1600, 0.9500, 0.6200,\n",
      "         0.4800],\n",
      "        [0.4400, 0.7900, 0.3900, 0.6500, 0.6300, 0.6100, 0.0600, 0.3900, 0.8100,\n",
      "         0.1200],\n",
      "        [0.2400, 0.0300, 0.9800, 0.0400, 0.2500, 0.5900, 0.0500, 0.8900, 0.5000,\n",
      "         0.4700],\n",
      "        [0.6500, 0.2700, 0.6200, 0.1400, 0.2600, 0.6600, 0.6500, 0.1000, 0.7700,\n",
      "         0.1900],\n",
      "        [0.1500, 0.3600, 0.7300, 0.3700, 0.0200, 0.9400, 0.0600, 0.8300, 0.8800,\n",
      "         0.7100],\n",
      "        [0.1200, 0.3100, 0.2500, 0.9900, 0.4700, 0.1500, 0.4300, 0.6700, 0.2000,\n",
      "         0.4700],\n",
      "        [0.8500, 0.7100, 0.6300, 0.3700, 0.9200, 0.1100, 0.3600, 0.2700, 0.2400,\n",
      "         0.0500],\n",
      "        [0.4700, 0.0600, 0.4400, 0.4600, 0.3700, 0.8300, 0.5200, 0.3000, 0.3000,\n",
      "         0.6700],\n",
      "        [0.5300, 0.6000, 0.8000, 0.8200, 0.0600, 0.0300, 0.6200, 0.1400, 0.0500,\n",
      "         0.3400],\n",
      "        [0.8200, 0.0000, 0.1800, 0.6400, 0.9600, 0.5400, 0.4200, 0.1100, 0.2500,\n",
      "         0.1700],\n",
      "        [0.9700, 0.2100, 0.3300, 0.4800, 0.4000, 0.6700, 0.9600, 0.0900, 0.7600,\n",
      "         0.6400],\n",
      "        [0.7400, 0.2900, 0.8300, 0.4400, 0.0900, 0.3300, 0.6900, 0.3700, 0.4400,\n",
      "         0.3400],\n",
      "        [0.1400, 0.4600, 0.8700, 0.6600, 0.7000, 0.1400, 0.1200, 0.4700, 0.3200,\n",
      "         0.0300],\n",
      "        [0.1000, 0.0900, 0.7900, 0.6300, 0.3100, 0.5900, 0.0600, 0.5400, 0.4800,\n",
      "         0.2800],\n",
      "        [0.0400, 0.6800, 0.6700, 0.8900, 0.0400, 0.4000, 0.4300, 0.3700, 0.4600,\n",
      "         0.6800],\n",
      "        [0.7200, 0.9700, 0.4600, 0.5900, 0.7500, 0.9600, 0.4600, 0.0100, 0.8700,\n",
      "         0.7200],\n",
      "        [0.0600, 0.3900, 0.1200, 0.6500, 0.1400, 0.5800, 0.4600, 0.1000, 0.6400,\n",
      "         0.0900],\n",
      "        [0.1300, 0.3800, 0.1600, 0.2800, 0.9200, 0.0300, 0.9400, 0.4500, 0.1000,\n",
      "         0.6700],\n",
      "        [0.2200, 0.6000, 0.1400, 0.9100, 0.7800, 0.3400, 0.5200, 0.8100, 0.2000,\n",
      "         0.3400],\n",
      "        [0.0000, 0.8200, 0.4800, 0.8600, 0.9100, 0.0300, 0.8700, 0.1900, 0.7100,\n",
      "         0.7900],\n",
      "        [0.0800, 0.6800, 0.8400, 0.6000, 0.1400, 0.7600, 0.2800, 0.2300, 0.5400,\n",
      "         0.4200],\n",
      "        [0.7900, 0.8400, 0.6900, 0.6000, 0.2200, 0.9000, 0.7400, 0.6800, 0.9000,\n",
      "         0.1500],\n",
      "        [0.0900, 0.6100, 0.9000, 0.7200, 0.5500, 0.8000, 0.7800, 0.8200, 0.7700,\n",
      "         0.2800]])\n",
      "input2: tensor([[0.2500, 0.4600],\n",
      "        [0.3700, 0.4300],\n",
      "        [0.4100, 0.4800],\n",
      "        [0.1700, 0.2100],\n",
      "        [0.0900, 0.2200],\n",
      "        [0.0000, 0.0000],\n",
      "        [0.1300, 0.0400],\n",
      "        [0.1100, 0.1900],\n",
      "        [0.0000, 0.0000],\n",
      "        [0.0000, 0.0000],\n",
      "        [0.0700, 0.1600],\n",
      "        [0.1000, 0.1700],\n",
      "        [0.4100, 0.4600],\n",
      "        [0.1600, 0.0500],\n",
      "        [0.2100, 0.1700],\n",
      "        [0.1100, 0.4200],\n",
      "        [0.0000, 0.0000],\n",
      "        [0.2700, 0.3600],\n",
      "        [0.0000, 0.0000],\n",
      "        [0.0000, 0.0000],\n",
      "        [0.1900, 0.2500],\n",
      "        [0.2700, 0.3700],\n",
      "        [0.4900, 0.1100],\n",
      "        [0.3900, 0.4100],\n",
      "        [0.2000, 0.0200],\n",
      "        [0.4000, 0.4700],\n",
      "        [0.0000, 0.0000],\n",
      "        [0.0000, 0.0000],\n",
      "        [0.0000, 0.0000],\n",
      "        [0.0900, 0.4100],\n",
      "        [0.1800, 0.1800],\n",
      "        [0.4500, 0.2900]])\n",
      "labels: tensor([[  0.0000,  59.0000,  32.0000,  28.0000,  32.0000,  19.0000],\n",
      "        [  0.0000,  55.0000,  44.0000,  42.0000,  41.0000,  69.0000],\n",
      "        [  0.0000,  59.0000,  21.0000,  43.0000,  54.0000,  25.0000],\n",
      "        [  0.0000,  56.0000,  24.0000,  39.0000,  50.0000,  61.0000],\n",
      "        [  0.0000,  53.0000,  67.0000,  52.0000,  42.0000,  56.0000],\n",
      "        [100.0000,   0.0000,   0.0000,   0.0000,   0.0000,   0.0000],\n",
      "        [  0.0000,  59.0000,  60.0000,  69.0000,  67.0000,  47.0000],\n",
      "        [  0.0000,  65.0000,  49.0000,  61.0000,  35.0000,  73.0000],\n",
      "        [100.0000,   0.0000,   0.0000,   0.0000,   0.0000,   0.0000],\n",
      "        [100.0000,   0.0000,   0.0000,   0.0000,   0.0000,   0.0000],\n",
      "        [  0.0000,  46.0000,  55.0000,  62.0000,  67.0000,  36.0000],\n",
      "        [  0.0000,  76.0000,  21.0000,  55.0000,  28.0000,  68.0000],\n",
      "        [  0.0000,  36.0000,  35.0000,  35.0000,  32.0000,  25.0000],\n",
      "        [  0.0000,  71.0000,  49.0000,  25.0000,  34.0000,  46.0000],\n",
      "        [  0.0000,  70.0000,  23.0000,  59.0000,  51.0000,  60.0000],\n",
      "        [  0.0000,  41.0000,  49.0000,  20.0000,  67.0000,  70.0000],\n",
      "        [100.0000,   0.0000,   0.0000,   0.0000,   0.0000,   0.0000],\n",
      "        [  0.0000,  53.0000,  43.0000,  80.0000,  41.0000,  60.0000],\n",
      "        [100.0000,   0.0000,   0.0000,   0.0000,   0.0000,   0.0000],\n",
      "        [100.0000,   0.0000,   0.0000,   0.0000,   0.0000,   0.0000],\n",
      "        [  0.0000,  41.0000,  38.0000,  67.0000,  47.0000,  65.0000],\n",
      "        [  0.0000,  53.0000,  35.0000,  35.0000,  52.0000,  61.0000],\n",
      "        [  0.0000,  80.0000,  41.0000,  48.0000,  46.0000,  56.0000],\n",
      "        [  0.0000,  30.0000,  30.0000,  51.0000,  57.0000,  41.0000],\n",
      "        [  0.0000,  40.0000,  62.0000,  41.0000,  60.0000,  47.0000],\n",
      "        [  0.0000,  51.0000,  32.0000,  38.0000,  46.0000,  32.0000],\n",
      "        [100.0000,   0.0000,   0.0000,   0.0000,   0.0000,   0.0000],\n",
      "        [100.0000,   0.0000,   0.0000,   0.0000,   0.0000,   0.0000],\n",
      "        [100.0000,   0.0000,   0.0000,   0.0000,   0.0000,   0.0000],\n",
      "        [  0.0000,  38.0000,  40.0000,  34.0000,  72.0000,  57.0000],\n",
      "        [  0.0000,  48.0000,  54.0000,  29.0000,  53.0000,  27.0000],\n",
      "        [  0.0000,  38.0000,  32.0000,  35.0000,  40.0000,  31.0000]])\n"
     ]
    }
   ],
   "source": [
    "for batch in train_dataloader3:\n",
    "    input1, input2, labels = batch\n",
    "    print(input1.shape, input2.shape, labels.shape)\n",
    "    print(f\"input1: {input1}\\ninput2: {input2}\\nlabels: {labels}\")\n",
    "    break"
   ]
  },
  {
   "attachments": {},
   "cell_type": "markdown",
   "metadata": {},
   "source": [
    "### Model"
   ]
  },
  {
   "cell_type": "code",
   "execution_count": 16,
   "metadata": {},
   "outputs": [
    {
     "name": "stdout",
     "output_type": "stream",
     "text": [
      "Net3(\n",
      "  (fc1_1): Linear(in_features=10, out_features=16, bias=True)\n",
      "  (fc1_2): Linear(in_features=2, out_features=16, bias=True)\n",
      "  (fc2): Linear(in_features=32, out_features=16, bias=True)\n",
      "  (fc3): Linear(in_features=16, out_features=16, bias=True)\n",
      "  (fc4): Linear(in_features=16, out_features=6, bias=True)\n",
      ")\n"
     ]
    }
   ],
   "source": [
    "import torch.nn as nn\n",
    "import torch.nn.functional as F\n",
    "\n",
    "class Net3(nn.Module):\n",
    "    def __init__(self):\n",
    "        super(Net3, self).__init__()\n",
    "        self.fc1_1 = nn.Linear(10, 16) # 5 Nodes status (CPU, Memory)\n",
    "        self.fc1_2 = nn.Linear(2, 16)   # Pod quota (CPU, Memory)\n",
    "        self.fc2 = nn.Linear(32, 16)    # Concatenated vector\n",
    "        self.fc3 = nn.Linear(16, 16)\n",
    "        self.fc4 = nn.Linear(16, 6)     # 6-sized vector\n",
    "\n",
    "    def forward(self, x1, x2):\n",
    "        x1 = F.relu(self.fc1_1(x1))  \n",
    "        x2 = F.relu(self.fc1_2(x2))\n",
    "        x = torch.cat((x1, x2), dim=1) \n",
    "        x = F.relu(self.fc2(x))  \n",
    "        x = F.relu(self.fc3(x))\n",
    "        x = self.fc4(x)     \n",
    "        # x = F.softmax(self.fc3(x), dim=1)\n",
    "        # x = torch.argmax(x, dim=1)\n",
    "        return x\n",
    "\n",
    "net3 = Net3()\n",
    "print(net3)"
   ]
  },
  {
   "cell_type": "code",
   "execution_count": 17,
   "metadata": {},
   "outputs": [],
   "source": [
    "# Training\n",
    "import torch.optim as optim\n",
    "\n",
    "criterion = nn.MSELoss()\n",
    "optimizer = optim.Adam(net3.parameters(), lr=0.001)"
   ]
  },
  {
   "cell_type": "code",
   "execution_count": 18,
   "metadata": {},
   "outputs": [],
   "source": [
    "def train(model, train_loader, criterion, optimizer):\n",
    "    model.train()\n",
    "    train_loss = 0\n",
    "    correct = 0\n",
    "    for data10, data2, target in train_loader:\n",
    "        optimizer.zero_grad()\n",
    "        output = model(data10, data2)\n",
    "        # print(f\"output: {output}\")\n",
    "        # print(f\"target: {target}\")\n",
    "        loss = criterion(output, target)\n",
    "        loss.backward()\n",
    "        optimizer.step()\n",
    "        train_loss += loss.item() * data2.size(0)\n",
    "        pred = output.argmax(dim=1, keepdim=True)\n",
    "        correct += pred.eq(target.argmax(dim=1, keepdim=True)).sum().item()\n",
    "    train_loss /= len(train_loader.dataset)\n",
    "    accuracy = 100. * correct / len(train_loader.dataset)\n",
    "    return train_loss, accuracy"
   ]
  },
  {
   "cell_type": "code",
   "execution_count": 19,
   "metadata": {},
   "outputs": [],
   "source": [
    "def test(model, test_loader, criterion):\n",
    "    model.eval()\n",
    "    test_loss = 0\n",
    "    correct = 0\n",
    "    with torch.no_grad():\n",
    "        for data10, data2, target in test_loader:\n",
    "            output = model(data10, data2)\n",
    "            test_loss += criterion(output, target).item() * data2.size(0)\n",
    "            pred = output.argmax(dim=1, keepdim=True)\n",
    "            correct += pred.eq(target.argmax(dim=1, keepdim=True)).sum().item()\n",
    "    test_loss /= len(test_loader.dataset)\n",
    "    accuracy = 100. * correct / len(test_loader.dataset)\n",
    "    return test_loss, accuracy"
   ]
  },
  {
   "cell_type": "code",
   "execution_count": 20,
   "metadata": {},
   "outputs": [
    {
     "name": "stdout",
     "output_type": "stream",
     "text": [
      "Epoch 1: Train Loss: 213.9471, Train Acc: 38.64%, Test Loss: 123.4398, Test Acc: 53.72%\n",
      "Epoch 2: Train Loss: 104.6910, Train Acc: 59.83%, Test Loss: 93.4085, Test Acc: 64.53%\n",
      "Epoch 3: Train Loss: 79.0497, Train Acc: 71.93%, Test Loss: 72.1699, Test Acc: 73.66%\n",
      "Epoch 4: Train Loss: 72.2054, Train Acc: 73.63%, Test Loss: 71.1593, Test Acc: 73.66%\n",
      "Epoch 5: Train Loss: 71.5058, Train Acc: 73.61%, Test Loss: 70.7268, Test Acc: 73.65%\n",
      "Epoch 6: Train Loss: 71.2602, Train Acc: 73.60%, Test Loss: 70.5872, Test Acc: 73.63%\n",
      "Epoch 7: Train Loss: 71.1645, Train Acc: 73.62%, Test Loss: 70.5200, Test Acc: 73.64%\n",
      "Epoch 8: Train Loss: 71.1026, Train Acc: 73.64%, Test Loss: 70.4945, Test Acc: 73.65%\n",
      "Epoch 9: Train Loss: 71.0479, Train Acc: 73.64%, Test Loss: 70.4377, Test Acc: 73.66%\n",
      "Epoch 10: Train Loss: 64.5755, Train Acc: 74.83%, Test Loss: 56.7772, Test Acc: 76.39%\n",
      "Epoch 11: Train Loss: 57.0468, Train Acc: 76.28%, Test Loss: 56.6773, Test Acc: 76.41%\n",
      "Epoch 12: Train Loss: 56.9755, Train Acc: 76.29%, Test Loss: 56.6224, Test Acc: 76.44%\n",
      "Epoch 13: Train Loss: 52.6690, Train Acc: 77.34%, Test Loss: 42.7782, Test Acc: 80.17%\n",
      "Epoch 14: Train Loss: 42.9745, Train Acc: 80.02%, Test Loss: 42.6287, Test Acc: 80.19%\n",
      "Epoch 15: Train Loss: 38.9179, Train Acc: 81.42%, Test Loss: 29.0787, Test Acc: 85.29%\n",
      "Epoch 16: Train Loss: 28.9141, Train Acc: 85.21%, Test Loss: 29.1778, Test Acc: 85.31%\n",
      "Epoch 17: Train Loss: 28.8255, Train Acc: 85.22%, Test Loss: 28.8308, Test Acc: 85.35%\n",
      "Epoch 18: Train Loss: 28.7652, Train Acc: 85.23%, Test Loss: 28.5277, Test Acc: 85.39%\n",
      "Epoch 19: Train Loss: 28.6984, Train Acc: 85.26%, Test Loss: 28.4626, Test Acc: 85.41%\n",
      "Epoch 20: Train Loss: 28.6630, Train Acc: 85.27%, Test Loss: 28.4157, Test Acc: 85.41%\n",
      "Epoch 21: Train Loss: 28.6247, Train Acc: 85.28%, Test Loss: 28.3835, Test Acc: 85.41%\n",
      "Epoch 22: Train Loss: 25.1364, Train Acc: 86.59%, Test Loss: 14.6130, Test Acc: 91.30%\n",
      "Epoch 23: Train Loss: 14.6340, Train Acc: 91.23%, Test Loss: 14.4948, Test Acc: 91.32%\n",
      "Epoch 24: Train Loss: 14.6036, Train Acc: 91.24%, Test Loss: 14.4702, Test Acc: 91.28%\n",
      "Epoch 25: Train Loss: 14.5827, Train Acc: 91.25%, Test Loss: 14.4519, Test Acc: 91.28%\n",
      "Epoch 26: Train Loss: 14.5758, Train Acc: 91.26%, Test Loss: 14.4327, Test Acc: 91.23%\n",
      "Epoch 27: Train Loss: 14.5591, Train Acc: 91.26%, Test Loss: 14.4120, Test Acc: 91.22%\n",
      "Epoch 28: Train Loss: 14.5602, Train Acc: 91.26%, Test Loss: 14.3952, Test Acc: 91.22%\n",
      "Epoch 29: Train Loss: 14.5715, Train Acc: 91.26%, Test Loss: 14.3688, Test Acc: 91.24%\n",
      "Epoch 30: Train Loss: 14.5330, Train Acc: 91.26%, Test Loss: 14.3412, Test Acc: 91.33%\n",
      "Epoch 31: Train Loss: 14.5237, Train Acc: 91.26%, Test Loss: 14.3341, Test Acc: 91.31%\n",
      "Epoch 32: Train Loss: 14.5192, Train Acc: 91.26%, Test Loss: 14.3142, Test Acc: 91.36%\n",
      "Epoch 33: Train Loss: 14.5052, Train Acc: 91.27%, Test Loss: 14.3027, Test Acc: 91.36%\n",
      "Epoch 34: Train Loss: 14.5015, Train Acc: 91.27%, Test Loss: 14.2938, Test Acc: 91.37%\n",
      "Epoch 35: Train Loss: 14.4972, Train Acc: 91.27%, Test Loss: 14.2889, Test Acc: 91.38%\n",
      "Epoch 36: Train Loss: 14.4834, Train Acc: 91.28%, Test Loss: 14.2869, Test Acc: 91.39%\n",
      "Epoch 37: Train Loss: 14.5009, Train Acc: 91.28%, Test Loss: 14.2770, Test Acc: 91.39%\n",
      "Epoch 38: Train Loss: 14.4746, Train Acc: 91.27%, Test Loss: 14.2653, Test Acc: 91.43%\n",
      "Epoch 39: Train Loss: 14.4726, Train Acc: 91.27%, Test Loss: 14.2598, Test Acc: 91.42%\n",
      "Epoch 40: Train Loss: 14.4671, Train Acc: 91.28%, Test Loss: 14.2755, Test Acc: 91.35%\n",
      "Epoch 41: Train Loss: 14.4765, Train Acc: 91.27%, Test Loss: 14.2576, Test Acc: 91.39%\n",
      "Epoch 42: Train Loss: 14.4652, Train Acc: 91.28%, Test Loss: 14.2620, Test Acc: 91.39%\n",
      "Epoch 43: Train Loss: 14.4527, Train Acc: 91.28%, Test Loss: 14.2583, Test Acc: 91.39%\n",
      "Epoch 44: Train Loss: 14.4508, Train Acc: 91.27%, Test Loss: 14.2581, Test Acc: 91.40%\n",
      "Epoch 45: Train Loss: 14.4454, Train Acc: 91.27%, Test Loss: 14.3373, Test Acc: 91.38%\n",
      "Epoch 46: Train Loss: 14.4418, Train Acc: 91.27%, Test Loss: 14.2789, Test Acc: 91.38%\n",
      "Epoch 47: Train Loss: 14.4410, Train Acc: 91.27%, Test Loss: 14.2677, Test Acc: 91.42%\n",
      "Epoch 48: Train Loss: 14.4389, Train Acc: 91.27%, Test Loss: 14.2550, Test Acc: 91.42%\n",
      "Epoch 49: Train Loss: 14.4355, Train Acc: 91.27%, Test Loss: 14.2648, Test Acc: 91.39%\n",
      "Epoch 50: Train Loss: 14.4346, Train Acc: 91.28%, Test Loss: 14.3595, Test Acc: 91.36%\n",
      "Epoch 51: Train Loss: 14.4366, Train Acc: 91.28%, Test Loss: 14.2515, Test Acc: 91.42%\n",
      "Epoch 52: Train Loss: 14.4286, Train Acc: 91.27%, Test Loss: 14.4580, Test Acc: 91.34%\n",
      "Epoch 53: Train Loss: 14.4294, Train Acc: 91.28%, Test Loss: 14.2508, Test Acc: 91.41%\n",
      "Epoch 54: Train Loss: 14.4245, Train Acc: 91.28%, Test Loss: 14.2478, Test Acc: 91.42%\n",
      "Epoch 55: Train Loss: 14.4217, Train Acc: 91.28%, Test Loss: 14.2533, Test Acc: 91.37%\n",
      "Epoch 56: Train Loss: 14.4261, Train Acc: 91.28%, Test Loss: 14.2541, Test Acc: 91.38%\n",
      "Epoch 57: Train Loss: 5.6184, Train Acc: 95.70%, Test Loss: 0.4071, Test Acc: 98.30%\n"
     ]
    }
   ],
   "source": [
    "epochs = 100\n",
    "test_acc = 0\n",
    "for epoch in range(1, epochs+1):\n",
    "    train_loss, train_acc = train(net3, train_dataloader3, criterion, optimizer)\n",
    "    test_loss, test_acc = test(net3, test_dataloader3, criterion)\n",
    "    print(f'Epoch {epoch}: Train Loss: {train_loss:.4f}, Train Acc: {train_acc:.2f}%, Test Loss: {test_loss:.4f}, Test Acc: {test_acc:.2f}%')\n",
    "    if test_acc > 95:\n",
    "        break"
   ]
  },
  {
   "cell_type": "code",
   "execution_count": 27,
   "metadata": {},
   "outputs": [],
   "source": [
    "# Save the model's weight\n",
    "torch.save(net3.state_dict(), os.path.join(base_path, \"kube_mm_scheduler\", \"weight\", \"net3.pt\"))"
   ]
  },
  {
   "cell_type": "code",
   "execution_count": null,
   "metadata": {},
   "outputs": [],
   "source": [
    "# # Exclude the last layer(fc4)\n",
    "# net3_pretrained = nn.Sequential(*list(net3.children())[:-1])\n",
    "# net3_pretrained"
   ]
  },
  {
   "cell_type": "code",
   "execution_count": 21,
   "metadata": {},
   "outputs": [],
   "source": [
    "sample1 = [[0.99, 0.90, 0.80, 0.80, 0.95, 0.95, 0.90, 0.85, 0.0, 0.0, 0.0, 0.0]]\n",
    "sample2 = [[0.99, 0.90, 0.80, 0.80, 0.95, 0.95, 0.90, 0.85, 0.0, 0.0, 0.6, 0.7]]"
   ]
  },
  {
   "cell_type": "code",
   "execution_count": 22,
   "metadata": {},
   "outputs": [],
   "source": [
    "# predict the score for each action\n",
    "def predict_score(data, model=net3):\n",
    "    model.eval()\n",
    "    if not torch.is_tensor(data):\n",
    "        data = torch.tensor(data, dtype=torch.float32)\n",
    "    data10 = data[:, :-2]\n",
    "    data2 = data[:, -2:]\n",
    "    output = model(data10, data2)\n",
    "    # Round up at the 4th decimal point\n",
    "    output = torch.round(output * 10000) / 10000\n",
    "    # # Softmax\n",
    "    # output = F.softmax(output, dim=1)\n",
    "    # print(output)\n",
    "    return output\n",
    "\n",
    "def predict(data, model=net3):\n",
    "    model.eval()\n",
    "    with torch.no_grad():\n",
    "        # if data is not torch tensor, convert it to torch tensor\n",
    "        if not torch.is_tensor(data):\n",
    "            data = torch.tensor(data, dtype=torch.float32)\n",
    "        data10 = data[:, :-2]\n",
    "        data2 = data[:, -2:]\n",
    "        output = model(data10, data2)\n",
    "        return output.argmax(dim=1, keepdim=True)\n"
   ]
  },
  {
   "cell_type": "code",
   "execution_count": 23,
   "metadata": {},
   "outputs": [
    {
     "data": {
      "text/plain": [
       "tensor([[0]])"
      ]
     },
     "execution_count": 23,
     "metadata": {},
     "output_type": "execute_result"
    }
   ],
   "source": [
    "predict(sample1)"
   ]
  },
  {
   "cell_type": "code",
   "execution_count": 24,
   "metadata": {},
   "outputs": [
    {
     "data": {
      "text/plain": [
       "tensor([[ 9.9552e+01, -2.9280e-01,  2.4490e-01,  3.1940e-01, -8.0000e-02,\n",
       "          2.0930e-01]], grad_fn=<DivBackward0>)"
      ]
     },
     "execution_count": 24,
     "metadata": {},
     "output_type": "execute_result"
    }
   ],
   "source": [
    "predict_score(sample1)"
   ]
  },
  {
   "cell_type": "code",
   "execution_count": 25,
   "metadata": {},
   "outputs": [
    {
     "data": {
      "text/plain": [
       "tensor([[5]])"
      ]
     },
     "execution_count": 25,
     "metadata": {},
     "output_type": "execute_result"
    }
   ],
   "source": [
    "predict(sample2)"
   ]
  },
  {
   "cell_type": "code",
   "execution_count": 26,
   "metadata": {},
   "outputs": [
    {
     "data": {
      "text/plain": [
       "tensor([[-2.0031, 23.0833, 37.8686, 15.5485, 26.9847, 65.2813]],\n",
       "       grad_fn=<DivBackward0>)"
      ]
     },
     "execution_count": 26,
     "metadata": {},
     "output_type": "execute_result"
    }
   ],
   "source": [
    "predict_score(sample2)"
   ]
  },
  {
   "attachments": {},
   "cell_type": "markdown",
   "metadata": {},
   "source": [
    "# Step 2:\n",
    "Second network utilizing the first network and takes node(2) additionally to get the score of the node.\n",
    "The label score should be either default scheduler's score or the first networks unit value."
   ]
  },
  {
   "attachments": {},
   "cell_type": "markdown",
   "metadata": {},
   "source": [
    "### Dataset"
   ]
  },
  {
   "cell_type": "code",
   "execution_count": 28,
   "metadata": {},
   "outputs": [],
   "source": [
    "class Dataset4(Dataset):\n",
    "    def __init__(self, csv_path, train=True):\n",
    "        self.data = pd.read_csv(csv_path)\n",
    "        # Drop the row which has 0 for the last -2, -3 columns\n",
    "        # self.data = self.data.drop(self.data[(self.data.iloc[:, -2] == 0) & (self.data.iloc[:, -3] == 0)].index)\n",
    "\n",
    "        if train:\n",
    "            self.data = self.data.sample(frac=0.8, random_state=42)\n",
    "        else:\n",
    "            self.data = self.data.drop(self.data.sample(frac=0.8, random_state=42).index)\n",
    "\n",
    "        self.data = self.transform(self.data)\n",
    "        self.input1 = self.data[:, :-5]\n",
    "        self.input2 = self.data[:, -5:-3]\n",
    "        self.input3 = self.data[:, -3:-1]\n",
    "        self.label = self.data[:, -1]\n",
    "        # multiply by 100\n",
    "        self.label = self.label * 100\n",
    "\n",
    "    def transform(self, data):\n",
    "        return torch.tensor(data.values, dtype=torch.float32)\n",
    "\n",
    "    def __len__(self):\n",
    "        return len(self.data)\n",
    "    \n",
    "    def __getitem__(self, idx):\n",
    "        return self.input1[idx], self.input2[idx], self.input3[idx], self.label[idx]"
   ]
  },
  {
   "cell_type": "code",
   "execution_count": 31,
   "metadata": {},
   "outputs": [],
   "source": [
    "data_path = os.path.join(base_path, \"dataset\", \"data_3.csv\")\n",
    "train_dataset4 = Dataset4(data_path, train=True)\n",
    "test_dataset4 = Dataset4(data_path, train=False)\n",
    "train_dataloader4 = DataLoader(train_dataset4, batch_size=32, shuffle=False)\n",
    "test_dataloader4 = DataLoader(test_dataset4, batch_size=32, shuffle=False)"
   ]
  },
  {
   "cell_type": "code",
   "execution_count": 33,
   "metadata": {},
   "outputs": [
    {
     "name": "stdout",
     "output_type": "stream",
     "text": [
      "torch.Size([32, 10]) torch.Size([32, 2]) torch.Size([32])\n",
      "input1: tensor([[0.7100, 0.4700, 0.2000, 0.6900, 0.9900, 0.9400, 0.6100, 0.9700, 0.5300,\n",
      "         0.1700],\n",
      "        [0.3700, 0.2900, 0.6400, 0.7600, 0.2800, 0.6400, 0.5400, 0.1500, 0.0800,\n",
      "         0.4000],\n",
      "        [0.8400, 0.5600, 0.4300, 0.7900, 0.3100, 0.4700, 0.0500, 0.5200, 0.7500,\n",
      "         0.1700],\n",
      "        [0.0700, 0.1000, 0.1400, 0.0900, 0.3400, 0.8200, 0.5900, 0.9000, 0.8800,\n",
      "         0.7600],\n",
      "        [0.7100, 0.8000, 0.9600, 0.8800, 0.4900, 0.7200, 0.6500, 0.7100, 0.7600,\n",
      "         0.9700],\n",
      "        [0.6500, 0.9100, 0.6000, 0.6900, 0.6200, 0.2100, 0.6000, 0.5300, 0.2500,\n",
      "         0.9000],\n",
      "        [0.5300, 0.8300, 0.1800, 0.0600, 0.1900, 0.4200, 0.0800, 0.2000, 0.1800,\n",
      "         0.2500],\n",
      "        [0.1300, 0.5900, 0.4100, 0.6400, 0.0200, 0.9200, 0.1800, 0.4000, 0.9300,\n",
      "         0.7300],\n",
      "        [0.0600, 0.8800, 0.1500, 0.3800, 0.6200, 0.1100, 0.3000, 0.4800, 0.1600,\n",
      "         0.8000],\n",
      "        [0.9900, 0.8600, 0.7300, 0.0700, 0.4100, 0.9100, 0.0900, 0.1200, 0.9600,\n",
      "         0.3900],\n",
      "        [0.6200, 0.0600, 0.3000, 0.6300, 0.3900, 0.3300, 0.5500, 0.0000, 0.2300,\n",
      "         0.3700],\n",
      "        [0.9500, 0.5600, 0.9400, 0.4500, 0.9700, 1.0000, 0.3900, 0.5500, 0.7700,\n",
      "         0.4100],\n",
      "        [0.5100, 0.0800, 0.3400, 0.7200, 0.4600, 0.9000, 0.3000, 0.4500, 0.9700,\n",
      "         0.2300],\n",
      "        [0.1000, 0.2600, 0.6900, 0.9000, 0.1900, 0.1600, 0.7400, 0.9800, 0.4400,\n",
      "         0.0800],\n",
      "        [0.8400, 0.2300, 0.4800, 0.2000, 0.8600, 0.5300, 0.5800, 0.1500, 0.7500,\n",
      "         0.7900],\n",
      "        [0.4500, 0.9500, 0.7100, 0.6000, 0.2800, 0.9900, 0.1200, 0.0600, 0.0400,\n",
      "         0.9800],\n",
      "        [0.2000, 0.8900, 0.4500, 0.9100, 0.9800, 0.0200, 0.2200, 0.3600, 0.1000,\n",
      "         0.3800],\n",
      "        [0.1800, 0.6700, 0.2100, 0.3200, 0.2900, 0.8600, 0.7800, 0.5900, 0.6900,\n",
      "         0.4000],\n",
      "        [0.1800, 0.0200, 0.4100, 0.1200, 0.2600, 0.2900, 0.3000, 0.3900, 0.0300,\n",
      "         0.8400],\n",
      "        [0.7400, 0.4700, 0.3300, 0.0400, 0.7800, 0.6400, 0.2500, 0.2200, 0.6900,\n",
      "         0.8600],\n",
      "        [0.1100, 0.5300, 0.1000, 0.4800, 0.3800, 0.6500, 0.9900, 0.7000, 0.1400,\n",
      "         0.7900],\n",
      "        [0.3200, 0.6400, 0.5900, 0.8000, 0.9800, 0.9900, 0.6800, 0.9700, 0.0100,\n",
      "         0.8500],\n",
      "        [0.1400, 0.4900, 0.5400, 0.9800, 0.3000, 0.3600, 0.7300, 0.7600, 0.6200,\n",
      "         0.5800],\n",
      "        [0.4900, 0.3000, 0.0500, 0.0900, 0.6400, 0.0700, 0.0100, 0.1100, 0.7700,\n",
      "         0.2700],\n",
      "        [0.8700, 0.8000, 0.1900, 0.9600, 0.8400, 0.1100, 0.0000, 0.5200, 0.0400,\n",
      "         0.6500],\n",
      "        [0.2200, 0.9300, 0.4800, 0.4300, 0.5800, 0.7400, 0.1200, 0.8100, 0.6000,\n",
      "         0.2900],\n",
      "        [0.9400, 0.5900, 0.8600, 0.3900, 0.4400, 0.5100, 0.0400, 0.8400, 0.9000,\n",
      "         0.8200],\n",
      "        [0.0200, 0.2100, 0.3800, 0.4100, 0.1100, 0.5300, 0.3400, 0.9800, 0.1700,\n",
      "         0.8800],\n",
      "        [0.8600, 0.2700, 0.2800, 0.3100, 0.4300, 0.3600, 0.4500, 0.6400, 0.7700,\n",
      "         0.9200],\n",
      "        [0.0100, 0.0300, 0.5100, 0.0100, 0.4200, 0.7100, 0.2600, 0.8000, 0.2300,\n",
      "         0.3700],\n",
      "        [0.7900, 0.8700, 0.2200, 0.8400, 0.4400, 0.4800, 0.9700, 0.9900, 0.6200,\n",
      "         0.6300],\n",
      "        [0.6500, 0.3200, 0.0700, 0.7000, 0.4000, 0.8600, 0.2900, 0.4800, 0.3000,\n",
      "         0.9100]])\n",
      "input2: tensor([[0.0000, 0.0000],\n",
      "        [0.0400, 0.1000],\n",
      "        [0.3100, 0.4000],\n",
      "        [0.0500, 0.4000],\n",
      "        [0.4700, 0.2100],\n",
      "        [0.2100, 0.1300],\n",
      "        [0.0000, 0.0000],\n",
      "        [0.0000, 0.0000],\n",
      "        [0.3800, 0.1900],\n",
      "        [0.0000, 0.0000],\n",
      "        [0.0000, 0.0000],\n",
      "        [0.3900, 0.2100],\n",
      "        [0.0000, 0.0000],\n",
      "        [0.0600, 0.1700],\n",
      "        [0.0000, 0.0000],\n",
      "        [0.3500, 0.3000],\n",
      "        [0.4600, 0.5000],\n",
      "        [0.4100, 0.3300],\n",
      "        [0.2300, 0.0800],\n",
      "        [0.3700, 0.2500],\n",
      "        [0.2700, 0.0500],\n",
      "        [0.1400, 0.3100],\n",
      "        [0.1500, 0.5000],\n",
      "        [0.0000, 0.0000],\n",
      "        [0.0900, 0.0400],\n",
      "        [0.3200, 0.0800],\n",
      "        [0.3300, 0.2600],\n",
      "        [0.1500, 0.3100],\n",
      "        [0.2000, 0.4900],\n",
      "        [0.2400, 0.4200],\n",
      "        [0.3900, 0.0600],\n",
      "        [0.1900, 0.2300]])\n",
      "input3: tensor([[0.9900, 0.9400],\n",
      "        [0.5400, 0.1500],\n",
      "        [0.4300, 0.7900],\n",
      "        [0.8800, 0.7600],\n",
      "        [0.9600, 0.8800],\n",
      "        [0.6000, 0.6900],\n",
      "        [0.1800, 0.2500],\n",
      "        [0.1300, 0.5900],\n",
      "        [0.1600, 0.8000],\n",
      "        [0.9600, 0.3900],\n",
      "        [0.2300, 0.3700],\n",
      "        [0.9700, 1.0000],\n",
      "        [0.3400, 0.7200],\n",
      "        [0.1000, 0.2600],\n",
      "        [0.7500, 0.7900],\n",
      "        [0.2800, 0.9900],\n",
      "        [0.2200, 0.3600],\n",
      "        [0.1800, 0.6700],\n",
      "        [0.3000, 0.3900],\n",
      "        [0.7800, 0.6400],\n",
      "        [0.3800, 0.6500],\n",
      "        [0.5900, 0.8000],\n",
      "        [0.3000, 0.3600],\n",
      "        [0.6400, 0.0700],\n",
      "        [0.8700, 0.8000],\n",
      "        [0.2200, 0.9300],\n",
      "        [0.9000, 0.8200],\n",
      "        [0.3400, 0.9800],\n",
      "        [0.7700, 0.9200],\n",
      "        [0.4200, 0.7100],\n",
      "        [0.4400, 0.4800],\n",
      "        [0.0700, 0.7000]])\n",
      "labels: tensor([0.0000e+00, 5.9510e+01, 3.4030e+01, 4.1950e+01, 3.3250e+01, 5.4880e+01,\n",
      "        0.0000e+00, 0.0000e+00, 2.9950e+01, 0.0000e+00, 0.0000e+00, 3.4370e+01,\n",
      "        2.0000e-02, 7.7190e+01, 0.0000e+00, 1.6700e+01, 5.4450e+01, 3.5820e+01,\n",
      "        7.0290e+01, 4.2320e+01, 5.2830e+01, 4.3720e+01, 6.4350e+01, 0.0000e+00,\n",
      "        5.1520e+01, 2.5850e+01, 3.8420e+01, 2.3310e+01, 3.3140e+01, 4.0890e+01,\n",
      "        6.3730e+01, 3.9160e+01])\n"
     ]
    }
   ],
   "source": [
    "for batch in train_dataloader4:\n",
    "    input1, input2, input3, labels = batch\n",
    "    print(input1.shape, input2.shape, labels.shape)\n",
    "    print(f\"input1: {input1}\\ninput2: {input2}\\ninput3: {input3}\\nlabels: {labels}\")\n",
    "    break"
   ]
  },
  {
   "attachments": {},
   "cell_type": "markdown",
   "metadata": {},
   "source": [
    "### Model"
   ]
  },
  {
   "cell_type": "code",
   "execution_count": 59,
   "metadata": {},
   "outputs": [],
   "source": [
    "import torch\n",
    "import torch.nn as nn\n",
    "import torch.nn.functional as F\n",
    "from kube_mm_scheduler.model.net3 import Net3\n",
    "\n",
    "class Net3_(Net3):\n",
    "    def __init__(self):\n",
    "        super(Net3_, self).__init__()\n",
    "        self.fc4 = None\n",
    "\n",
    "    def forward(self, x1, x2):\n",
    "        x1 = F.relu(self.fc1_1(x1))  \n",
    "        x2 = F.relu(self.fc1_2(x2))\n",
    "        x = torch.cat((x1, x2), dim=1) \n",
    "        x = F.relu(self.fc2(x))  \n",
    "        # x = F.relu(self.fc3(x)) # Should I use the activation function here?\n",
    "        x = self.fc3(x)\n",
    "        return x\n",
    "\n",
    "\n",
    "# Reuse Net3_pretrained to process input1 and input2\n",
    "# Then concatenate the output with input3\n",
    "class Net4(nn.Module):\n",
    "    def __init__(self):\n",
    "        super(Net4, self).__init__()\n",
    "\n",
    "        # Option1 : Use the Net3 as it is\n",
    "        # self.net3 = Net3()\n",
    "\n",
    "        # Option2 : Use the Net3 except the last layer allowing to take 2 inputs\n",
    "        # self.net3 = nn.Sequential(*list(net3.children())[:-1])\n",
    "\n",
    "        # Option3 : Use the Net3 except the last layer allowing to take 2 inputs\n",
    "        self.net3_ = Net3_()\n",
    "        \n",
    "    \n",
    "        self.fc1_3 = nn.Linear(2, 16)   # Selected node state (CPU, Memory)\n",
    "        # self.fc2 = nn.Linear(22, 16)    # Concatenated vector (Option1)\n",
    "        self.fc2 = nn.Linear(32, 16)    # Concatenated vector (Option2 and Option3)\n",
    "        self.fc3 = nn.Linear(16, 1)     # 1-sized vector\n",
    "\n",
    "    def forward(self, x1, x2, x3):\n",
    "        x12 = self.net3_(x1, x2)\n",
    "        x3 = F.relu(self.fc1_3(x3))\n",
    "        x = torch.cat((x12, x3), dim=1)\n",
    "        x = F.relu(self.fc2(x))\n",
    "        x = self.fc3(x)\n",
    "        return x"
   ]
  },
  {
   "cell_type": "code",
   "execution_count": 60,
   "metadata": {},
   "outputs": [
    {
     "name": "stdout",
     "output_type": "stream",
     "text": [
      "Net4(\n",
      "  (net3_): Net3_(\n",
      "    (fc1_1): Linear(in_features=10, out_features=16, bias=True)\n",
      "    (fc1_2): Linear(in_features=2, out_features=16, bias=True)\n",
      "    (fc2): Linear(in_features=32, out_features=16, bias=True)\n",
      "    (fc3): Linear(in_features=16, out_features=16, bias=True)\n",
      "    (fc4): None\n",
      "  )\n",
      "  (fc1_3): Linear(in_features=2, out_features=16, bias=True)\n",
      "  (fc2): Linear(in_features=32, out_features=16, bias=True)\n",
      "  (fc3): Linear(in_features=16, out_features=1, bias=True)\n",
      ")\n"
     ]
    }
   ],
   "source": [
    "net4 = Net4()\n",
    "\n",
    "# Option1: Load weight from net3\n",
    "# net4.net3.load_state_dict(net3.state_dict())\n",
    "\n",
    "# Option2: Load weight from net3_pretrained\n",
    "# net4.net3.load_state_dict(net3_pretrained.state_dict())\n",
    "\n",
    "# Option3: Load weight from net3\n",
    "net3_state_dict = net3.state_dict()\n",
    "net3_state_dict.pop('fc4.weight')\n",
    "net3_state_dict.pop('fc4.bias')\n",
    "net4.net3_.load_state_dict(net3_state_dict)\n",
    "\n",
    "# Freeze net3\n",
    "for param in net4.net3_.parameters():\n",
    "    param.requires_grad = False\n",
    "\n",
    "print(net4)"
   ]
  },
  {
   "cell_type": "code",
   "execution_count": 61,
   "metadata": {},
   "outputs": [
    {
     "name": "stdout",
     "output_type": "stream",
     "text": [
      "net3_.fc1_1.weight : frozen.\n",
      "net3_.fc1_1.bias : frozen.\n",
      "net3_.fc1_2.weight : frozen.\n",
      "net3_.fc1_2.bias : frozen.\n",
      "net3_.fc2.weight : frozen.\n",
      "net3_.fc2.bias : frozen.\n",
      "net3_.fc3.weight : frozen.\n",
      "net3_.fc3.bias : frozen.\n",
      "fc1_3.weight : traintable\n",
      "fc1_3.bias : traintable\n",
      "fc2.weight : traintable\n",
      "fc2.bias : traintable\n",
      "fc3.weight : traintable\n",
      "fc3.bias : traintable\n"
     ]
    }
   ],
   "source": [
    "for name, param in net4.named_parameters():\n",
    "    if not param.requires_grad:\n",
    "        print(name, \": frozen.\")\n",
    "    else:\n",
    "        print(name, \": traintable\")"
   ]
  },
  {
   "cell_type": "code",
   "execution_count": 62,
   "metadata": {},
   "outputs": [
    {
     "name": "stdout",
     "output_type": "stream",
     "text": [
      "Total params: 1617, Trainable params: 593\n"
     ]
    }
   ],
   "source": [
    "n_total_params = sum(p.numel() for p in net4.parameters())\n",
    "n_trainable_params = sum(p.numel() for p in net4.parameters() if p.requires_grad)\n",
    "print(f\"Total params: {n_total_params}, Trainable params: {n_trainable_params}\")"
   ]
  },
  {
   "cell_type": "code",
   "execution_count": 63,
   "metadata": {},
   "outputs": [],
   "source": [
    "# Training\n",
    "import torch.optim as optim\n",
    "\n",
    "criterion = nn.MSELoss()\n",
    "optimizer = optim.Adam(net4.parameters(), lr=0.001)"
   ]
  },
  {
   "cell_type": "code",
   "execution_count": 64,
   "metadata": {},
   "outputs": [],
   "source": [
    "def train(model, train_loader, criterion, optimizer):\n",
    "    model.train()\n",
    "    train_loss = 0\n",
    "    correct = 0\n",
    "    for data1, data2, data3, target in train_loader:\n",
    "        # Increase the dimension of target\n",
    "        # target = target.unsqueeze(1)\n",
    "        optimizer.zero_grad()\n",
    "        output = model(data1, data2, data3)\n",
    "        output = output.squeeze(1)\n",
    "        # print(f\"output: {output}\")\n",
    "        # print(f\"target: {target}\")\n",
    "        loss = criterion(output, target)\n",
    "        loss.backward()\n",
    "        optimizer.step()\n",
    "        train_loss += loss.item() * data2.size(0)\n",
    "        pred = output.detach()\n",
    "\n",
    "        # Count the number of correct predictions\n",
    "        # If diff is less than 3 percent, it is correct\n",
    "        diff = torch.abs(pred - target)\n",
    "        # print(diff)\n",
    "        correct += torch.sum(diff < 1).item()\n",
    "\n",
    "        # print(f\"correct: {correct}\")\n",
    "\n",
    "    train_loss /= len(train_loader.dataset)\n",
    "    accuracy = 100. * correct / len(train_loader.dataset)\n",
    "    # print(f\"accuracy = 100. * {correct} / {len(train_loader.dataset)} = {accuracy}\")\n",
    "    return train_loss, accuracy"
   ]
  },
  {
   "cell_type": "code",
   "execution_count": 65,
   "metadata": {},
   "outputs": [],
   "source": [
    "def test(model, test_loader, criterion):\n",
    "    model.eval()\n",
    "    test_loss = 0\n",
    "    correct = 0\n",
    "    with torch.no_grad():\n",
    "        for data1, data2, data3, target in test_loader:\n",
    "            # Increase the dimension of target\n",
    "            # target = target.unsqueeze(1)\n",
    "            output = model(data1, data2, data3)\n",
    "            output = output.squeeze(1)\n",
    "            test_loss += criterion(output, target).item() * data2.size(0)\n",
    "            pred = output.detach()\n",
    "\n",
    "            # Count the number of correct predictions\n",
    "            # If diff is less than 3 percent, it is correct\n",
    "            diff = torch.abs(pred - target)\n",
    "            correct += torch.sum(diff < 1).item()\n",
    "\n",
    "    test_loss /= len(test_loader.dataset)\n",
    "    accuracy = 100. * correct / len(test_loader.dataset)\n",
    "    return test_loss, accuracy"
   ]
  },
  {
   "cell_type": "code",
   "execution_count": null,
   "metadata": {},
   "outputs": [],
   "source": [
    "epochs = 20\n",
    "test_acc = 0\n",
    "for epoch in range(1, epochs+1):\n",
    "    train_loss, train_acc = train(net4, train_dataloader4, criterion, optimizer)\n",
    "    test_loss, test_acc = test(net4, test_dataloader4, criterion)\n",
    "    print(f'Epoch {epoch}: Train Loss: {train_loss:.4f}, Train Acc: {train_acc:.2f}%, Test Loss: {test_loss:.4f}, Test Acc: {test_acc:.2f}%')\n",
    "    # if test_acc > 95:\n",
    "    #     break"
   ]
  },
  {
   "cell_type": "code",
   "execution_count": 67,
   "metadata": {},
   "outputs": [],
   "source": [
    "# Save the model's weight\n",
    "torch.save(net4.state_dict(), os.path.join(base_path, \"kube_mm_scheduler\", \"weight\", \"net4.pt\"))"
   ]
  },
  {
   "attachments": {},
   "cell_type": "markdown",
   "metadata": {},
   "source": [
    "# Step 3:\n",
    "Using model based on Net4 which is designed for one node,\n",
    "takes pod(2)+nodes(5)+ node(2)*5, outputting the confidence(0~100) for each node\n",
    "Reusing the trained weights and network"
   ]
  },
  {
   "attachments": {},
   "cell_type": "markdown",
   "metadata": {},
   "source": [
    "### Dataset: Using same dataset and dataloader as net4"
   ]
  },
  {
   "attachments": {},
   "cell_type": "markdown",
   "metadata": {},
   "source": [
    "### Model: Based on net4, make new module"
   ]
  },
  {
   "cell_type": "code",
   "execution_count": 80,
   "metadata": {},
   "outputs": [],
   "source": [
    "import torch.nn as nn\n",
    "import torch.nn.functional as F\n",
    "from kube_mm_scheduler.model.net3 import Net3\n",
    "\n",
    "class Net3_(Net3):\n",
    "    def __init__(self):\n",
    "        super(Net3_, self).__init__()\n",
    "        self.fc4 = None\n",
    "\n",
    "    def forward(self, x1, x2):\n",
    "        x1 = F.relu(self.fc1_1(x1))  \n",
    "        x2 = F.relu(self.fc1_2(x2))\n",
    "        x = torch.cat((x1, x2), dim=1) \n",
    "        x = F.relu(self.fc2(x))  \n",
    "        x = F.relu(self.fc3(x))\n",
    "        return x\n",
    "\n",
    "# Reuse Net4 to process input1 and input2\n",
    "# We will take 5 nodes' state which is same as input3\n",
    "# And will concatenate each output with the output from Net3_\n",
    "class Net5(nn.Module):\n",
    "    def __init__(self):\n",
    "        super(Net5, self).__init__()\n",
    "        self.net3_ = Net3_()\n",
    "\n",
    "        self.fc1_3_1 = nn.Linear(2, 16)   # Node1 state (CPU, Memory)\n",
    "        self.fc1_3_2 = nn.Linear(2, 16)   # Node2 state (CPU, Memory)\n",
    "        self.fc1_3_3 = nn.Linear(2, 16)   # Node3 state (CPU, Memory)\n",
    "        self.fc1_3_4 = nn.Linear(2, 16)   # Node4 state (CPU, Memory)\n",
    "        self.fc1_3_5 = nn.Linear(2, 16)   # Node5 state (CPU, Memory)\n",
    "\n",
    "        # Node 1\n",
    "        self.fc2_1 = nn.Linear(32, 16)\n",
    "        self.fc3_1 = nn.Linear(16, 1)\n",
    "\n",
    "        # Node 2\n",
    "        self.fc2_2 = nn.Linear(32, 16)\n",
    "        self.fc3_2 = nn.Linear(16, 1)\n",
    "\n",
    "        # Node 3\n",
    "        self.fc2_3 = nn.Linear(32, 16)\n",
    "        self.fc3_3 = nn.Linear(16, 1)\n",
    "\n",
    "        # Node 4\n",
    "        self.fc2_4 = nn.Linear(32, 16)\n",
    "        self.fc3_4 = nn.Linear(16, 1)\n",
    "\n",
    "        # Node 5\n",
    "        self.fc2_5 = nn.Linear(32, 16)\n",
    "        self.fc3_5 = nn.Linear(16, 1)\n",
    "\n",
    "    def forward(self, x1, x2):\n",
    "        x12 = self.net3_(x1, x2)\n",
    "        \n",
    "        x3_1 = F.relu(self.fc1_3_1(x1[:, :2]))\n",
    "        x3_2 = F.relu(self.fc1_3_2(x1[:, 2:4]))\n",
    "        x3_3 = F.relu(self.fc1_3_3(x1[:, 4:6]))\n",
    "        x3_4 = F.relu(self.fc1_3_4(x1[:, 6:8]))\n",
    "        x3_5 = F.relu(self.fc1_3_5(x1[:, 8:10]))\n",
    "\n",
    "        x4_1 = torch.cat((x12, x3_1), dim=1)\n",
    "        x4_2 = torch.cat((x12, x3_2), dim=1)\n",
    "        x4_3 = torch.cat((x12, x3_3), dim=1)\n",
    "        x4_4 = torch.cat((x12, x3_4), dim=1)\n",
    "        x4_5 = torch.cat((x12, x3_5), dim=1)\n",
    "\n",
    "        x5_1 = F.relu(self.fc2_1(x4_1))\n",
    "        x5_2 = F.relu(self.fc2_2(x4_2))\n",
    "        x5_3 = F.relu(self.fc2_3(x4_3))\n",
    "        x5_4 = F.relu(self.fc2_4(x4_4))\n",
    "        x5_5 = F.relu(self.fc2_5(x4_5))\n",
    "\n",
    "        # x5_1 = self.fc2_1(x4_1)\n",
    "        # x5_2 = self.fc2_2(x4_2)\n",
    "        # x5_3 = self.fc2_3(x4_3)\n",
    "        # x5_4 = self.fc2_4(x4_4)\n",
    "        # x5_5 = self.fc2_5(x4_5)\n",
    "\n",
    "        x6_1 = self.fc3_1(x5_1)\n",
    "        x6_2 = self.fc3_2(x5_2)\n",
    "        x6_3 = self.fc3_3(x5_3)\n",
    "        x6_4 = self.fc3_4(x5_4)\n",
    "        x6_5 = self.fc3_5(x5_5)\n",
    "\n",
    "        x7 = torch.cat((x6_1, x6_2, x6_3, x6_4, x6_5), dim=1)\n",
    "        # x7 = torch.cat((x5_1, x5_2, x5_3, x5_4, x5_5), dim=1)\n",
    "        return x7\n",
    "\n",
    "        "
   ]
  },
  {
   "cell_type": "code",
   "execution_count": 81,
   "metadata": {},
   "outputs": [
    {
     "name": "stdout",
     "output_type": "stream",
     "text": [
      "Net5(\n",
      "  (net3_): Net3_(\n",
      "    (fc1_1): Linear(in_features=10, out_features=16, bias=True)\n",
      "    (fc1_2): Linear(in_features=2, out_features=16, bias=True)\n",
      "    (fc2): Linear(in_features=32, out_features=16, bias=True)\n",
      "    (fc3): Linear(in_features=16, out_features=16, bias=True)\n",
      "    (fc4): None\n",
      "  )\n",
      "  (fc1_3_1): Linear(in_features=2, out_features=16, bias=True)\n",
      "  (fc1_3_2): Linear(in_features=2, out_features=16, bias=True)\n",
      "  (fc1_3_3): Linear(in_features=2, out_features=16, bias=True)\n",
      "  (fc1_3_4): Linear(in_features=2, out_features=16, bias=True)\n",
      "  (fc1_3_5): Linear(in_features=2, out_features=16, bias=True)\n",
      "  (fc2_1): Linear(in_features=32, out_features=16, bias=True)\n",
      "  (fc3_1): Linear(in_features=16, out_features=1, bias=True)\n",
      "  (fc2_2): Linear(in_features=32, out_features=16, bias=True)\n",
      "  (fc3_2): Linear(in_features=16, out_features=1, bias=True)\n",
      "  (fc2_3): Linear(in_features=32, out_features=16, bias=True)\n",
      "  (fc3_3): Linear(in_features=16, out_features=1, bias=True)\n",
      "  (fc2_4): Linear(in_features=32, out_features=16, bias=True)\n",
      "  (fc3_4): Linear(in_features=16, out_features=1, bias=True)\n",
      "  (fc2_5): Linear(in_features=32, out_features=16, bias=True)\n",
      "  (fc3_5): Linear(in_features=16, out_features=1, bias=True)\n",
      ")\n"
     ]
    }
   ],
   "source": [
    "net5 = Net5()\n",
    "\n",
    "# Load weight from net3\n",
    "net3_state_dict = net3.state_dict()\n",
    "net3_state_dict.pop('fc4.weight')\n",
    "net3_state_dict.pop('fc4.bias')\n",
    "net5.net3_.load_state_dict(net3_state_dict)\n",
    "\n",
    "# Freeze net3\n",
    "for param in net5.net3_.parameters():\n",
    "    param.requires_grad = False\n",
    "\n",
    "# Load weight from net4\n",
    "net4_state_dict = torch.load(os.path.join(base_path, \"kube_mm_scheduler\", \"weight\", \"net4.pt\"))\n",
    "\n",
    "fc1_3_weight = net4_state_dict['fc1_3.weight']\n",
    "fc1_3_bias = net4_state_dict['fc1_3.bias']\n",
    "\n",
    "fc2_weight = net4_state_dict['fc2.weight']\n",
    "fc2_bias = net4_state_dict['fc2.bias']\n",
    "\n",
    "fc3_weight = net4_state_dict['fc3.weight']\n",
    "fc3_bias = net4_state_dict['fc3.bias']\n",
    "\n",
    "net5.fc1_3_1.weight.data = fc1_3_weight\n",
    "net5.fc1_3_1.bias.data = fc1_3_bias\n",
    "\n",
    "net5.fc1_3_2.weight.data = fc1_3_weight\n",
    "net5.fc1_3_2.bias.data = fc1_3_bias\n",
    "\n",
    "net5.fc1_3_3.weight.data = fc1_3_weight\n",
    "net5.fc1_3_3.bias.data = fc1_3_bias\n",
    "\n",
    "net5.fc1_3_4.weight.data = fc1_3_weight\n",
    "net5.fc1_3_4.bias.data = fc1_3_bias\n",
    "\n",
    "net5.fc1_3_5.weight.data = fc1_3_weight\n",
    "net5.fc1_3_5.bias.data = fc1_3_bias\n",
    "\n",
    "net5.fc2_1.weight.data = fc2_weight\n",
    "net5.fc2_1.bias.data = fc2_bias\n",
    "\n",
    "net5.fc2_2.weight.data = fc2_weight\n",
    "net5.fc2_2.bias.data = fc2_bias\n",
    "\n",
    "net5.fc2_3.weight.data = fc2_weight\n",
    "net5.fc2_3.bias.data = fc2_bias\n",
    "\n",
    "net5.fc2_4.weight.data = fc2_weight\n",
    "net5.fc2_4.bias.data = fc2_bias\n",
    "\n",
    "net5.fc2_5.weight.data = fc2_weight\n",
    "net5.fc2_5.bias.data = fc2_bias\n",
    "\n",
    "# net5.fc3_1.weight.data = fc3_weight\n",
    "# net5.fc3_1.bias.data = fc3_bias\n",
    "\n",
    "# net5.fc3_2.weight.data = fc3_weight\n",
    "# net5.fc3_2.bias.data = fc3_bias\n",
    "\n",
    "# net5.fc3_3.weight.data = fc3_weight\n",
    "# net5.fc3_3.bias.data = fc3_bias\n",
    "\n",
    "# net5.fc3_4.weight.data = fc3_weight\n",
    "# net5.fc3_4.bias.data = fc3_bias\n",
    "\n",
    "# net5.fc3_5.weight.data = fc3_weight\n",
    "# net5.fc3_5.bias.data = fc3_bias\n",
    "\n",
    "print(net5)"
   ]
  },
  {
   "cell_type": "code",
   "execution_count": 82,
   "metadata": {},
   "outputs": [
    {
     "name": "stdout",
     "output_type": "stream",
     "text": [
      "net3_.fc1_1.weight : frozen.\n",
      "net3_.fc1_1.bias : frozen.\n",
      "net3_.fc1_2.weight : frozen.\n",
      "net3_.fc1_2.bias : frozen.\n",
      "net3_.fc2.weight : frozen.\n",
      "net3_.fc2.bias : frozen.\n",
      "net3_.fc3.weight : frozen.\n",
      "net3_.fc3.bias : frozen.\n",
      "fc1_3_1.weight : traintable\n",
      "fc1_3_1.bias : traintable\n",
      "fc1_3_2.weight : traintable\n",
      "fc1_3_2.bias : traintable\n",
      "fc1_3_3.weight : traintable\n",
      "fc1_3_3.bias : traintable\n",
      "fc1_3_4.weight : traintable\n",
      "fc1_3_4.bias : traintable\n",
      "fc1_3_5.weight : traintable\n",
      "fc1_3_5.bias : traintable\n",
      "fc2_1.weight : traintable\n",
      "fc2_1.bias : traintable\n",
      "fc3_1.weight : traintable\n",
      "fc3_1.bias : traintable\n",
      "fc2_2.weight : traintable\n",
      "fc2_2.bias : traintable\n",
      "fc3_2.weight : traintable\n",
      "fc3_2.bias : traintable\n",
      "fc2_3.weight : traintable\n",
      "fc2_3.bias : traintable\n",
      "fc3_3.weight : traintable\n",
      "fc3_3.bias : traintable\n",
      "fc2_4.weight : traintable\n",
      "fc2_4.bias : traintable\n",
      "fc3_4.weight : traintable\n",
      "fc3_4.bias : traintable\n",
      "fc2_5.weight : traintable\n",
      "fc2_5.bias : traintable\n",
      "fc3_5.weight : traintable\n",
      "fc3_5.bias : traintable\n"
     ]
    }
   ],
   "source": [
    "# Network summary\n",
    "for name, param in net5.named_parameters():\n",
    "    if not param.requires_grad:\n",
    "        print(name, \": frozen.\")\n",
    "    else:\n",
    "        print(name, \": traintable\")"
   ]
  },
  {
   "cell_type": "code",
   "execution_count": 83,
   "metadata": {},
   "outputs": [
    {
     "name": "stdout",
     "output_type": "stream",
     "text": [
      "torch.Size([32, 10]) torch.Size([32, 2]) torch.Size([32, 6])\n",
      "input1: tensor([[0.4200, 0.6000, 0.5300, 0.1200, 0.7500, 0.5900, 0.1900, 0.8900, 0.0400,\n",
      "         0.7600],\n",
      "        [0.2500, 0.8400, 0.0900, 0.1700, 0.8800, 0.1100, 0.2400, 0.8500, 0.3100,\n",
      "         0.2100],\n",
      "        [0.4700, 0.1400, 0.4400, 0.7900, 0.6200, 0.3800, 0.4200, 0.5900, 0.2600,\n",
      "         0.3400],\n",
      "        [0.2100, 0.7500, 0.6400, 0.2300, 0.9900, 0.1200, 0.5800, 0.1200, 0.1600,\n",
      "         0.4000],\n",
      "        [0.4800, 0.9900, 0.4700, 0.2800, 0.0900, 0.4900, 0.9700, 0.0300, 0.7100,\n",
      "         0.6800],\n",
      "        [0.8000, 0.9200, 0.2100, 0.5000, 0.3300, 0.8900, 0.6800, 0.3300, 0.5800,\n",
      "         0.0700],\n",
      "        [0.6900, 0.5300, 0.5500, 0.0500, 0.9900, 0.3300, 0.4200, 0.9400, 0.4900,\n",
      "         0.5200],\n",
      "        [0.5300, 0.4300, 0.8500, 0.4200, 0.3700, 0.6300, 0.8900, 0.2700, 0.5400,\n",
      "         0.4700],\n",
      "        [0.1200, 0.9100, 0.5700, 0.1500, 0.1500, 0.0700, 0.2000, 0.1100, 0.9300,\n",
      "         0.8900],\n",
      "        [0.4800, 0.7900, 0.8000, 0.2000, 0.0000, 0.5200, 0.7000, 0.0300, 0.2600,\n",
      "         0.3400],\n",
      "        [0.7200, 0.3200, 0.4400, 0.3500, 0.1400, 0.8700, 0.1300, 0.7700, 0.3300,\n",
      "         0.2700],\n",
      "        [0.9900, 0.8300, 0.9200, 0.0700, 0.6700, 0.1900, 0.6100, 0.2800, 0.8700,\n",
      "         0.7000],\n",
      "        [0.3600, 0.4400, 0.0800, 0.0600, 0.5300, 0.8900, 0.5900, 0.2400, 0.5300,\n",
      "         0.0800],\n",
      "        [0.2200, 0.0900, 0.9000, 0.3800, 0.6500, 0.4400, 0.6700, 0.0700, 0.6400,\n",
      "         0.6100],\n",
      "        [0.6500, 0.5600, 0.7100, 0.7600, 0.4200, 0.6300, 0.2900, 0.7500, 0.2500,\n",
      "         0.8400],\n",
      "        [0.6100, 0.6800, 0.4200, 0.5900, 0.0300, 0.0600, 0.2300, 0.8500, 0.4900,\n",
      "         0.1700],\n",
      "        [0.0900, 0.3700, 0.4900, 0.9500, 0.4600, 0.6700, 0.9600, 0.0500, 0.8500,\n",
      "         0.4700],\n",
      "        [0.1400, 0.8500, 0.2200, 0.1900, 0.4500, 0.4100, 0.7900, 0.6000, 0.3100,\n",
      "         0.0800],\n",
      "        [0.3400, 0.9700, 0.4500, 0.6200, 0.7000, 0.8600, 0.9400, 0.5300, 0.2700,\n",
      "         0.3700],\n",
      "        [0.4500, 0.0400, 0.5100, 0.1800, 0.2600, 0.3400, 0.5600, 0.4700, 0.7800,\n",
      "         0.0300],\n",
      "        [0.9700, 0.1800, 0.8400, 0.4300, 0.5600, 0.5900, 0.5700, 0.7200, 0.0700,\n",
      "         0.4500],\n",
      "        [0.5700, 0.9500, 0.6700, 0.5600, 0.9600, 0.6900, 0.1300, 0.8600, 0.8300,\n",
      "         0.3800],\n",
      "        [0.8900, 0.8200, 0.3000, 0.4300, 0.9700, 0.5900, 0.1700, 0.2400, 0.5300,\n",
      "         0.7800],\n",
      "        [0.3500, 0.6000, 0.4700, 0.4800, 0.7100, 0.8300, 0.8200, 0.8800, 0.5100,\n",
      "         0.0500],\n",
      "        [0.5000, 0.1400, 0.5500, 0.0500, 0.5600, 0.9300, 0.9300, 0.5300, 1.0000,\n",
      "         0.1200],\n",
      "        [0.9800, 0.5600, 0.3600, 0.4600, 0.8000, 0.6300, 0.0900, 0.2500, 0.3900,\n",
      "         0.2000],\n",
      "        [0.7900, 0.1400, 0.5700, 0.4900, 0.4900, 0.5000, 0.4200, 0.9800, 1.0000,\n",
      "         0.9900],\n",
      "        [0.8500, 0.3900, 0.4600, 0.7800, 0.7200, 0.6900, 0.6500, 0.5500, 0.0900,\n",
      "         0.6600],\n",
      "        [0.1000, 0.3200, 0.9300, 0.2200, 0.5900, 0.1000, 0.4100, 0.6600, 0.2300,\n",
      "         0.6800],\n",
      "        [0.8300, 0.0000, 0.7700, 0.8100, 0.2600, 0.4000, 0.1900, 0.7200, 0.4600,\n",
      "         0.5200],\n",
      "        [0.8700, 0.4600, 0.8300, 0.6500, 0.7200, 0.0200, 0.7000, 0.8100, 0.9500,\n",
      "         0.4800],\n",
      "        [0.0400, 0.8000, 0.7400, 0.2100, 0.1000, 0.8900, 0.1100, 0.2200, 0.5500,\n",
      "         0.4400]])\n",
      "input2: tensor([[0.2600, 0.4500],\n",
      "        [0.0800, 0.0900],\n",
      "        [0.2900, 0.4000],\n",
      "        [0.4700, 0.3000],\n",
      "        [0.3600, 0.1900],\n",
      "        [0.0000, 0.0000],\n",
      "        [0.4600, 0.2300],\n",
      "        [0.0700, 0.5000],\n",
      "        [0.1300, 0.2400],\n",
      "        [0.0000, 0.0000],\n",
      "        [0.1300, 0.4500],\n",
      "        [0.1700, 0.0100],\n",
      "        [0.1900, 0.1100],\n",
      "        [0.4900, 0.0700],\n",
      "        [0.3200, 0.0800],\n",
      "        [0.0000, 0.0000],\n",
      "        [0.0800, 0.3200],\n",
      "        [0.3900, 0.2800],\n",
      "        [0.2000, 0.2300],\n",
      "        [0.3900, 0.1200],\n",
      "        [0.3000, 0.0900],\n",
      "        [0.1400, 0.0800],\n",
      "        [0.0200, 0.1800],\n",
      "        [0.0000, 0.0000],\n",
      "        [0.1700, 0.2700],\n",
      "        [0.4200, 0.3400],\n",
      "        [0.0700, 0.4500],\n",
      "        [0.0900, 0.1100],\n",
      "        [0.3000, 0.2100],\n",
      "        [0.4700, 0.2600],\n",
      "        [0.3000, 0.1900],\n",
      "        [0.2500, 0.2800]])\n",
      "labels: tensor([[  0.0000,  48.0000,  45.0000,  41.0000,  20.0000,  26.0000],\n",
      "        [  0.0000,  39.0000,  85.0000,  33.0000,  38.0000,  78.0000],\n",
      "        [  0.0000,  51.0000,  34.0000,  46.0000,  49.0000,  64.0000],\n",
      "        [  0.0000,  30.0000,  39.0000,   9.0000,  40.0000,  55.0000],\n",
      "        [  0.0000,  24.0000,  58.0000,  52.0000,  14.0000,  50.0000],\n",
      "        [100.0000,   0.0000,   0.0000,   0.0000,   0.0000,   0.0000],\n",
      "        [  0.0000,  44.0000,  43.0000,  17.0000,  23.0000,  56.0000],\n",
      "        [  0.0000,  57.0000,  33.0000,  48.0000,  26.0000,  57.0000],\n",
      "        [  0.0000,  26.0000,  52.0000,  81.0000,  79.0000,  43.0000],\n",
      "        [100.0000,   0.0000,   0.0000,   0.0000,   0.0000,   0.0000],\n",
      "        [  0.0000,  40.0000,  61.0000,  24.0000,  31.0000,  68.0000],\n",
      "        [  0.0000,  42.0000,  28.0000,  50.0000,  57.0000,  48.0000],\n",
      "        [  0.0000,  68.0000,  88.0000,  39.0000,  54.0000,  55.0000],\n",
      "        [  0.0000,  72.0000,  28.0000,  48.0000,  37.0000,  53.0000],\n",
      "        [  0.0000,  55.0000,  51.0000,  53.0000,  41.0000,  33.0000],\n",
      "        [100.0000,   0.0000,   0.0000,   0.0000,   0.0000,   0.0000],\n",
      "        [  0.0000,  65.0000,  31.0000,  51.0000,  19.0000,  38.0000],\n",
      "        [  0.0000,  23.0000,  71.0000,  60.0000,  39.0000,  62.0000],\n",
      "        [  0.0000,  25.0000,  54.0000,  42.0000,  32.0000,  68.0000],\n",
      "        [  0.0000,  54.0000,  53.0000,  68.0000,  57.0000,  29.0000],\n",
      "        [  0.0000,  22.0000,  38.0000,  60.0000,  51.0000,  58.0000],\n",
      "        [  0.0000,  38.0000,  58.0000,  40.0000,  33.0000,  42.0000],\n",
      "        [  0.0000,  49.0000,  70.0000,  37.0000,  81.0000,  50.0000],\n",
      "        [100.0000,   0.0000,   0.0000,   0.0000,   0.0000,   0.0000],\n",
      "        [  0.0000,  55.0000,  49.0000,  33.0000,  33.0000,  17.0000],\n",
      "        [  0.0000,  22.0000,  55.0000,  37.0000,  65.0000,  57.0000],\n",
      "        [  0.0000,  31.0000,  57.0000,  62.0000,  24.0000,  37.0000],\n",
      "        [  0.0000,  41.0000,  48.0000,  58.0000,  60.0000,  48.0000],\n",
      "        [  0.0000,  66.0000,  23.0000,  45.0000,  48.0000,  42.0000],\n",
      "        [  0.0000,  20.0000,  40.0000,  58.0000,  33.0000,  54.0000],\n",
      "        [  0.0000,  34.0000,  42.0000,  34.0000,  44.0000,  29.0000],\n",
      "        [  0.0000,  28.0000,  36.0000,  22.0000,  73.0000,  56.0000]])\n"
     ]
    }
   ],
   "source": [
    "# Sample input from test_dataloader3\n",
    "# 0:10 -> Node state\n",
    "# 10:12 -> Pod quota\n",
    "# 12: -> Label confidence for each node\n",
    "\n",
    "# Load sample data\n",
    "for batch in test_dataloader3:\n",
    "    input1, input2, labels = batch\n",
    "    print(input1.shape, input2.shape, labels.shape)\n",
    "    print(f\"input1: {input1}\\ninput2: {input2}\\nlabels: {labels}\")\n",
    "    break"
   ]
  },
  {
   "cell_type": "code",
   "execution_count": 84,
   "metadata": {},
   "outputs": [
    {
     "name": "stdout",
     "output_type": "stream",
     "text": [
      "output: tensor([[-2.8801e+01, -2.2547e+01,  7.9270e-02, -5.9860e+00,  8.7338e+00],\n",
      "        [-2.1714e+01, -3.3981e+01, -4.9292e+00,  5.3044e-01,  1.8565e+01],\n",
      "        [-3.2200e+01, -1.2286e+01, -5.3324e+00, -2.4389e+00,  1.1260e+01],\n",
      "        [-2.3971e+01, -1.5778e+01, -4.9527e-01, -4.3965e+00,  1.0885e+01],\n",
      "        [-1.1851e+01, -3.2692e+01,  3.9137e+00, -4.7842e+00,  1.9038e+01],\n",
      "        [-2.8010e+01, -2.1234e+01, -5.5472e+00,  1.4427e+01, -6.1142e+00],\n",
      "        [-2.4886e+01, -1.8880e+01, -1.3755e+00, -5.7954e+00,  1.9988e+01],\n",
      "        [-2.9530e+01, -1.3121e+01,  6.1716e-01, -4.4357e+00,  1.7321e+01],\n",
      "        [ 9.2194e-01, -1.2454e+01, -1.2743e+01,  4.2708e+00, -8.1280e+00],\n",
      "        [-3.1139e+01, -9.7992e+00, -2.0152e+01,  1.2318e+01,  4.9017e+00],\n",
      "        [-2.0874e+01, -2.6960e+01, -3.0676e+00, -3.7761e+00,  1.9549e+01],\n",
      "        [-2.5324e+01, -7.8409e+00, -8.4735e+00,  3.0150e+00, -6.3360e+00],\n",
      "        [-3.4119e+01, -3.4336e+01, -6.1001e+00,  1.1106e+00, -2.0089e-01],\n",
      "        [-3.9717e+01, -9.8384e+00, -3.5844e+00, -2.6704e+00,  1.0824e+01],\n",
      "        [-3.1428e+01, -1.8634e+01, -4.4685e+00, -4.2764e-01, -2.7211e+00],\n",
      "        [-4.4823e+01, -2.0587e+01, -2.0439e+01,  1.1144e+01, -2.9354e-01],\n",
      "        [-3.3659e+01, -1.1132e+01,  6.3662e-01, -3.3339e+00,  1.2294e+01],\n",
      "        [-2.2040e+01, -3.3458e+01,  3.5070e-02, -3.7639e+00,  1.5117e+01],\n",
      "        [-1.7803e+01, -2.1086e+01,  6.0118e-02, -2.5149e+00,  1.7844e+01],\n",
      "        [-3.5969e+01, -1.9148e+01, -8.6323e+00,  1.1179e+00, -7.2892e+00],\n",
      "        [-1.0373e+01, -1.0889e+01, -5.2470e+00, -1.9537e-01,  5.4216e+00],\n",
      "        [-1.9616e+01, -2.0677e+01, -2.0080e+00,  3.9309e-02,  4.0329e+00],\n",
      "        [-2.2774e+01, -1.8287e+01, -6.0162e+00,  5.5862e+00, -9.4155e+00],\n",
      "        [-4.5089e+01, -2.4853e+01, -1.5209e+01,  1.4115e+01, -4.7751e+00],\n",
      "        [-3.3133e+01, -1.8701e+01, -4.0023e+00, -1.7647e+00, -4.7634e+00],\n",
      "        [-1.1492e+01, -2.0281e+01, -6.4816e+00, -1.0469e+00, -1.3046e+00],\n",
      "        [-1.7053e+01, -2.7476e+01, -1.1443e+00, -3.6087e+00,  8.5687e+00],\n",
      "        [-2.4269e+01, -1.1552e+01, -8.1692e+00,  2.9110e+00, -7.5199e+00],\n",
      "        [-4.0828e+01, -5.4661e+00, -7.4987e+00, -2.5521e-01, -4.7032e-01],\n",
      "        [-1.8556e+01, -1.7476e+01, -9.4899e-01, -5.2435e+00,  1.2826e+01],\n",
      "        [-2.5823e+01, -1.4595e+01, -6.3879e+00, -6.6132e-01, -6.1499e+00],\n",
      "        [-1.0085e+01, -1.0233e+01, -4.2412e+00,  2.3147e+00, -8.0846e+00]],\n",
      "       grad_fn=<CatBackward0>)\n",
      "labels: tensor([[48.0000, 45.0000, 41.0000, 20.0000, 26.0000],\n",
      "        [39.0000, 85.0000, 33.0000, 38.0000, 78.0000],\n",
      "        [51.0000, 34.0000, 46.0000, 49.0000, 64.0000],\n",
      "        [30.0000, 39.0000,  9.0000, 40.0000, 55.0000],\n",
      "        [24.0000, 58.0000, 52.0000, 14.0000, 50.0000],\n",
      "        [ 0.0000,  0.0000,  0.0000,  0.0000,  0.0000],\n",
      "        [44.0000, 43.0000, 17.0000, 23.0000, 56.0000],\n",
      "        [57.0000, 33.0000, 48.0000, 26.0000, 57.0000],\n",
      "        [26.0000, 52.0000, 81.0000, 79.0000, 43.0000],\n",
      "        [ 0.0000,  0.0000,  0.0000,  0.0000,  0.0000],\n",
      "        [40.0000, 61.0000, 24.0000, 31.0000, 68.0000],\n",
      "        [42.0000, 28.0000, 50.0000, 57.0000, 48.0000],\n",
      "        [68.0000, 88.0000, 39.0000, 54.0000, 55.0000],\n",
      "        [72.0000, 28.0000, 48.0000, 37.0000, 53.0000],\n",
      "        [55.0000, 51.0000, 53.0000, 41.0000, 33.0000],\n",
      "        [ 0.0000,  0.0000,  0.0000,  0.0000,  0.0000],\n",
      "        [65.0000, 31.0000, 51.0000, 19.0000, 38.0000],\n",
      "        [23.0000, 71.0000, 60.0000, 39.0000, 62.0000],\n",
      "        [25.0000, 54.0000, 42.0000, 32.0000, 68.0000],\n",
      "        [54.0000, 53.0000, 68.0000, 57.0000, 29.0000],\n",
      "        [22.0000, 38.0000, 60.0000, 51.0000, 58.0000],\n",
      "        [38.0000, 58.0000, 40.0000, 33.0000, 42.0000],\n",
      "        [49.0000, 70.0000, 37.0000, 81.0000, 50.0000],\n",
      "        [ 0.0000,  0.0000,  0.0000,  0.0000,  0.0000],\n",
      "        [55.0000, 49.0000, 33.0000, 33.0000, 17.0000],\n",
      "        [22.0000, 55.0000, 37.0000, 65.0000, 57.0000],\n",
      "        [31.0000, 57.0000, 62.0000, 24.0000, 37.0000],\n",
      "        [41.0000, 48.0000, 58.0000, 60.0000, 48.0000],\n",
      "        [66.0000, 23.0000, 45.0000, 48.0000, 42.0000],\n",
      "        [20.0000, 40.0000, 58.0000, 33.0000, 54.0000],\n",
      "        [34.0000, 42.0000, 34.0000, 44.0000, 29.0000],\n",
      "        [28.0000, 36.0000, 22.0000, 73.0000, 56.0000]])\n"
     ]
    }
   ],
   "source": [
    "for batch in test_dataloader3:\n",
    "    input1, input2, labels = batch\n",
    "    # Exclude the first column from labels\n",
    "    labels = labels[:, 1:]\n",
    "\n",
    "    # Test net5\n",
    "    output = net5(input1, input2)\n",
    "    print(f\"output: {output}\")\n",
    "    print(f\"labels: {labels}\")\n",
    "    break\n",
    "\n",
    "    # If diff is less than 0.1, count it as correct\n",
    "    # diff = torch.abs(output - labels)\n",
    "\n",
    "    # print(diff)\n",
    "\n",
    "    # break"
   ]
  },
  {
   "cell_type": "code",
   "execution_count": 89,
   "metadata": {},
   "outputs": [
    {
     "name": "stdout",
     "output_type": "stream",
     "text": [
      "Base Path: /Users/swkim/Documents/coding/thesis/kube_my_scheduler/notebook/..\n"
     ]
    }
   ],
   "source": [
    "import os\n",
    "import torch\n",
    "import random\n",
    "from kube_mm_scheduler.model.net5 import Net5\n",
    "\n",
    "base_path = os.path.join(os.getcwd(), \"..\")\n",
    "\n",
    "net5 = Net5()\n",
    "net5.load_state_dict(torch.load(os.path.join(base_path, \"kube_mm_scheduler\", \"weight\", \"net5.pt\")))\n",
    "\n",
    "class Scheduler:\n",
    "    def __init__(self, model=net5):\n",
    "        self.model = torch.load(model)\n",
    "        self.model.eval()\n",
    "\n",
    "    def decision(self, env):\n",
    "        state = env.get_state()\n",
    "\n",
    "        # If no pending pod, return 0\n",
    "        if state[-1] == 0:\n",
    "            return 0\n",
    "\n",
    "        # Divide state into node state and pod quota\n",
    "        node_state = state[:10]\n",
    "        pod_quota = state[10:]\n",
    "\n",
    "        # Convert to torch tensor\n",
    "        node_state = torch.tensor(node_state, dtype=torch.float32)\n",
    "        pod_quota = torch.tensor(pod_quota, dtype=torch.float32)\n",
    "\n",
    "        # Unsqueeze to add batch dimension\n",
    "        node_state = node_state.unsqueeze(0)\n",
    "        pod_quota = pod_quota.unsqueeze(0)\n",
    "\n",
    "        # Predict the score for each action\n",
    "        output = self.model(node_state, pod_quota)\n",
    "        print(f\"output: {output}\")\n",
    "\n",
    "        # Argmax\n",
    "        max_indices = torch.where(output == torch.max(output))[1]\n",
    "        # Randomly choose one from max_indices\n",
    "        max_idx = random.choice(max_indices)\n",
    "        print(f\"max_idx: {max_idx}\")\n",
    "\n",
    "        # Convert to int\n",
    "        action = int(max_idx) + 1\n",
    "\n",
    "        return action"
   ]
  },
  {
   "cell_type": "code",
   "execution_count": 90,
   "metadata": {},
   "outputs": [
    {
     "ename": "AttributeError",
     "evalue": "'Net5' object has no attribute 'seek'. You can only torch.load from a file that is seekable. Please pre-load the data into a buffer like io.BytesIO and try to load from it instead.",
     "output_type": "error",
     "traceback": [
      "\u001b[0;31m---------------------------------------------------------------------------\u001b[0m",
      "\u001b[0;31mAttributeError\u001b[0m                            Traceback (most recent call last)",
      "File \u001b[0;32m~/opt/anaconda3/envs/kube-gym/lib/python3.8/site-packages/torch/serialization.py:308\u001b[0m, in \u001b[0;36m_check_seekable\u001b[0;34m(f)\u001b[0m\n\u001b[1;32m    307\u001b[0m \u001b[39mtry\u001b[39;00m:\n\u001b[0;32m--> 308\u001b[0m     f\u001b[39m.\u001b[39;49mseek(f\u001b[39m.\u001b[39mtell())\n\u001b[1;32m    309\u001b[0m     \u001b[39mreturn\u001b[39;00m \u001b[39mTrue\u001b[39;00m\n",
      "File \u001b[0;32m~/opt/anaconda3/envs/kube-gym/lib/python3.8/site-packages/torch/nn/modules/module.py:1207\u001b[0m, in \u001b[0;36mModule.__getattr__\u001b[0;34m(self, name)\u001b[0m\n\u001b[1;32m   1206\u001b[0m         \u001b[39mreturn\u001b[39;00m modules[name]\n\u001b[0;32m-> 1207\u001b[0m \u001b[39mraise\u001b[39;00m \u001b[39mAttributeError\u001b[39;00m(\u001b[39m\"\u001b[39m\u001b[39m'\u001b[39m\u001b[39m{}\u001b[39;00m\u001b[39m'\u001b[39m\u001b[39m object has no attribute \u001b[39m\u001b[39m'\u001b[39m\u001b[39m{}\u001b[39;00m\u001b[39m'\u001b[39m\u001b[39m\"\u001b[39m\u001b[39m.\u001b[39mformat(\n\u001b[1;32m   1208\u001b[0m     \u001b[39mtype\u001b[39m(\u001b[39mself\u001b[39m)\u001b[39m.\u001b[39m\u001b[39m__name__\u001b[39m, name))\n",
      "\u001b[0;31mAttributeError\u001b[0m: 'Net5' object has no attribute 'seek'",
      "\nDuring handling of the above exception, another exception occurred:\n",
      "\u001b[0;31mAttributeError\u001b[0m                            Traceback (most recent call last)",
      "Cell \u001b[0;32mIn[90], line 1\u001b[0m\n\u001b[0;32m----> 1\u001b[0m scheduler \u001b[39m=\u001b[39m Scheduler()\n",
      "Cell \u001b[0;32mIn[89], line 13\u001b[0m, in \u001b[0;36mScheduler.__init__\u001b[0;34m(self, model)\u001b[0m\n\u001b[1;32m     12\u001b[0m \u001b[39mdef\u001b[39;00m \u001b[39m__init__\u001b[39m(\u001b[39mself\u001b[39m, model\u001b[39m=\u001b[39mnet5):\n\u001b[0;32m---> 13\u001b[0m     \u001b[39mself\u001b[39m\u001b[39m.\u001b[39mmodel \u001b[39m=\u001b[39m torch\u001b[39m.\u001b[39;49mload(model)\n\u001b[1;32m     14\u001b[0m     \u001b[39mself\u001b[39m\u001b[39m.\u001b[39mmodel\u001b[39m.\u001b[39meval()\n",
      "File \u001b[0;32m~/opt/anaconda3/envs/kube-gym/lib/python3.8/site-packages/torch/serialization.py:699\u001b[0m, in \u001b[0;36mload\u001b[0;34m(f, map_location, pickle_module, **pickle_load_args)\u001b[0m\n\u001b[1;32m    696\u001b[0m \u001b[39mif\u001b[39;00m \u001b[39m'\u001b[39m\u001b[39mencoding\u001b[39m\u001b[39m'\u001b[39m \u001b[39mnot\u001b[39;00m \u001b[39min\u001b[39;00m pickle_load_args\u001b[39m.\u001b[39mkeys():\n\u001b[1;32m    697\u001b[0m     pickle_load_args[\u001b[39m'\u001b[39m\u001b[39mencoding\u001b[39m\u001b[39m'\u001b[39m] \u001b[39m=\u001b[39m \u001b[39m'\u001b[39m\u001b[39mutf-8\u001b[39m\u001b[39m'\u001b[39m\n\u001b[0;32m--> 699\u001b[0m \u001b[39mwith\u001b[39;00m _open_file_like(f, \u001b[39m'\u001b[39;49m\u001b[39mrb\u001b[39;49m\u001b[39m'\u001b[39;49m) \u001b[39mas\u001b[39;00m opened_file:\n\u001b[1;32m    700\u001b[0m     \u001b[39mif\u001b[39;00m _is_zipfile(opened_file):\n\u001b[1;32m    701\u001b[0m         \u001b[39m# The zipfile reader is going to advance the current file position.\u001b[39;00m\n\u001b[1;32m    702\u001b[0m         \u001b[39m# If we want to actually tail call to torch.jit.load, we need to\u001b[39;00m\n\u001b[1;32m    703\u001b[0m         \u001b[39m# reset back to the original position.\u001b[39;00m\n\u001b[1;32m    704\u001b[0m         orig_position \u001b[39m=\u001b[39m opened_file\u001b[39m.\u001b[39mtell()\n",
      "File \u001b[0;32m~/opt/anaconda3/envs/kube-gym/lib/python3.8/site-packages/torch/serialization.py:235\u001b[0m, in \u001b[0;36m_open_file_like\u001b[0;34m(name_or_buffer, mode)\u001b[0m\n\u001b[1;32m    233\u001b[0m     \u001b[39mreturn\u001b[39;00m _open_buffer_writer(name_or_buffer)\n\u001b[1;32m    234\u001b[0m \u001b[39melif\u001b[39;00m \u001b[39m'\u001b[39m\u001b[39mr\u001b[39m\u001b[39m'\u001b[39m \u001b[39min\u001b[39;00m mode:\n\u001b[0;32m--> 235\u001b[0m     \u001b[39mreturn\u001b[39;00m _open_buffer_reader(name_or_buffer)\n\u001b[1;32m    236\u001b[0m \u001b[39melse\u001b[39;00m:\n\u001b[1;32m    237\u001b[0m     \u001b[39mraise\u001b[39;00m \u001b[39mRuntimeError\u001b[39;00m(\u001b[39mf\u001b[39m\u001b[39m\"\u001b[39m\u001b[39mExpected \u001b[39m\u001b[39m'\u001b[39m\u001b[39mr\u001b[39m\u001b[39m'\u001b[39m\u001b[39m or \u001b[39m\u001b[39m'\u001b[39m\u001b[39mw\u001b[39m\u001b[39m'\u001b[39m\u001b[39m in mode but got \u001b[39m\u001b[39m{\u001b[39;00mmode\u001b[39m}\u001b[39;00m\u001b[39m\"\u001b[39m)\n",
      "File \u001b[0;32m~/opt/anaconda3/envs/kube-gym/lib/python3.8/site-packages/torch/serialization.py:220\u001b[0m, in \u001b[0;36m_open_buffer_reader.__init__\u001b[0;34m(self, buffer)\u001b[0m\n\u001b[1;32m    218\u001b[0m \u001b[39mdef\u001b[39;00m \u001b[39m__init__\u001b[39m(\u001b[39mself\u001b[39m, buffer):\n\u001b[1;32m    219\u001b[0m     \u001b[39msuper\u001b[39m(_open_buffer_reader, \u001b[39mself\u001b[39m)\u001b[39m.\u001b[39m\u001b[39m__init__\u001b[39m(buffer)\n\u001b[0;32m--> 220\u001b[0m     _check_seekable(buffer)\n",
      "File \u001b[0;32m~/opt/anaconda3/envs/kube-gym/lib/python3.8/site-packages/torch/serialization.py:311\u001b[0m, in \u001b[0;36m_check_seekable\u001b[0;34m(f)\u001b[0m\n\u001b[1;32m    309\u001b[0m     \u001b[39mreturn\u001b[39;00m \u001b[39mTrue\u001b[39;00m\n\u001b[1;32m    310\u001b[0m \u001b[39mexcept\u001b[39;00m (io\u001b[39m.\u001b[39mUnsupportedOperation, \u001b[39mAttributeError\u001b[39;00m) \u001b[39mas\u001b[39;00m e:\n\u001b[0;32m--> 311\u001b[0m     raise_err_msg([\u001b[39m\"\u001b[39;49m\u001b[39mseek\u001b[39;49m\u001b[39m\"\u001b[39;49m, \u001b[39m\"\u001b[39;49m\u001b[39mtell\u001b[39;49m\u001b[39m\"\u001b[39;49m], e)\n\u001b[1;32m    312\u001b[0m \u001b[39mreturn\u001b[39;00m \u001b[39mFalse\u001b[39;00m\n",
      "File \u001b[0;32m~/opt/anaconda3/envs/kube-gym/lib/python3.8/site-packages/torch/serialization.py:304\u001b[0m, in \u001b[0;36m_check_seekable.<locals>.raise_err_msg\u001b[0;34m(patterns, e)\u001b[0m\n\u001b[1;32m    300\u001b[0m     \u001b[39mif\u001b[39;00m p \u001b[39min\u001b[39;00m \u001b[39mstr\u001b[39m(e):\n\u001b[1;32m    301\u001b[0m         msg \u001b[39m=\u001b[39m (\u001b[39mstr\u001b[39m(e) \u001b[39m+\u001b[39m \u001b[39m\"\u001b[39m\u001b[39m. You can only torch.load from a file that is seekable.\u001b[39m\u001b[39m\"\u001b[39m\n\u001b[1;32m    302\u001b[0m                         \u001b[39m+\u001b[39m \u001b[39m\"\u001b[39m\u001b[39m Please pre-load the data into a buffer like io.BytesIO and\u001b[39m\u001b[39m\"\u001b[39m\n\u001b[1;32m    303\u001b[0m                         \u001b[39m+\u001b[39m \u001b[39m\"\u001b[39m\u001b[39m try to load from it instead.\u001b[39m\u001b[39m\"\u001b[39m)\n\u001b[0;32m--> 304\u001b[0m         \u001b[39mraise\u001b[39;00m \u001b[39mtype\u001b[39m(e)(msg)\n\u001b[1;32m    305\u001b[0m \u001b[39mraise\u001b[39;00m e\n",
      "\u001b[0;31mAttributeError\u001b[0m: 'Net5' object has no attribute 'seek'. You can only torch.load from a file that is seekable. Please pre-load the data into a buffer like io.BytesIO and try to load from it instead."
     ]
    }
   ],
   "source": [
    "scheduler = Scheduler()"
   ]
  },
  {
   "cell_type": "code",
   "execution_count": null,
   "metadata": {},
   "outputs": [
    {
     "data": {
      "text/plain": [
       "array([0., 0., 0., 0., 0., 0., 0., 0., 0., 0., 0., 0.], dtype=float32)"
      ]
     },
     "execution_count": 617,
     "metadata": {},
     "output_type": "execute_result"
    }
   ],
   "source": [
    "env.reset()"
   ]
  },
  {
   "cell_type": "code",
   "execution_count": null,
   "metadata": {},
   "outputs": [
    {
     "data": {
      "text/plain": [
       "array([0., 0., 0., 0., 0., 0., 0., 0., 0., 0., 0., 0.], dtype=float32)"
      ]
     },
     "execution_count": 618,
     "metadata": {},
     "output_type": "execute_result"
    }
   ],
   "source": [
    "state = env.get_state()\n",
    "state"
   ]
  },
  {
   "cell_type": "code",
   "execution_count": null,
   "metadata": {},
   "outputs": [
    {
     "data": {
      "text/plain": [
       "0"
      ]
     },
     "execution_count": 619,
     "metadata": {},
     "output_type": "execute_result"
    }
   ],
   "source": [
    "scheduler.decision(env)"
   ]
  },
  {
   "cell_type": "code",
   "execution_count": null,
   "metadata": {},
   "outputs": [
    {
     "data": {
      "text/plain": [
       "(array([0.  , 0.  , 0.  , 0.  , 0.  , 0.  , 0.  , 0.  , 0.  , 0.  , 0.06,\n",
       "        0.02], dtype=float32),\n",
       " 1,\n",
       " False,\n",
       " {'last_pod': None, 'is_scheduled': None})"
      ]
     },
     "execution_count": 620,
     "metadata": {},
     "output_type": "execute_result"
    }
   ],
   "source": [
    "env.step(0)"
   ]
  },
  {
   "cell_type": "code",
   "execution_count": null,
   "metadata": {},
   "outputs": [
    {
     "name": "stdout",
     "output_type": "stream",
     "text": [
      "output: tensor([[98.1955, 98.1955, 98.1955, 98.1955, 98.1955]], grad_fn=<CatBackward0>)\n",
      "max_idx: 3\n"
     ]
    },
    {
     "data": {
      "text/plain": [
       "4"
      ]
     },
     "execution_count": 623,
     "metadata": {},
     "output_type": "execute_result"
    }
   ],
   "source": [
    "scheduler.decision(env)"
   ]
  },
  {
   "cell_type": "code",
   "execution_count": null,
   "metadata": {},
   "outputs": [
    {
     "data": {
      "text/plain": [
       "(array([0.  , 0.  , 0.  , 0.  , 0.  , 0.  , 0.06, 0.02, 0.  , 0.  , 0.  ,\n",
       "        0.  ], dtype=float32),\n",
       " 0.0,\n",
       " False,\n",
       " {'last_pod': <kube_sim_gym.components.pod.Pod at 0x7fa9cd20cd00>,\n",
       "  'is_scheduled': True})"
      ]
     },
     "execution_count": 624,
     "metadata": {},
     "output_type": "execute_result"
    }
   ],
   "source": [
    "env.step(4)"
   ]
  },
  {
   "cell_type": "code",
   "execution_count": null,
   "metadata": {},
   "outputs": [
    {
     "data": {
      "text/plain": [
       "0"
      ]
     },
     "execution_count": 625,
     "metadata": {},
     "output_type": "execute_result"
    }
   ],
   "source": [
    "scheduler.decision(env)"
   ]
  },
  {
   "cell_type": "code",
   "execution_count": null,
   "metadata": {},
   "outputs": [
    {
     "data": {
      "text/plain": [
       "(array([0.  , 0.  , 0.  , 0.  , 0.  , 0.  , 0.06, 0.02, 0.  , 0.  , 0.  ,\n",
       "        0.  ], dtype=float32),\n",
       " 1,\n",
       " False,\n",
       " {'last_pod': None, 'is_scheduled': None})"
      ]
     },
     "execution_count": 626,
     "metadata": {},
     "output_type": "execute_result"
    }
   ],
   "source": [
    "env.step(0)"
   ]
  },
  {
   "cell_type": "code",
   "execution_count": null,
   "metadata": {},
   "outputs": [
    {
     "data": {
      "text/plain": [
       "0"
      ]
     },
     "execution_count": 627,
     "metadata": {},
     "output_type": "execute_result"
    }
   ],
   "source": [
    "scheduler.decision(env)"
   ]
  },
  {
   "cell_type": "code",
   "execution_count": null,
   "metadata": {},
   "outputs": [
    {
     "data": {
      "text/plain": [
       "(array([0.  , 0.  , 0.  , 0.  , 0.  , 0.  , 0.06, 0.02, 0.  , 0.  , 0.06,\n",
       "        0.02], dtype=float32),\n",
       " 1,\n",
       " False,\n",
       " {'last_pod': None, 'is_scheduled': None})"
      ]
     },
     "execution_count": 628,
     "metadata": {},
     "output_type": "execute_result"
    }
   ],
   "source": [
    "env.step(0)"
   ]
  },
  {
   "cell_type": "code",
   "execution_count": null,
   "metadata": {},
   "outputs": [
    {
     "name": "stdout",
     "output_type": "stream",
     "text": [
      "output: tensor([[98.2532, 98.2532, 98.2532, 94.1536, 98.2532]], grad_fn=<CatBackward0>)\n",
      "max_idx: 4\n"
     ]
    },
    {
     "data": {
      "text/plain": [
       "5"
      ]
     },
     "execution_count": 629,
     "metadata": {},
     "output_type": "execute_result"
    }
   ],
   "source": [
    "scheduler.decision(env)"
   ]
  },
  {
   "attachments": {},
   "cell_type": "markdown",
   "metadata": {},
   "source": [
    "# Step 4:\n",
    "Loading the pretrained network on DQN,\n",
    "train it further on gym envs."
   ]
  },
  {
   "cell_type": "code",
   "execution_count": 2,
   "metadata": {},
   "outputs": [
    {
     "name": "stderr",
     "output_type": "stream",
     "text": [
      "/Users/swkim/opt/anaconda3/envs/kube-gym/lib/python3.8/site-packages/tqdm/auto.py:21: TqdmWarning: IProgress not found. Please update jupyter and ipywidgets. See https://ipywidgets.readthedocs.io/en/stable/user_install.html\n",
      "  from .autonotebook import tqdm as notebook_tqdm\n"
     ]
    }
   ],
   "source": [
    "import torch\n",
    "import torch.nn as nn\n",
    "import torch.nn.functional as F"
   ]
  },
  {
   "cell_type": "code",
   "execution_count": 3,
   "metadata": {},
   "outputs": [],
   "source": [
    "# Train the model\n",
    "import random\n",
    "import numpy as np\n",
    "from collections import namedtuple\n",
    "from itertools import count\n",
    "from tqdm import tqdm\n",
    "import torch\n",
    "import torch.nn as nn\n",
    "import torch.optim as optim\n",
    "import torch.nn.functional as F\n",
    "import matplotlib.pyplot as plt\n",
    "\n",
    "# Hyperparameters\n",
    "BATCH_SIZE = 32\n",
    "GAMMA = 0.999\n",
    "EPS_START = 0.9\n",
    "EPS_END = 0.05\n",
    "EPS_DECAY = 200\n",
    "TARGET_UPDATE = 10\n",
    "\n",
    "# if gpu is to be used\n",
    "device = torch.device(\"cuda\" if torch.cuda.is_available() else \"cpu\")\n",
    "\n",
    "# Transition\n",
    "Transition = namedtuple('Transition',\n",
    "                        ('state', 'action', 'next_state', 'reward'))\n",
    "\n",
    "# Replay memory\n",
    "class ReplayMemory(object):\n",
    "    def __init__(self, capacity):\n",
    "        self.capacity = capacity\n",
    "        self.memory = []\n",
    "        self.position = 0\n",
    "    \n",
    "    def push(self, *args):\n",
    "        # Save a transition\n",
    "        if len(self.memory) < self.capacity:\n",
    "            self.memory.append(None)\n",
    "        self.memory[self.position] = Transition(*args)\n",
    "        # Increase the position\n",
    "        self.position = (self.position + 1) % self.capacity\n",
    "    \n",
    "    def sample(self, batch_size):\n",
    "        return random.sample(self.memory, batch_size)\n",
    "    \n",
    "    def __len__(self):\n",
    "        return len(self.memory)\n"
   ]
  },
  {
   "cell_type": "code",
   "execution_count": 4,
   "metadata": {},
   "outputs": [],
   "source": [
    "# Load gym environment\n",
    "import gym\n",
    "from kube_sim_gym import *\n",
    "from kube_sim_gym.envs.sim_kube_env import SimKubeEnv\n",
    "\n",
    "# Environment wrapper\n",
    "# Run two environments in parallel\n",
    "# One for DQNAgent and the other for Default Scheduler\n",
    "# By comparing the two environments, get the reward\n",
    "class EnvWrapper:\n",
    "    def __init__(self, scenario):\n",
    "        self.env1 = gym.make('SimKubeEnv-v0', scenario_file=scenario)\n",
    "        self.env2 = gym.make('SimKubeEnv-v0', scenario_file=scenario)\n",
    "        self.env1.reset()\n",
    "        self.env2.reset()\n",
    "        self.state1 = self.env1.get_state()\n",
    "        self.state2 = self.env2.get_state()\n",
    "        self.reward1 = 0\n",
    "        self.reward2 = 0\n",
    "        self.done1 = False\n",
    "        self.done2 = False\n",
    "        self.action1 = 0\n",
    "        self.action2 = 0\n",
    "\n",
    "        self.awt1 = 0\n",
    "        self.awt2 = 0\n",
    "\n",
    "    def step(self, action1, action2):\n",
    "        self.action1 = action1\n",
    "        self.action2 = action2\n",
    "        self.env1.step(action1)\n",
    "        self.env2.step(action2)\n",
    "        self.state1, self.reward1, self.done1, _ = self.env1.step(action1)\n",
    "        self.state2, self.reward2, self.done2, _ = self.env2.step(action2)\n",
    "        return (self.state1, self.reward1, self.done1), (self.state2, self.reward2, self.done2)\n",
    "    \n",
    "    def reset(self):\n",
    "        self.env1.reset()\n",
    "        self.env2.reset()\n",
    "        self.state1 = self.env1.get_state()\n",
    "        self.state2 = self.env2.get_state()\n",
    "        self.reward1 = 0\n",
    "        self.reward2 = 0\n",
    "        self.done1 = False\n",
    "        self.done2 = False\n",
    "        return (self.state1, self.reward1, self.done1), (self.state2, self.reward2, self.done2)\n",
    "    \n",
    "    def eval_apn(self):\n",
    "        # Comare the two environments and returns the diff of average number of pending pods\n",
    "        # 작을 좋은 것\n",
    "        pending_pods1 = self.env1.cluster.pending_pods.copy()\n",
    "        pending_pods2 = self.env2.cluster.pending_pods.copy()\n",
    "\n",
    "        if pending_pods1:\n",
    "            for pod in pending_pods1:\n",
    "                if pod.spec['arrival_time'] == self.env1.time:\n",
    "                    pending_pods1.remove(pod)\n",
    "        if pending_pods2:\n",
    "            for pod in pending_pods2:\n",
    "                if pod.spec['arrival_time'] == self.env2.time:\n",
    "                    pending_pods2.remove(pod)\n",
    "\n",
    "        self.awt1 += len(pending_pods1)\n",
    "        self.awt2 += len(pending_pods2)\n",
    "\n",
    "        if self.awt1 == 0 and self.awt2 != 0:\n",
    "            return 1\n",
    "        if self.awt1 != 0 and self.awt2 == 0:\n",
    "            return -1\n",
    "        if self.awt1 == 0 and self.awt2 == 0:\n",
    "            return 0\n",
    "\n",
    "        ret = (self.awt2 / self.awt1) - 1\n",
    "\n",
    "        # If ret is over 1 or under -1, set it to 1 or -1\n",
    "        if ret > 1:\n",
    "            ret = 1\n",
    "        elif ret < -1:\n",
    "            ret = -1\n",
    "\n",
    "        # Round to 2 decimal places\n",
    "        ret = round(ret, 2)\n",
    "\n",
    "        return ret\n",
    "    \n",
    "    def eval_progress(self):\n",
    "        # Compare the two environments and returns the diff of scheduled pods\n",
    "        # 클수록 좋은 것\n",
    "        n_scheduled1 = len(self.env1.cluster.running_pods) + len(self.env1.cluster.terminated_pods)\n",
    "        n_scheduled2 = len(self.env2.cluster.running_pods) + len(self.env2.cluster.terminated_pods)\n",
    "\n",
    "        if n_scheduled1 == 0 and n_scheduled2 != 0:\n",
    "            return -1\n",
    "        if n_scheduled1 != 0 and n_scheduled2 == 0:\n",
    "            return 1\n",
    "        if n_scheduled1 == 0 and n_scheduled2 == 0:\n",
    "            return 0\n",
    "        \n",
    "        ret = (n_scheduled1 / n_scheduled2) - 1\n",
    "\n",
    "        # If ret is over 1 or under -1, set it to 1 or -1\n",
    "        if ret > 1:\n",
    "            ret = 1\n",
    "        elif ret < -1:\n",
    "            ret = -1\n",
    "\n",
    "        # Round to 2 decimal places\n",
    "        ret = round(ret, 2)\n",
    "\n",
    "        return ret\n",
    "    \n",
    "    def eval_rbd1(self):\n",
    "        # Compare Resource balance in each node (Average)\n",
    "        # 작을 수록 좋은 것\n",
    "        util1 = {}\n",
    "        util2 = {}\n",
    "        for node in self.env1.cluster.nodes:\n",
    "            cpu_ratio, mem_ratio = node.get_node_rsrc_ratio()\n",
    "            util1[node.node_name] = {\n",
    "                'cpu': cpu_ratio,\n",
    "                'mem': mem_ratio\n",
    "            }\n",
    "        for node in self.env2.cluster.nodes:\n",
    "            cpu_ratio, mem_ratio = node.get_node_rsrc_ratio()\n",
    "            util2[node.node_name] = {\n",
    "                'cpu': cpu_ratio,\n",
    "                'mem': mem_ratio\n",
    "            }\n",
    "        \n",
    "        rbd1_1 = 0\n",
    "        for node in util1:\n",
    "            rbd1_1 += abs(util1[node]['cpu'] - util1[node]['mem'])\n",
    "        rbd1_1 /= len(util1)\n",
    "        rbd1_1 += 0.01\n",
    "\n",
    "        rbd1_2 = 0\n",
    "        for node in util2:\n",
    "            rbd1_2 += abs(util2[node]['cpu'] - util2[node]['mem'])\n",
    "        rbd1_2 /= len(util2)\n",
    "        rbd1_2 += 0.01\n",
    "\n",
    "        ret = (rbd1_2 / rbd1_1) - 1\n",
    "\n",
    "        # If ret is over 1 or under -1, set it to 1 or -1\n",
    "        if ret > 1:\n",
    "            ret = 1\n",
    "        elif ret < -1:\n",
    "            ret = -1\n",
    "\n",
    "        # Round to 2 decimal places\n",
    "        ret = round(ret, 2)\n",
    "\n",
    "        return ret\n",
    "    \n",
    "    def eval_rbd2(self):\n",
    "        # Compare resource balance across nodes (Average)\n",
    "        # 작을 수록 좋은 것\n",
    "        util1 = {}\n",
    "        util2 = {}\n",
    "        for node in self.env1.cluster.nodes:\n",
    "            cpu_ratio, mem_ratio = node.get_node_rsrc_ratio()\n",
    "            util1[node.node_name] = {\n",
    "                'cpu': cpu_ratio,\n",
    "                'mem': mem_ratio\n",
    "            }\n",
    "        for node in self.env2.cluster.nodes:\n",
    "            cpu_ratio, mem_ratio = node.get_node_rsrc_ratio()\n",
    "            util2[node.node_name] = {\n",
    "                'cpu': cpu_ratio,\n",
    "                'mem': mem_ratio\n",
    "            }\n",
    "        \n",
    "        avg_cpu1 = np.mean([util1[node]['cpu'] for node in util1])\n",
    "        avg_cpu2 = np.mean([util2[node]['cpu'] for node in util2])\n",
    "        avg_mem1 = np.mean([util1[node]['mem'] for node in util1])\n",
    "        avg_mem2 = np.mean([util2[node]['mem'] for node in util2])\n",
    "\n",
    "        avg_util1 = (avg_cpu1 + avg_mem1) / 2\n",
    "        avg_util2 = (avg_cpu2 + avg_mem2) / 2\n",
    "\n",
    "        rbd2_1_cpu = 0\n",
    "        rbd2_1_mem = 0\n",
    "        for node in util1:\n",
    "            rbd2_1_cpu += abs(util1[node]['cpu'] - avg_cpu1)\n",
    "            rbd2_1_mem += abs(util1[node]['mem'] - avg_mem1)\n",
    "        rbd2_1_cpu /= len(util1)\n",
    "        rbd2_1_mem /= len(util1)\n",
    "\n",
    "        rbd2_2_cpu = 0\n",
    "        rbd2_2_mem = 0\n",
    "        for node in util2:\n",
    "            rbd2_2_cpu += abs(util2[node]['cpu'] - avg_cpu2)\n",
    "            rbd2_2_mem += abs(util2[node]['mem'] - avg_mem2)\n",
    "        rbd2_2_cpu /= len(util2)\n",
    "        rbd2_2_mem /= len(util2)\n",
    "\n",
    "        rbd2_1 = rbd2_1_cpu + rbd2_1_mem\n",
    "        rbd2_2 = rbd2_2_cpu + rbd2_2_mem\n",
    "\n",
    "        rbd2_1 += 0.01\n",
    "        rbd2_2 += 0.01\n",
    "\n",
    "        ret = (rbd2_2 / rbd2_1) - 1\n",
    "\n",
    "        # If ret is over 1 or under -1, set it to 1 or -1\n",
    "        if ret > 1:\n",
    "            ret = 1\n",
    "        elif ret < -1:\n",
    "            ret = -1\n",
    "\n",
    "        # Round to 2 decimal places\n",
    "        ret = round(ret, 2)\n",
    "\n",
    "        return ret\n",
    "    \n",
    "    def eval_rur(self):\n",
    "        # Compare resource utilization across nodes\n",
    "        util1 = {}\n",
    "        util2 = {}\n",
    "        for node in self.env1.cluster.nodes:\n",
    "            cpu_ratio, mem_ratio = node.get_node_rsrc_ratio()\n",
    "            util1[node.node_name] = {\n",
    "                'cpu': cpu_ratio,\n",
    "                'mem': mem_ratio\n",
    "            }\n",
    "        for node in self.env2.cluster.nodes:\n",
    "            cpu_ratio, mem_ratio = node.get_node_rsrc_ratio()\n",
    "            util2[node.node_name] = {\n",
    "                'cpu': cpu_ratio,\n",
    "                'mem': mem_ratio\n",
    "            }\n",
    "\n",
    "        avg_cpu1 = np.mean([util1[node]['cpu'] for node in util1])\n",
    "        avg_cpu2 = np.mean([util2[node]['cpu'] for node in util2])\n",
    "        avg_mem1 = np.mean([util1[node]['mem'] for node in util1])\n",
    "        avg_mem2 = np.mean([util2[node]['mem'] for node in util2])\n",
    "\n",
    "        avg_util1 = (avg_cpu1 + avg_mem1) / 2\n",
    "        avg_util2 = (avg_cpu2 + avg_mem2) / 2\n",
    "\n",
    "        avg_util1 += 0.01\n",
    "        avg_util2 += 0.01\n",
    "\n",
    "        ret = (avg_util1 / avg_util2) - 1\n",
    "\n",
    "        # If ret is over 1 or under -1, set it to 1 or -1\n",
    "        if ret > 1:\n",
    "            ret = 1\n",
    "        elif ret < -1:\n",
    "            ret = -1\n",
    "\n",
    "        # Round to 2 decimal places\n",
    "        ret = round(ret, 2)\n",
    "\n",
    "        return ret\n",
    "    \n",
    "    def penalty_wrong_decision(self):\n",
    "\n",
    "        if self.action1 != 0 and len(self.env1.cluster.pending_pods) == 0:\n",
    "            return -5\n",
    "        \n",
    "        if len(self.env1.cluster.pending_pods) == 0:\n",
    "            return 0\n",
    "\n",
    "        cpu_req = self.env1.cluster.pending_pods[0].spec['cpu_ratio']\n",
    "        mem_req = self.env1.cluster.pending_pods[0].spec['mem_ratio']\n",
    "\n",
    "        cpu_avail, mem_avail = self.env1.cluster.nodes[self.action1 - 1].get_node_rsrc_ratio()\n",
    "\n",
    "        # If the agent tries to schedule even though there is no pending pod, penalize it\n",
    "\n",
    "        if self.action1 != 0 and cpu_avail + cpu_req > 1 or mem_avail + mem_req > 1:\n",
    "            return -5\n",
    "        else:\n",
    "            return 0\n",
    "\n",
    "    def reward(self):\n",
    "        # Combine all the metrics\n",
    "        apn = self.eval_apn()\n",
    "        progress = self.eval_progress()\n",
    "        rbd1 = self.eval_rbd1()\n",
    "        rbd2 = self.eval_rbd2()\n",
    "        rur = self.eval_rur()\n",
    "        pwd = self.penalty_wrong_decision()\n",
    "\n",
    "        # print(f\"apn: {apn}, progress: {progress}, rbd1: {rbd1}, rbd2: {rbd2}, rur: {rur}\")\n",
    "\n",
    "        reward = round((apn + progress + rbd1 + rbd2 + rur + pwd) / 5, 2)\n",
    "\n",
    "        return reward, [apn, progress, rbd1, rbd2, rur, pwd]"
   ]
  },
  {
   "cell_type": "code",
   "execution_count": 5,
   "metadata": {},
   "outputs": [],
   "source": [
    "from kube_hr_scheduler.scheduler.sim_hr_scheduler import SimHrScheduler\n",
    "from kube_hr_scheduler.strategies.model.default import Model\n",
    "import math\n",
    "from tqdm import tqdm\n",
    "from IPython.display import clear_output\n",
    "\n",
    "def train_w_model(model, scenario, episodes=1000):\n",
    "\n",
    "    # Hyperparameters\n",
    "    batch_size = 32\n",
    "    gamma = 0.999\n",
    "    epsilon_start = 0.9\n",
    "    epsilon_end = 0.05\n",
    "    epsilon_decay = 200\n",
    "    target_update = 10\n",
    "    replay_memory_capacity = 20000\n",
    "\n",
    "    ew = EnvWrapper(scenario)\n",
    "\n",
    "    policy_net = model.to(device)\n",
    "    target_net = model.to(device)\n",
    "    target_net.load_state_dict(policy_net.state_dict())\n",
    "    target_net.eval()\n",
    "\n",
    "    scheduler = SimHrScheduler(ew.env2, 'default.py')\n",
    "\n",
    "    optimizer = optim.RMSprop(policy_net.parameters())\n",
    "    memory = ReplayMemory(replay_memory_capacity)\n",
    "\n",
    "    steps_done = 0\n",
    "    acc_reward = 0\n",
    "\n",
    "    def select_action(ew):\n",
    "        state1 = ew.env1.get_state()\n",
    "        state2 = ew.env2.get_state()\n",
    "\n",
    "        # Get Action1 from DQN\n",
    "        sample = random.random()\n",
    "        eps_threshold = epsilon_end + (epsilon_start - epsilon_end) * \\\n",
    "            math.exp(-1. * steps_done / epsilon_decay)\n",
    "        \n",
    "        if sample > eps_threshold:\n",
    "            with torch.no_grad():\n",
    "                # t.max(1) will return largest column value of each row\n",
    "                # second column on max result is index of where max element was\n",
    "                # found, so we pick action with the larger expected reward\n",
    "                node_state = torch.tensor(state1[:10], dtype=torch.float32)\n",
    "                pod_quota = torch.tensor(state1[10:], dtype=torch.float32)\n",
    "                node_state = node_state.unsqueeze(0).to(device)\n",
    "                pod_quota = pod_quota.unsqueeze(0).to(device)\n",
    "                output = policy_net(node_state, pod_quota)\n",
    "                action1 = output.max(1)[1].view(1, 1)\n",
    "                action1 = int(action1)\n",
    "        else:\n",
    "            action1 = random.randrange(6)\n",
    "\n",
    "        # Get Action2 from Default Scheduler\n",
    "        action2 = scheduler.decision(ew.env2)\n",
    "\n",
    "        return action1, action2\n",
    "\n",
    "    def optimize_model():\n",
    "        # If memory is not enough, do nothing\n",
    "        if len(memory) < batch_size * 10:\n",
    "            return\n",
    "        \n",
    "        # Sample a batch from memory\n",
    "        batch = memory.sample(batch_size)\n",
    "        states, actions, next_states, rewards = zip(*batch)\n",
    "\n",
    "        # Convert to torch tensor\n",
    "        states = torch.tensor(states, dtype=torch.float32).to(device)\n",
    "        actions = torch.tensor(actions, dtype=torch.long).unsqueeze(1).to(device)\n",
    "        next_states = torch.tensor(next_states, dtype=torch.float32).to(device)\n",
    "        rewards = torch.tensor(rewards, dtype=torch.float32).to(device)\n",
    "\n",
    "        # Compute Q(s_t, a) - the model computes Q(s_t), then we select the columns of actions taken (actions)\n",
    "        q_values = policy_net(states[:, :10], states[:, 10:]).gather(1, actions)\n",
    "\n",
    "        # Next Q values\n",
    "        next_q_values = target_net(next_states[:, :10], next_states[:, 10:]).max(1)[0].detach()\n",
    "\n",
    "        # Compute the expected Q values\n",
    "        expected_q_values = (next_q_values * gamma) + rewards\n",
    "\n",
    "        # Compute Huber loss\n",
    "        loss = F.smooth_l1_loss(q_values, expected_q_values.unsqueeze(1))\n",
    "\n",
    "        # Optimize the model\n",
    "        optimizer.zero_grad()\n",
    "        loss.backward()\n",
    "        # for param in policy_net.parameters():\n",
    "        #     param.grad.data.clamp_(-1, 1)\n",
    "        optimizer.step()\n",
    "\n",
    "    episode_durations = []\n",
    "\n",
    "    def plot_durations():\n",
    "        # Clear output and plot\n",
    "        clear_output(wait=True)\n",
    "        plt.figure(2)\n",
    "        plt.clf()\n",
    "        durations_t = torch.tensor(episode_durations, dtype=torch.float)\n",
    "        plt.title('Training...')\n",
    "        plt.xlabel('Episode')\n",
    "        plt.ylabel('Accumulative Reward')\n",
    "        plt.plot(durations_t.numpy())\n",
    "        # Take 100 episode averages and plot them too\n",
    "        if len(durations_t) >= 100:\n",
    "            means = durations_t.unfold(0, 100, 1).mean(1).view(-1)\n",
    "            means = torch.cat((torch.zeros(99), means))\n",
    "            plt.plot(means.numpy())\n",
    "\n",
    "        plt.pause(0.001)\n",
    "\n",
    "    for i_episode in tqdm(range(episodes)):\n",
    "\n",
    "        # Reset acc_reward\n",
    "        acc_reward = 0\n",
    "\n",
    "        # Wrong shot count init\n",
    "        wrong_shot = 0\n",
    "\n",
    "        # Default Scheduler done step\n",
    "        default_done_step = 0\n",
    "\n",
    "        # Initialize the environment and state\n",
    "        (state1, reward1, done1), (state2, reward2, done2) = ew.reset()\n",
    "        for t in count():\n",
    "\n",
    "            # Select and perform an action\n",
    "            action1, action2 = select_action(ew)\n",
    "            (next_state1, reward1, done1), (next_state2, reward2, done2) = ew.step(action1, action2)\n",
    "\n",
    "            # Observe new state\n",
    "            state1 = next_state1\n",
    "            state2 = next_state2\n",
    "\n",
    "            # Reward\n",
    "            reward, reward_details = ew.reward()\n",
    "\n",
    "            # # Temporary : Chnage reward\n",
    "            # reward = reward1\n",
    "\n",
    "            # Increase wrong shot count if the agent tries to schedule even though there is no pending pod reward_details[-1]\n",
    "            if reward_details[-1] == -5:\n",
    "                wrong_shot += 1\n",
    "\n",
    "            # Accumulate reward\n",
    "            acc_reward += reward\n",
    "\n",
    "            # Store the transition in memory\n",
    "            memory.push(state1, action1, next_state1, reward)\n",
    "\n",
    "            # Perform one step of the optimization (on the target network)\n",
    "            optimize_model()\n",
    "\n",
    "            # Print out the progress every 100 steps\n",
    "            if t % 5000 == 0 and 'trace' in scenario:\n",
    "                # print(f\"# of scheduled: {len(ew.env1.cluster.running_pods)} / # of done: {len(ew.env1.cluster.terminated_pods)}\")\n",
    "                print(f\"Episode: {i_episode}, Step: {t}, Reward: {reward},\\n# of Job scheduled: {len(ew.env1.cluster.running_pods) + len(ew.env1.cluster.terminated_pods)},Wrong shot: {wrong_shot}, Reward details: {reward_details}\")\n",
    "\n",
    "            # Increase the step\n",
    "            steps_done += 1\n",
    "\n",
    "            if done2:\n",
    "                default_done_step = t\n",
    "\n",
    "            if done1: # or done2:\n",
    "                episode_durations.append(acc_reward)\n",
    "                plot_durations()\n",
    "                break\n",
    "\n",
    "        print(f\"Episode: {i_episode} done at step {t}, Acc Reward: {acc_reward},\\n# of Job scheduled: {len(ew.env1.cluster.running_pods) + len(ew.env1.cluster.terminated_pods)}, Wrong shot: {wrong_shot}, Reward details: {reward_details}\")\n",
    "        if default_done_step != 0:\n",
    "            print(f\"Default was faster by {default_done_step - t} steps\")\n",
    "\n",
    "        # Update the target network, copying all weights and biases in DQN\n",
    "        if i_episode % target_update == 0:\n",
    "            target_net.load_state_dict(policy_net.state_dict())\n",
    "\n",
    "    # Return the trained model\n",
    "    return policy_net"
   ]
  },
  {
   "cell_type": "code",
   "execution_count": null,
   "metadata": {},
   "outputs": [],
   "source": [
    "from kube_hr_scheduler.scheduler.sim_hr_scheduler import SimHrScheduler\n",
    "from kube_hr_scheduler.strategies.model.default import Model\n",
    "import math\n",
    "from tqdm import tqdm\n",
    "from IPython.display import clear_output\n",
    "\n"
   ]
  },
  {
   "cell_type": "code",
   "execution_count": 6,
   "metadata": {},
   "outputs": [
    {
     "data": {
      "image/png": "[encoded data removed]",
      "text/plain": [
       "<Figure size 640x480 with 1 Axes>"
      ]
     },
     "metadata": {},
     "output_type": "display_data"
    },
    {
     "name": "stderr",
     "output_type": "stream",
     "text": [
      "100%|██████████| 3/3 [1:57:23<00:00, 2347.94s/it]\n"
     ]
    }
   ],
   "source": [
    "from kube_mm_scheduler.model.dqn import DQN\n",
    "\n",
    "dqn_trained = DQN(True, True)\n",
    "\n",
    "dqn_trained = train_w_model(dqn_trained, 'trace2017_1.csv', 3)"
   ]
  },
  {
   "cell_type": "code",
   "execution_count": 7,
   "metadata": {},
   "outputs": [
    {
     "data": {
      "image/png": "[encoded data removed]",
      "text/plain": [
       "<Figure size 640x480 with 1 Axes>"
      ]
     },
     "metadata": {},
     "output_type": "display_data"
    },
    {
     "name": "stderr",
     "output_type": "stream",
     "text": [
      " 33%|███▎      | 1/3 [2:30:48<5:01:37, 9048.90s/it]"
     ]
    },
    {
     "name": "stdout",
     "output_type": "stream",
     "text": [
      "Episode: 1, Step: 0, Reward: -0.19, # of Job scheduled: 0\n",
      "Wrong shot: 1, Reward details: [-0.97, 0, 0.0, 0.0, 0.0, 0]\n",
      "Episode: 1, Step: 5000, Reward: -0.18, # of Job scheduled: 1778\n",
      "Wrong shot: 5001, Reward details: [-0.97, -0.8, 1, 0.78, -0.93, 0]\n",
      "Episode: 1, Step: 10000, Reward: -0.67, # of Job scheduled: 2474\n",
      "Wrong shot: 10001, Reward details: [-0.97, -0.86, 0.0, -0.83, -0.7, 0]\n",
      "Episode: 1, Step: 15000, Reward: -0.16, # of Job scheduled: 3562\n",
      "Wrong shot: 15001, Reward details: [-0.97, -0.87, 1, 1, -0.97, 0]\n",
      "Episode: 1, Step: 20000, Reward: -0.42, # of Job scheduled: 4238\n",
      "Wrong shot: 20001, Reward details: [-0.96, -0.88, 1, -0.96, -0.32, 0]\n",
      "Episode: 1, Step: 25000, Reward: -0.16, # of Job scheduled: 6077\n",
      "Wrong shot: 25001, Reward details: [-0.96, -0.86, 1, 1, -0.96, 0]\n",
      "Episode: 1, Step: 30000, Reward: -0.37, # of Job scheduled: 7131\n",
      "Wrong shot: 30001, Reward details: [-0.96, -0.86, -0.29, -0.76, 1.0, 0]\n",
      "Episode: 1, Step: 35000, Reward: -0.48, # of Job scheduled: 10974\n",
      "Wrong shot: 35001, Reward details: [-0.96, -0.78, -0.71, -0.97, 1, 0]\n",
      "Episode: 1, Step: 40000, Reward: -0.5, # of Job scheduled: 17968\n",
      "Wrong shot: 40001, Reward details: [-0.96, -0.64, -0.97, -0.92, 1, 0]\n",
      "Episode: 1, Step: 45000, Reward: -0.39, # of Job scheduled: 19735\n",
      "Wrong shot: 45001, Reward details: [-0.96, -0.61, -0.55, -0.83, 1, 0]\n",
      "Episode: 1, Step: 50000, Reward: -0.34, # of Job scheduled: 20105\n",
      "Wrong shot: 50001, Reward details: [-0.97, -0.6, -0.38, -0.73, 1, 0]\n",
      "Episode: 1, Step: 55000, Reward: -0.33, # of Job scheduled: 22422\n",
      "Wrong shot: 55001, Reward details: [-0.97, -0.55, -0.29, -0.85, 1, 0]\n",
      "Episode: 1, Step: 60000, Reward: -0.39, # of Job scheduled: 23474\n",
      "Wrong shot: 60001, Reward details: [-0.97, -0.53, -0.58, -0.85, 1, 0]\n",
      "Episode: 1, Step: 65000, Reward: -0.3, # of Job scheduled: 23870\n",
      "Wrong shot: 65001, Reward details: [-0.97, -0.52, -0.17, -0.74, 0.9, 0]\n",
      "Episode: 1, Step: 70000, Reward: -0.47, # of Job scheduled: 27284\n",
      "Wrong shot: 70001, Reward details: [-0.97, -0.45, -0.97, -0.96, 1, 0]\n"
     ]
    },
    {
     "name": "stderr",
     "output_type": "stream",
     "text": [
      " 33%|███▎      | 1/3 [4:02:20<8:04:41, 14540.58s/it]\n"
     ]
    },
    {
     "ename": "KeyboardInterrupt",
     "evalue": "",
     "output_type": "error",
     "traceback": [
      "\u001b[0;31m---------------------------------------------------------------------------\u001b[0m",
      "\u001b[0;31mKeyboardInterrupt\u001b[0m                         Traceback (most recent call last)",
      "Cell \u001b[0;32mIn[7], line 3\u001b[0m\n\u001b[1;32m      1\u001b[0m \u001b[39mfrom\u001b[39;00m \u001b[39mkube_mm_scheduler\u001b[39;00m\u001b[39m.\u001b[39;00m\u001b[39mmodel\u001b[39;00m\u001b[39m.\u001b[39;00m\u001b[39mdqn\u001b[39;00m \u001b[39mimport\u001b[39;00m DQN\n\u001b[0;32m----> 3\u001b[0m dqn_trained \u001b[39m=\u001b[39m train_w_model(dqn_trained, \u001b[39m'\u001b[39;49m\u001b[39mtrace2017_2.csv\u001b[39;49m\u001b[39m'\u001b[39;49m, \u001b[39m3\u001b[39;49m)\n",
      "Cell \u001b[0;32mIn[5], line 131\u001b[0m, in \u001b[0;36mtrain_w_model\u001b[0;34m(model, scenario, episodes)\u001b[0m\n\u001b[1;32m    127\u001b[0m \u001b[39mfor\u001b[39;00m t \u001b[39min\u001b[39;00m count():\n\u001b[1;32m    128\u001b[0m \n\u001b[1;32m    129\u001b[0m     \u001b[39m# Select and perform an action\u001b[39;00m\n\u001b[1;32m    130\u001b[0m     action1, action2 \u001b[39m=\u001b[39m select_action(ew)\n\u001b[0;32m--> 131\u001b[0m     (next_state1, reward1, done1), (next_state2, reward2, done2) \u001b[39m=\u001b[39m ew\u001b[39m.\u001b[39;49mstep(action1, action2)\n\u001b[1;32m    133\u001b[0m     \u001b[39m# Observe new state\u001b[39;00m\n\u001b[1;32m    134\u001b[0m     state1 \u001b[39m=\u001b[39m next_state1\n",
      "Cell \u001b[0;32mIn[4], line 34\u001b[0m, in \u001b[0;36mEnvWrapper.step\u001b[0;34m(self, action1, action2)\u001b[0m\n\u001b[1;32m     32\u001b[0m \u001b[39mself\u001b[39m\u001b[39m.\u001b[39menv2\u001b[39m.\u001b[39mstep(action2)\n\u001b[1;32m     33\u001b[0m \u001b[39mself\u001b[39m\u001b[39m.\u001b[39mstate1, \u001b[39mself\u001b[39m\u001b[39m.\u001b[39mreward1, \u001b[39mself\u001b[39m\u001b[39m.\u001b[39mdone1, _ \u001b[39m=\u001b[39m \u001b[39mself\u001b[39m\u001b[39m.\u001b[39menv1\u001b[39m.\u001b[39mstep(action1)\n\u001b[0;32m---> 34\u001b[0m \u001b[39mself\u001b[39m\u001b[39m.\u001b[39mstate2, \u001b[39mself\u001b[39m\u001b[39m.\u001b[39mreward2, \u001b[39mself\u001b[39m\u001b[39m.\u001b[39mdone2, _ \u001b[39m=\u001b[39m \u001b[39mself\u001b[39;49m\u001b[39m.\u001b[39;49menv2\u001b[39m.\u001b[39;49mstep(action2)\n\u001b[1;32m     35\u001b[0m \u001b[39mreturn\u001b[39;00m (\u001b[39mself\u001b[39m\u001b[39m.\u001b[39mstate1, \u001b[39mself\u001b[39m\u001b[39m.\u001b[39mreward1, \u001b[39mself\u001b[39m\u001b[39m.\u001b[39mdone1), (\u001b[39mself\u001b[39m\u001b[39m.\u001b[39mstate2, \u001b[39mself\u001b[39m\u001b[39m.\u001b[39mreward2, \u001b[39mself\u001b[39m\u001b[39m.\u001b[39mdone2)\n",
      "File \u001b[0;32m~/opt/anaconda3/envs/kube-gym/lib/python3.8/site-packages/gym/wrappers/order_enforcing.py:11\u001b[0m, in \u001b[0;36mOrderEnforcing.step\u001b[0;34m(self, action)\u001b[0m\n\u001b[1;32m      9\u001b[0m \u001b[39mdef\u001b[39;00m \u001b[39mstep\u001b[39m(\u001b[39mself\u001b[39m, action):\n\u001b[1;32m     10\u001b[0m     \u001b[39massert\u001b[39;00m \u001b[39mself\u001b[39m\u001b[39m.\u001b[39m_has_reset, \u001b[39m\"\u001b[39m\u001b[39mCannot call env.step() before calling reset()\u001b[39m\u001b[39m\"\u001b[39m\n\u001b[0;32m---> 11\u001b[0m     observation, reward, done, info \u001b[39m=\u001b[39m \u001b[39mself\u001b[39;49m\u001b[39m.\u001b[39;49menv\u001b[39m.\u001b[39;49mstep(action)\n\u001b[1;32m     12\u001b[0m     \u001b[39mreturn\u001b[39;00m observation, reward, done, info\n",
      "File \u001b[0;32m~/Documents/coding/thesis/kube_my_scheduler/notebook/../kube_sim_gym/envs/sim_kube_env.py:141\u001b[0m, in \u001b[0;36mSimKubeEnv.step\u001b[0;34m(self, action)\u001b[0m\n\u001b[1;32m    138\u001b[0m \u001b[39mself\u001b[39m\u001b[39m.\u001b[39mtime \u001b[39m+\u001b[39m\u001b[39m=\u001b[39m \u001b[39m1\u001b[39m\n\u001b[1;32m    139\u001b[0m is_scheduled \u001b[39m=\u001b[39m \u001b[39mNone\u001b[39;00m\n\u001b[0;32m--> 141\u001b[0m new_pod_spec \u001b[39m=\u001b[39m \u001b[39mself\u001b[39;49m\u001b[39m.\u001b[39;49mstress_gen\u001b[39m.\u001b[39;49mcreate_pod(\u001b[39mself\u001b[39;49m\u001b[39m.\u001b[39;49mtime)\n\u001b[1;32m    142\u001b[0m node_spec \u001b[39m=\u001b[39m \u001b[39mself\u001b[39m\u001b[39m.\u001b[39mcluster\u001b[39m.\u001b[39mnodes[\u001b[39m0\u001b[39m]\u001b[39m.\u001b[39mspec\n\u001b[1;32m    143\u001b[0m \u001b[39mif\u001b[39;00m new_pod_spec:\n",
      "File \u001b[0;32m~/Documents/coding/thesis/kube_my_scheduler/notebook/../kube_sim_gym/utils/sim_stress_gen.py:36\u001b[0m, in \u001b[0;36mSimStressGen.create_pod\u001b[0;34m(self, time)\u001b[0m\n\u001b[1;32m     35\u001b[0m \u001b[39mdef\u001b[39;00m \u001b[39mcreate_pod\u001b[39m(\u001b[39mself\u001b[39m, time): \u001b[39m# time: sec-based time, scenario: list of jobs\u001b[39;00m\n\u001b[0;32m---> 36\u001b[0m     \u001b[39mfor\u001b[39;00m pod_spec \u001b[39min\u001b[39;00m \u001b[39mself\u001b[39m\u001b[39m.\u001b[39mscenario:\n\u001b[1;32m     37\u001b[0m         \u001b[39mif\u001b[39;00m time \u001b[39m>\u001b[39m\u001b[39m=\u001b[39m \u001b[39mint\u001b[39m(pod_spec[\u001b[39m1\u001b[39m]) \u001b[39mand\u001b[39;00m pod_spec[\u001b[39m-\u001b[39m\u001b[39m1\u001b[39m] \u001b[39m==\u001b[39m \u001b[39m0\u001b[39m:\n\u001b[1;32m     38\u001b[0m             pod_spec[\u001b[39m-\u001b[39m\u001b[39m1\u001b[39m] \u001b[39m=\u001b[39m \u001b[39m1\u001b[39m\n",
      "\u001b[0;31mKeyboardInterrupt\u001b[0m: "
     ]
    }
   ],
   "source": [
    "from kube_mm_scheduler.model.dqn import DQN\n",
    "\n",
    "dqn_trained = train_w_model(dqn_trained, 'trace2017_2.csv', 3)"
   ]
  },
  {
   "cell_type": "code",
   "execution_count": null,
   "metadata": {},
   "outputs": [],
   "source": [
    "from kube_mm_scheduler.model.dqn import DQN\n",
    "\n",
    "dqn_trained = train_w_model(dqn_trained, 'trace2017_3.csv', 3)"
   ]
  },
  {
   "cell_type": "code",
   "execution_count": null,
   "metadata": {},
   "outputs": [],
   "source": [
    "from kube_mm_scheduler.model.dqn import DQN\n",
    "\n",
    "dqn_trained = train_w_model(dqn_trained, 'trace2017_4.csv', 3)"
   ]
  },
  {
   "cell_type": "code",
   "execution_count": null,
   "metadata": {},
   "outputs": [],
   "source": [
    "from kube_mm_scheduler.model.dqn import DQN\n",
    "\n",
    "dqn_trained = train_w_model(dqn_trained, 'trace2017_5.csv', 3)"
   ]
  },
  {
   "cell_type": "code",
   "execution_count": null,
   "metadata": {},
   "outputs": [],
   "source": []
  },
  {
   "cell_type": "code",
   "execution_count": null,
   "metadata": {},
   "outputs": [],
   "source": []
  },
  {
   "cell_type": "code",
   "execution_count": null,
   "metadata": {},
   "outputs": [],
   "source": []
  },
  {
   "cell_type": "code",
   "execution_count": null,
   "metadata": {},
   "outputs": [],
   "source": []
  },
  {
   "cell_type": "code",
   "execution_count": 7,
   "metadata": {},
   "outputs": [
    {
     "name": "stdout",
     "output_type": "stream",
     "text": [
      "output: tensor([[-94.0842, -94.1244, -94.1796, -94.2582, -94.1508, -94.2033]],\n",
      "       grad_fn=<AddmmBackward0>)\n",
      "action: tensor([[0]])\n",
      "label: tensor([4.])\n",
      "output: tensor([[-72.8661, -72.8953, -72.9396, -72.9943, -72.9148, -72.9529]],\n",
      "       grad_fn=<AddmmBackward0>)\n",
      "action: tensor([[0]])\n",
      "label: tensor([1.])\n"
     ]
    }
   ],
   "source": [
    "# Test dqn_trained model with data_1.csv\n",
    "\n",
    "data_path = os.path.join(base_path, \"dataset\", \"data_1.csv\")\n",
    "with open(data_path, 'r') as f:\n",
    "    data = f.readlines()\n",
    "    data = [line.strip().split(\",\") for line in data]\n",
    "    total = len(data)\n",
    "\n",
    "    for line in data:\n",
    "        # Change the type of each element to float\n",
    "        line = [float(elem) for elem in line]\n",
    "        input1 = line[:10]\n",
    "        input2 = line[10:12]\n",
    "        label = int(line[-1])\n",
    "\n",
    "        input1 = torch.tensor(input1, dtype=torch.float32)\n",
    "        input2 = torch.tensor(input2, dtype=torch.float32)\n",
    "        label = torch.tensor(label, dtype=torch.float32)\n",
    "\n",
    "        input1 = input1.unsqueeze(0)\n",
    "        input2 = input2.unsqueeze(0)\n",
    "        label = label.unsqueeze(0)\n",
    "\n",
    "        output = dqn_trained(input1, input2)\n",
    "        action = output.max(1)[1].view(1, 1)\n",
    "        print(f\"output: {output}\")\n",
    "        print(f\"action: {action}\")\n",
    "        print(f\"label: {label}\")\n",
    "\n",
    "        input(\"Press Enter to continue...\")"
   ]
  },
  {
   "cell_type": "code",
   "execution_count": 15,
   "metadata": {},
   "outputs": [
    {
     "data": {
      "image/png": "[encoded data removed]",
      "text/plain": [
       "<Figure size 640x480 with 1 Axes>"
      ]
     },
     "metadata": {},
     "output_type": "display_data"
    },
    {
     "name": "stderr",
     "output_type": "stream",
     "text": [
      "100%|██████████| 1000/1000 [49:01<00:00,  2.94s/it]\n"
     ]
    }
   ],
   "source": [
    "from net1 import Net1\n",
    "\n",
    "net1 = Net1(False)\n",
    "\n",
    "train_w_model(net1, 'scenario-5l-5m-1000p-30m.csv', False)"
   ]
  },
  {
   "cell_type": "code",
   "execution_count": 16,
   "metadata": {},
   "outputs": [
    {
     "data": {
      "image/png": "[encoded data removed]",
      "text/plain": [
       "<Figure size 640x480 with 1 Axes>"
      ]
     },
     "metadata": {},
     "output_type": "display_data"
    },
    {
     "name": "stderr",
     "output_type": "stream",
     "text": [
      "100%|██████████| 1000/1000 [48:37<00:00,  2.92s/it]\n"
     ]
    }
   ],
   "source": [
    "from net1 import Net1\n",
    "\n",
    "net1 = Net1(True)\n",
    "\n",
    "train_w_model(net1, 'scenario-5l-5m-1000p-30m.csv')"
   ]
  },
  {
   "cell_type": "code",
   "execution_count": 7,
   "metadata": {},
   "outputs": [
    {
     "data": {
      "image/png": "[encoded data removed]",
      "text/plain": [
       "<Figure size 640x480 with 1 Axes>"
      ]
     },
     "metadata": {},
     "output_type": "display_data"
    },
    {
     "name": "stderr",
     "output_type": "stream",
     "text": [
      "100%|██████████| 500/500 [41:31<00:00,  4.98s/it]\n"
     ]
    }
   ],
   "source": [
    "from kube_mm_scheduler.modeldqn import DQN\n",
    "\n",
    "dqn_2 = DQN(True, False)\n",
    "\n",
    "dqn_2 = train_w_model(dqn_2, 'scenario-5l-5m-1000p-30m.csv', 500)"
   ]
  },
  {
   "cell_type": "code",
   "execution_count": 8,
   "metadata": {},
   "outputs": [
    {
     "data": {
      "image/png": "[encoded data removed]",
      "text/plain": [
       "<Figure size 640x480 with 1 Axes>"
      ]
     },
     "metadata": {},
     "output_type": "display_data"
    },
    {
     "name": "stderr",
     "output_type": "stream",
     "text": [
      "100%|██████████| 500/500 [39:27<00:00,  4.74s/it]\n"
     ]
    }
   ],
   "source": [
    "from dqn import DQN\n",
    "\n",
    "dqn_3 = DQN(False, False)\n",
    "\n",
    "dqn_3 = train_w_model(dqn_3, 'scenario-5l-5m-1000p-30m.csv', 500)"
   ]
  },
  {
   "cell_type": "code",
   "execution_count": 12,
   "metadata": {},
   "outputs": [
    {
     "data": {
      "image/png": "[encoded data removed]",
      "text/plain": [
       "<Figure size 640x480 with 1 Axes>"
      ]
     },
     "metadata": {},
     "output_type": "display_data"
    },
    {
     "name": "stderr",
     "output_type": "stream",
     "text": [
      "100%|██████████| 1000/1000 [1:32:27<00:00,  5.55s/it]\n"
     ]
    }
   ],
   "source": [
    "train('scenario-5l-5m-1000p-30m.csv', False)"
   ]
  },
  {
   "cell_type": "code",
   "execution_count": 13,
   "metadata": {},
   "outputs": [
    {
     "data": {
      "image/png": "[encoded data removed]",
      "text/plain": [
       "<Figure size 640x480 with 1 Axes>"
      ]
     },
     "metadata": {},
     "output_type": "display_data"
    },
    {
     "name": "stderr",
     "output_type": "stream",
     "text": [
      "100%|██████████| 1000/1000 [1:22:53<00:00,  4.97s/it]\n"
     ]
    }
   ],
   "source": [
    "train('scenario-3l-10m-1000p-30m.csv', True)"
   ]
  },
  {
   "cell_type": "code",
   "execution_count": 14,
   "metadata": {},
   "outputs": [
    {
     "data": {
      "image/png": "[encoded data removed]",
      "text/plain": [
       "<Figure size 640x480 with 1 Axes>"
      ]
     },
     "metadata": {},
     "output_type": "display_data"
    },
    {
     "name": "stderr",
     "output_type": "stream",
     "text": [
      "100%|██████████| 1000/1000 [1:50:41<00:00,  6.64s/it]\n"
     ]
    }
   ],
   "source": [
    "train('scenario-3l-10m-1000p-30m.csv', False)"
   ]
  },
  {
   "cell_type": "code",
   "execution_count": 15,
   "metadata": {},
   "outputs": [
    {
     "data": {
      "image/png": "[encoded data removed]",
      "text/plain": [
       "<Figure size 640x480 with 1 Axes>"
      ]
     },
     "metadata": {},
     "output_type": "display_data"
    },
    {
     "name": "stderr",
     "output_type": "stream",
     "text": [
      "100%|██████████| 1000/1000 [1:17:57<00:00,  4.68s/it]\n"
     ]
    }
   ],
   "source": [
    "train('scenario-10l-3m-1000p-30m.csv', True)"
   ]
  },
  {
   "cell_type": "code",
   "execution_count": 16,
   "metadata": {},
   "outputs": [
    {
     "data": {
      "image/png": "[encoded data removed]",
      "text/plain": [
       "<Figure size 640x480 with 1 Axes>"
      ]
     },
     "metadata": {},
     "output_type": "display_data"
    },
    {
     "name": "stderr",
     "output_type": "stream",
     "text": [
      "100%|██████████| 1000/1000 [1:54:36<00:00,  6.88s/it]\n"
     ]
    }
   ],
   "source": [
    "train('scenario-10l-3m-1000p-30m.csv', False)"
   ]
  },
  {
   "attachments": {},
   "cell_type": "markdown",
   "metadata": {},
   "source": [
    "### Test"
   ]
  },
  {
   "cell_type": "code",
   "execution_count": 2,
   "metadata": {},
   "outputs": [],
   "source": [
    "sample1 = [[0.99, 0.90, 0.80, 0.80, 0.95, 0.95, 0.90, 0.85, 0.0, 0.0, 0.0, 0.0]] # Ideal action : 0\n",
    "sample2 = [[0.99, 0.90, 0.80, 0.80, 0.95, 0.95, 0.90, 0.85, 0.0, 0.0, 0.6, 0.7]] # Ideal action : 5\n",
    "sample3 = [[0.99, 0.40, 0.20, 0.98, 0.80, 0.80, 0.20, 0.20, 0.70, 0.70, 0.5, 0.5]] # Ideal action : 4"
   ]
  },
  {
   "cell_type": "code",
   "execution_count": 3,
   "metadata": {},
   "outputs": [
    {
     "name": "stdout",
     "output_type": "stream",
     "text": [
      "Base Path: /Users/swkim/Documents/coding/thesis/PROMES_colab/notebook/..\n"
     ]
    },
    {
     "name": "stderr",
     "output_type": "stream",
     "text": [
      "/Users/swkim/opt/anaconda3/envs/kube-gym/lib/python3.8/site-packages/tqdm/auto.py:21: TqdmWarning: IProgress not found. Please update jupyter and ipywidgets. See https://ipywidgets.readthedocs.io/en/stable/user_install.html\n",
      "  from .autonotebook import tqdm as notebook_tqdm\n"
     ]
    },
    {
     "name": "stdout",
     "output_type": "stream",
     "text": [
      "Base Path: /Users/swkim/Documents/coding/thesis/PROMES_colab/notebook/..\n",
      "Base Path: /Users/swkim/Documents/coding/thesis/PROMES_colab/notebook\n"
     ]
    }
   ],
   "source": [
    "from kube_mm_scheduler.model.promes import Model as Promes\n",
    "\n",
    "promes = Promes(True, True)"
   ]
  },
  {
   "cell_type": "code",
   "execution_count": 4,
   "metadata": {},
   "outputs": [
    {
     "name": "stdout",
     "output_type": "stream",
     "text": [
      "Model(\n",
      "  (net5_): Net5_(\n",
      "    (net3_): Net3_(\n",
      "      (fc1_1): Linear(in_features=10, out_features=16, bias=True)\n",
      "      (fc1_2): Linear(in_features=2, out_features=16, bias=True)\n",
      "      (fc2): Linear(in_features=32, out_features=16, bias=True)\n",
      "      (fc3): Linear(in_features=16, out_features=16, bias=True)\n",
      "      (fc4): None\n",
      "    )\n",
      "    (fc1_3_1): Linear(in_features=2, out_features=16, bias=True)\n",
      "    (fc1_3_2): Linear(in_features=2, out_features=16, bias=True)\n",
      "    (fc1_3_3): Linear(in_features=2, out_features=16, bias=True)\n",
      "    (fc1_3_4): Linear(in_features=2, out_features=16, bias=True)\n",
      "    (fc1_3_5): Linear(in_features=2, out_features=16, bias=True)\n",
      "    (fc2_1): Linear(in_features=32, out_features=16, bias=True)\n",
      "    (fc3_1): None\n",
      "    (fc2_2): Linear(in_features=32, out_features=16, bias=True)\n",
      "    (fc3_2): None\n",
      "    (fc2_3): Linear(in_features=32, out_features=16, bias=True)\n",
      "    (fc3_3): None\n",
      "    (fc2_4): Linear(in_features=32, out_features=16, bias=True)\n",
      "    (fc3_4): None\n",
      "    (fc2_5): Linear(in_features=32, out_features=16, bias=True)\n",
      "    (fc3_5): None\n",
      "  )\n",
      "  (fc3): Linear(in_features=80, out_features=64, bias=True)\n",
      "  (fc4): Linear(in_features=64, out_features=32, bias=True)\n",
      "  (fc5): Linear(in_features=32, out_features=16, bias=True)\n",
      "  (fc6): Linear(in_features=16, out_features=6, bias=True)\n",
      ")\n"
     ]
    }
   ],
   "source": [
    "print(promes)"
   ]
  },
  {
   "cell_type": "code",
   "execution_count": 5,
   "metadata": {},
   "outputs": [
    {
     "name": "stdout",
     "output_type": "stream",
     "text": [
      "Base Path: /Users/swkim/Documents/coding/thesis/PROMES_colab/notebook/..\n"
     ]
    }
   ],
   "source": [
    "import torch\n",
    "import torch.nn as nn\n",
    "import torch.nn.functional as F\n",
    "\n",
    "from kube_mm_scheduler.model.net1 import Model as Net1\n",
    "from kube_mm_scheduler.model.net3 import Model as Net3\n",
    "from kube_mm_scheduler.model.net5 import Model as Net5\n",
    "from kube_mm_scheduler.model.promes import Model as Promes\n",
    "\n",
    "net1 = Net1(True, True)\n",
    "net3 = Net3(True, True)\n",
    "promes = Promes(True, True)\n",
    "\n",
    "# predict the score for each action\n",
    "def predict_score(data, model=promes):\n",
    "    print(f\"Sample : {data}\")\n",
    "    model.eval()\n",
    "\n",
    "    if not torch.is_tensor(data):\n",
    "        data = torch.tensor(data, dtype=torch.float32)\n",
    "\n",
    "    if len(data.shape) == 1:\n",
    "        data = data.unsqueeze(0)\n",
    "\n",
    "    data1 = data[:, :10]\n",
    "    data2 = data[:, 10:]\n",
    "    output = model(data1, data2)\n",
    "    # Softmax\n",
    "    output = F.softmax(output, dim=1)\n",
    "\n",
    "    decision = output.max(1)[1].item()\n",
    "    if decision == 0:\n",
    "        print(\"No action\")\n",
    "    else:\n",
    "        print(f\"Action: Node {decision}\")\n",
    "\n",
    "    return output"
   ]
  },
  {
   "cell_type": "code",
   "execution_count": 10,
   "metadata": {},
   "outputs": [
    {
     "name": "stdout",
     "output_type": "stream",
     "text": [
      "Sample : [[0.99, 0.9, 0.8, 0.8, 0.95, 0.95, 0.9, 0.85, 0.0, 0.0, 0.0, 0.0]]\n",
      "No action\n"
     ]
    },
    {
     "data": {
      "text/plain": [
       "tensor([[1.0000e+00, 4.3440e-44, 7.4269e-44, 7.9874e-44, 5.3249e-44, 7.1466e-44]])"
      ]
     },
     "execution_count": 10,
     "metadata": {},
     "output_type": "execute_result"
    }
   ],
   "source": [
    "predict_score(sample1, net3)"
   ]
  },
  {
   "cell_type": "code",
   "execution_count": 11,
   "metadata": {},
   "outputs": [
    {
     "name": "stdout",
     "output_type": "stream",
     "text": [
      "Sample : [[0.99, 0.9, 0.8, 0.8, 0.95, 0.95, 0.9, 0.85, 0.0, 0.0, 0.6, 0.7]]\n",
      "Action: Node 5\n"
     ]
    },
    {
     "data": {
      "text/plain": [
       "tensor([[6.0083e-30, 4.7169e-19, 1.2441e-12, 2.5197e-22, 2.3335e-17, 1.0000e+00]])"
      ]
     },
     "execution_count": 11,
     "metadata": {},
     "output_type": "execute_result"
    }
   ],
   "source": [
    "predict_score(sample2, net3)"
   ]
  },
  {
   "cell_type": "code",
   "execution_count": 12,
   "metadata": {},
   "outputs": [
    {
     "name": "stdout",
     "output_type": "stream",
     "text": [
      "Sample : [[0.99, 0.4, 0.2, 0.98, 0.8, 0.8, 0.2, 0.2, 0.7, 0.7, 0.5, 0.5]]\n",
      "Action: Node 4\n"
     ]
    },
    {
     "data": {
      "text/plain": [
       "tensor([[1.0313e-28, 4.9154e-24, 9.6637e-26, 2.2801e-13, 1.0000e+00, 2.7532e-11]])"
      ]
     },
     "execution_count": 12,
     "metadata": {},
     "output_type": "execute_result"
    }
   ],
   "source": [
    "predict_score(sample3, net3)"
   ]
  },
  {
   "cell_type": "code",
   "execution_count": 2,
   "metadata": {},
   "outputs": [
    {
     "data": {
      "text/plain": [
       "array([0., 0., 0., 0., 0., 0., 0., 0., 0., 0., 0., 0.], dtype=float32)"
      ]
     },
     "execution_count": 2,
     "metadata": {},
     "output_type": "execute_result"
    }
   ],
   "source": [
    "#Get the state from the real environment with trace2017_1.csv\n",
    "\n",
    "import gym\n",
    "from kube_sim_gym import *\n",
    "from kube_sim_gym.envs.sim_kube_env import SimKubeEnv\n",
    "\n",
    "env = gym.make('SimKubeEnv-v0', scenario_file='trace2017_1.csv')\n",
    "env.reset()\n",
    "\n",
    "state = env.get_state()\n",
    "state"
   ]
  },
  {
   "cell_type": "code",
   "execution_count": 3,
   "metadata": {},
   "outputs": [
    {
     "data": {
      "text/plain": [
       "(array([0.02, 0.04, 0.  , 0.  , 0.  , 0.  , 0.  , 0.  , 0.  , 0.  , 0.  ,\n",
       "        0.  ], dtype=float32),\n",
       " 0.0,\n",
       " False,\n",
       " {'last_pod': <kube_sim_gym.components.pod.Pod at 0x7f84f1652a30>,\n",
       "  'is_scheduled': True})"
      ]
     },
     "execution_count": 3,
     "metadata": {},
     "output_type": "execute_result"
    }
   ],
   "source": [
    "env.step(1)"
   ]
  },
  {
   "cell_type": "code",
   "execution_count": 4,
   "metadata": {},
   "outputs": [],
   "source": [
    "import copy\n",
    "env2 = copy.copy(env)"
   ]
  },
  {
   "cell_type": "code",
   "execution_count": 5,
   "metadata": {},
   "outputs": [
    {
     "data": {
      "text/plain": [
       "(array([0.02, 0.04, 0.02, 0.04, 0.  , 0.  , 0.  , 0.  , 0.  , 0.  , 0.  ,\n",
       "        0.  ], dtype=float32),\n",
       " 0.2,\n",
       " False,\n",
       " {'last_pod': <kube_sim_gym.components.pod.Pod at 0x7f84f1652b80>,\n",
       "  'is_scheduled': True})"
      ]
     },
     "execution_count": 5,
     "metadata": {},
     "output_type": "execute_result"
    }
   ],
   "source": [
    "env2.step(2)"
   ]
  },
  {
   "cell_type": "code",
   "execution_count": 6,
   "metadata": {},
   "outputs": [
    {
     "data": {
      "text/plain": [
       "array([0.02, 0.04, 0.02, 0.04, 0.  , 0.  , 0.  , 0.  , 0.  , 0.  , 0.  ,\n",
       "       0.  ], dtype=float32)"
      ]
     },
     "execution_count": 6,
     "metadata": {},
     "output_type": "execute_result"
    }
   ],
   "source": [
    "env.get_state()"
   ]
  },
  {
   "cell_type": "code",
   "execution_count": null,
   "metadata": {},
   "outputs": [],
   "source": []
  }
 ],
 "metadata": {
  "kernelspec": {
   "display_name": "kube-gym",
   "language": "python",
   "name": "python3"
  },
  "language_info": {
   "codemirror_mode": {
    "name": "ipython",
    "version": 3
   },
   "file_extension": ".py",
   "mimetype": "text/x-python",
   "name": "python",
   "nbconvert_exporter": "python",
   "pygments_lexer": "ipython3",
   "version": "3.8.16"
  },
  "orig_nbformat": 4
 },
 "nbformat": 4,
 "nbformat_minor": 2
}
